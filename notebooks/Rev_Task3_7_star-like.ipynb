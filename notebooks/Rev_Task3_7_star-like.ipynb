{
 "cells": [
  {
   "cell_type": "markdown",
   "id": "f7c4b4fe-1218-4fe7-9c8a-90051c281dd5",
   "metadata": {},
   "source": [
    "# Task 3 - Epithelial to Mesenchymal (EMT) score from the Hallmark EMT or Epithelial to Mesenchymal Plasticity\n",
    "This notebook analyses the Epithelial to Mesenchymal (EMT) score from the Hallmark EMT or Epithelial to Mesenchymal Plasticity score from [https://www.science.org/doi/10.1126/sciadv.abi7640](https://www.science.org/doi/10.1126/sciadv.abi7640) as well as HALLMARK.\n",
    "\n",
    "This notebook is based on the single-cell best practices book (https://github.com/theislab/single-cell-best-practices/). For further explanations of the applied methods please refer to above source."
   ]
  },
  {
   "cell_type": "markdown",
   "id": "d541a755-1aae-4f82-b061-310c61134b60",
   "metadata": {
    "pycharm": {
     "name": "#%% md\n"
    }
   },
   "source": [
    "# Gene set enrichment and pathway analysis "
   ]
  },
  {
   "cell_type": "markdown",
   "id": "5df9840d-7dd5-4511-bbdb-84eef6016246",
   "metadata": {},
   "source": [
    "### Prepare and explore the data"
   ]
  },
  {
   "cell_type": "code",
   "execution_count": null,
   "id": "b4bb6ebb-94fc-4fe3-bc8e-7d48001135ce",
   "metadata": {},
   "outputs": [],
   "source": [
    "import os\n",
    "os.environ['R_HOME'] = '/home/icb/till.richter/anaconda3/envs/scib-pipeline-R4.0/lib/R'"
   ]
  },
  {
   "cell_type": "code",
   "execution_count": null,
   "id": "4cd17aba-387a-40fc-993c-5e744c21be5d",
   "metadata": {
    "pycharm": {
     "name": "#%%\n"
    }
   },
   "outputs": [],
   "source": [
    "import scanpy as sc\n",
    "import anndata as ad\n",
    "import numpy as np\n",
    "import pandas as pd\n",
    "import anndata as ad\n",
    "import gdown\n",
    "import anndata2ri\n",
    "import rpy2\n",
    "from rpy2.robjects import r\n",
    "import random\n",
    "import session_info\n",
    "\n",
    "anndata2ri.activate()"
   ]
  },
  {
   "cell_type": "code",
   "execution_count": null,
   "id": "aa97c072-e031-4328-9bc4-38a69038677d",
   "metadata": {
    "pycharm": {
     "name": "#%%\n"
    }
   },
   "outputs": [],
   "source": [
    "sc.settings.set_figure_params(dpi=200, frameon=False)\n",
    "sc.set_figure_params(dpi=200)\n",
    "sc.set_figure_params(figsize=(4, 4))"
   ]
  },
  {
   "cell_type": "code",
   "execution_count": null,
   "id": "c55caaea-d768-4530-8067-01f2f49ff648",
   "metadata": {
    "pycharm": {
     "name": "#%%\n"
    }
   },
   "outputs": [],
   "source": [
    "%load_ext rpy2.ipython"
   ]
  },
  {
   "cell_type": "code",
   "execution_count": null,
   "id": "89331011-4629-49d1-a105-c309f91ab65f",
   "metadata": {},
   "outputs": [],
   "source": [
    "!python -m rpy2.situation"
   ]
  },
  {
   "cell_type": "code",
   "execution_count": null,
   "id": "6a5824ff-a8b1-4aea-8e4c-9bc67d1914cc",
   "metadata": {
    "pycharm": {
     "name": "#%%\n"
    }
   },
   "outputs": [],
   "source": [
    "%%R\n",
    "suppressPackageStartupMessages({\n",
    "    library(SingleCellExperiment)\n",
    "    library(fgsea)\n",
    "    library(AUCell)\n",
    "    library(ggplot2)\n",
    "})"
   ]
  },
  {
   "cell_type": "code",
   "execution_count": null,
   "id": "e1d71fd4-ac2d-41ac-bb9f-6af2f965468f",
   "metadata": {},
   "outputs": [],
   "source": [
    "adata_read = sc.read_h5ad('../data/adata/processed_adata7.h5ad')\n",
    "adata_read.obs"
   ]
  },
  {
   "cell_type": "code",
   "execution_count": null,
   "id": "40c03f34-3324-4c02-8681-a9542e692120",
   "metadata": {
    "pycharm": {
     "name": "#%%\n"
    }
   },
   "outputs": [],
   "source": [
    "adata = adata_read.copy()"
   ]
  },
  {
   "cell_type": "code",
   "execution_count": null,
   "id": "351b6333-0c3c-4123-9e8e-e760f9c325c0",
   "metadata": {
    "pycharm": {
     "name": "#%%\n"
    }
   },
   "outputs": [],
   "source": [
    "adata.layers['counts'] = adata.X"
   ]
  },
  {
   "cell_type": "markdown",
   "id": "0f7f988e-c6e4-4331-924d-58add9781c29",
   "metadata": {
    "pycharm": {
     "name": "#%% md\n"
    }
   },
   "source": [
    "Let's keep a copy of the full dataset for the subsequent analyses before we subset on highly variable genes:"
   ]
  },
  {
   "cell_type": "code",
   "execution_count": null,
   "id": "348bad33-f02c-40f4-ab4f-9762f4e60fdf",
   "metadata": {
    "pycharm": {
     "name": "#%%\n"
    }
   },
   "outputs": [],
   "source": [
    "adata_ = adata.copy()"
   ]
  },
  {
   "cell_type": "code",
   "execution_count": null,
   "id": "4231f4fb-add9-4b9c-9187-627a9085197c",
   "metadata": {
    "pycharm": {
     "name": "#%%\n"
    }
   },
   "outputs": [],
   "source": [
    "sc.pp.highly_variable_genes(\n",
    "    adata_,\n",
    "    n_top_genes=16000,\n",
    "    flavor=\"seurat_v3\",\n",
    "    subset=True,\n",
    "    layer=\"counts\"\n",
    ")"
   ]
  },
  {
   "cell_type": "code",
   "execution_count": null,
   "id": "39c7e1b5-88f7-4581-a2b7-246bf0c9ae37",
   "metadata": {},
   "outputs": [],
   "source": [
    "adata.obs['group'] = adata.obs['louvain_r0.4'].astype('string')"
   ]
  },
  {
   "cell_type": "code",
   "execution_count": null,
   "id": "191d3f37-5103-426f-afda-a6ad5c8f08e7",
   "metadata": {
    "pycharm": {
     "name": "#%%\n"
    }
   },
   "outputs": [],
   "source": [
    "# find DE genes by t-test\n",
    "adata.uns['log1p'][\"base\"] = None\n",
    "sc.tl.rank_genes_groups(adata, 'group', method='t-test', key_added = \"t-test\")"
   ]
  },
  {
   "cell_type": "markdown",
   "id": "e8c6f85c-ea35-481f-9ebe-71813d672707",
   "metadata": {
    "pycharm": {
     "name": "#%% md\n"
    }
   },
   "source": [
    "### Get the Pathway and map it to mm"
   ]
  },
  {
   "cell_type": "code",
   "execution_count": null,
   "id": "21bee1d3-1fd4-40cf-b90f-956e519a839b",
   "metadata": {},
   "outputs": [],
   "source": [
    "from pyorthomap import FindOrthologs \n",
    "hs2mm = FindOrthologs(\n",
    "          host = 'http://www.ensembl.org',\n",
    "          mart = 'ENSEMBL_MART_ENSEMBL',\n",
    "          from_dataset = 'hsapiens_gene_ensembl',\n",
    "          to_dataset = 'mmusculus_gene_ensembl',\n",
    "          from_filters = 'hgnc_symbol',\n",
    "          from_values = ['TP53', 'TERT'],\n",
    "          to_attributes = ['external_gene_name'],\n",
    "          to_homolog_attribute = 'mmusculus_homolog_ensembl_gene',\n",
    "          from_gene_id_name = 'human_ensembl_gene_id',\n",
    "          to_gene_id_name = 'mouse_ensembl_gene_id'\n",
    "    )\n",
    "    \n",
    "hs2mm.map()"
   ]
  },
  {
   "cell_type": "markdown",
   "id": "642fe0eb-dbb4-409c-9f9a-b8fad76277f6",
   "metadata": {},
   "source": [
    "### S1 Pathway"
   ]
  },
  {
   "cell_type": "code",
   "execution_count": null,
   "id": "19119c7f-d2cd-4f65-b554-fbbf63d7cebe",
   "metadata": {},
   "outputs": [],
   "source": [
    "%%R\n",
    "library(readxl)\n",
    "my_pathways_s1=read_excel('../data/EMT_gene_sets/sciadv.abi7640_table_s1.xlsx')\n",
    "my_pathways_s1=as.list(my_pathways_s1)"
   ]
  },
  {
   "cell_type": "code",
   "execution_count": null,
   "id": "ddef7e30-1bd0-46a9-b121-7ff46e445281",
   "metadata": {},
   "outputs": [],
   "source": [
    "df = pd.read_excel('../data/EMT_gene_sets/sciadv.abi7640_table_s1.xlsx') # can also index sheet by name or fetch all sheets\n",
    "hs_pathway_genes_s1 = np.array(df['Conserved_EMP_Signature'].tolist())\n",
    "len(hs_pathway_genes_s1)"
   ]
  },
  {
   "cell_type": "code",
   "execution_count": null,
   "id": "654f3867-360d-49e3-a3cd-8332c8ceb99b",
   "metadata": {},
   "outputs": [],
   "source": [
    "from pyorthomap import findOrthologsMmHs, findOrthologsHsMm\n",
    "orthologies_hsmm = findOrthologsHsMm(from_filters = 'hgnc_symbol',\n",
    "                  from_values = hs_pathway_genes_s1).map()\n",
    "                  # from_values = [list(stats_df.index)]).map() # [stats.gene.names]).map()"
   ]
  },
  {
   "cell_type": "code",
   "execution_count": null,
   "id": "f2b8b021-647e-4270-a247-b5d92a372f17",
   "metadata": {},
   "outputs": [],
   "source": [
    "my_pathways_s1 = orthologies_hsmm['external_gene_name'].tolist()\n",
    "my_pathways_s1[:10]"
   ]
  },
  {
   "cell_type": "code",
   "execution_count": null,
   "id": "716799d4-2c9e-416d-901c-7bb451d8edd5",
   "metadata": {},
   "outputs": [],
   "source": [
    "%R -i my_pathways_s1"
   ]
  },
  {
   "cell_type": "markdown",
   "id": "ae2e48b4-96ed-47c3-ab29-4ced2df433c3",
   "metadata": {},
   "source": [
    "## S2 Pathway"
   ]
  },
  {
   "cell_type": "code",
   "execution_count": null,
   "id": "e90e69e0-712b-4ca4-95c8-36ef524c40d7",
   "metadata": {},
   "outputs": [],
   "source": [
    "%%R\n",
    "library(readxl)\n",
    "my_pathways_s2=read_excel('../data/EMT_gene_sets/sciadv.abi7640_table_s2.xlsx')\n",
    "my_pathways_s2=as.list(my_pathways_s2)\n",
    "# my_pathways"
   ]
  },
  {
   "cell_type": "code",
   "execution_count": null,
   "id": "7dc3e2eb-7405-4141-a7f6-d6150425afa1",
   "metadata": {},
   "outputs": [],
   "source": [
    "df = pd.read_excel('../data/EMT_gene_sets/sciadv.abi7640_table_s2.xlsx') # can also index sheet by name or fetch all sheets\n",
    "hs_pathway_genes_s2 = np.array(df['Malignant_specific_EMP'].tolist())\n",
    "len(hs_pathway_genes_s2)"
   ]
  },
  {
   "cell_type": "code",
   "execution_count": null,
   "id": "d019d3ee-1eb6-4ed2-a129-22a5b4e18e1f",
   "metadata": {},
   "outputs": [],
   "source": [
    "from pyorthomap import findOrthologsMmHs, findOrthologsHsMm\n",
    "orthologies_hsmm = findOrthologsHsMm(from_filters = 'hgnc_symbol',\n",
    "                  from_values = hs_pathway_genes_s2).map()\n",
    "                  # from_values = [list(stats_df.index)]).map() # [stats.gene.names]).map()"
   ]
  },
  {
   "cell_type": "code",
   "execution_count": null,
   "id": "a53f024f-f05f-4a00-af70-2aa06d2c4b08",
   "metadata": {},
   "outputs": [],
   "source": [
    "my_pathways_s2 = orthologies_hsmm['external_gene_name'].tolist()\n",
    "my_pathways_s2[:10]"
   ]
  },
  {
   "cell_type": "code",
   "execution_count": null,
   "id": "e87d3726-9dc3-4326-9807-50de45798fe8",
   "metadata": {},
   "outputs": [],
   "source": [
    "%R -i my_pathways_s2"
   ]
  },
  {
   "cell_type": "markdown",
   "id": "8d76de79-a83a-4191-9045-e20f594decca",
   "metadata": {},
   "source": [
    "## Hallmark EMP Pathway"
   ]
  },
  {
   "cell_type": "code",
   "execution_count": null,
   "id": "a9bb3cb0-0beb-43c3-a053-82a4d5ca4e19",
   "metadata": {},
   "outputs": [],
   "source": [
    "%%R\n",
    "all_pathways <- gmtPathways('../data/Hallmark/h.all.v7.5.1.symbols.gmt')\n",
    "my_pathways_hallmark_ <- all_pathways['HALLMARK_EPITHELIAL_MESENCHYMAL_TRANSITION']\n",
    "\n",
    "# Define the file name that will be deleted\n",
    "fn <- '../data/EMT_gene_sets/hallmark_emt.csv'\n",
    "# Check its existence\n",
    "if (file.exists(fn)) {\n",
    "  # Delete file if it exists\n",
    "  file.remove(fn)\n",
    "}\n",
    "\n",
    "lapply(my_pathways_hallmark_, function(x) write.table( data.frame(x), fn, append=T, sep=','))\n",
    "my_pathways_hallmark_"
   ]
  },
  {
   "cell_type": "code",
   "execution_count": null,
   "id": "fb0cadb2-bdb2-458a-b8fd-4f2d0b4023a6",
   "metadata": {},
   "outputs": [],
   "source": [
    "hs_pathway_genes_hallmark = pd.read_csv('../data/EMT_gene_sets/hallmark_emt.csv')['x'].tolist()"
   ]
  },
  {
   "cell_type": "code",
   "execution_count": null,
   "id": "f5048ad1-a3db-481d-a347-0b857cab39bd",
   "metadata": {},
   "outputs": [],
   "source": [
    "from pyorthomap import findOrthologsMmHs, findOrthologsHsMm\n",
    "orthologies_hsmm = findOrthologsHsMm(from_filters = 'hgnc_symbol',\n",
    "                  from_values = hs_pathway_genes_hallmark).map()\n",
    "                  # from_values = [list(stats_df.index)]).map() # [stats.gene.names]).map()"
   ]
  },
  {
   "cell_type": "code",
   "execution_count": null,
   "id": "ef6c16ab-e226-475f-8099-53fcbefd7e58",
   "metadata": {},
   "outputs": [],
   "source": [
    "my_pathways_hallmark = orthologies_hsmm['external_gene_name'].tolist()\n",
    "my_pathways_hallmark[:10]"
   ]
  },
  {
   "cell_type": "code",
   "execution_count": null,
   "id": "d5799173-60b0-45da-a8c0-3a4d9387770a",
   "metadata": {},
   "outputs": [],
   "source": [
    "%R -i my_pathways_hallmark"
   ]
  },
  {
   "cell_type": "markdown",
   "id": "01060758-65f6-4e5a-a6fa-e547c589a2ed",
   "metadata": {
    "pycharm": {
     "name": "#%% md\n"
    }
   },
   "source": [
    "### Cell-level pathway activity scoring using AUCell"
   ]
  },
  {
   "cell_type": "code",
   "execution_count": null,
   "id": "fc48a36b-5a51-4c44-b732-0b9226d942ed",
   "metadata": {
    "scrolled": true,
    "tags": []
   },
   "outputs": [],
   "source": [
    "# Ignore this error. It occurs for some unknown reason, but adata is imported and you can continue to run the next cells\n",
    "%R -i adata"
   ]
  },
  {
   "cell_type": "code",
   "execution_count": null,
   "id": "eafdec8a-182c-4fd3-919a-dc50b549a0df",
   "metadata": {
    "pycharm": {
     "name": "#%%\n"
    }
   },
   "outputs": [],
   "source": [
    "%%R\n",
    "# Bioconductor 3.15 and R 4.2.0\n",
    "# adata_aucell <- AUCell_run(adata_ , pathways)\n",
    "\n",
    "cells_rankings <- AUCell_buildRankings(adata, plotStats=FALSE)\n",
    "cells_AUC_s1 <- AUCell_calcAUC(my_pathways_s1, cells_rankings)\n",
    "cells_AUC_s2 <- AUCell_calcAUC(my_pathways_s2, cells_rankings)\n",
    "cells_AUC_hallmark <- AUCell_calcAUC(my_pathways_hallmark, cells_rankings)"
   ]
  },
  {
   "cell_type": "code",
   "execution_count": null,
   "id": "79c2ed4e-1c47-4da3-9f00-4453896c97e0",
   "metadata": {
    "pycharm": {
     "name": "#%%\n"
    }
   },
   "outputs": [],
   "source": [
    "%%R\n",
    "dim(cells_AUC_s1)"
   ]
  },
  {
   "cell_type": "code",
   "execution_count": null,
   "id": "6732d20a-4523-48a9-bac5-243f2e25b890",
   "metadata": {},
   "outputs": [],
   "source": [
    "%%R\n",
    "dim(cells_AUC_s2)"
   ]
  },
  {
   "cell_type": "code",
   "execution_count": null,
   "id": "43c30c52-e499-4e9a-beeb-bc1f10241582",
   "metadata": {},
   "outputs": [],
   "source": [
    "%%R\n",
    "dim(cells_AUC_hallmark)"
   ]
  },
  {
   "cell_type": "code",
   "execution_count": null,
   "id": "f510f748-04b0-4087-86e2-7efc613dd9cd",
   "metadata": {
    "pycharm": {
     "name": "#%%\n"
    }
   },
   "outputs": [],
   "source": [
    "%%R\n",
    "# S1\n",
    "aucell_scores_s1 <- data.frame(cells_AUC_s1@assays@data$AUC)\n",
    "rownames(aucell_scores_s1) <- cells_AUC_s1@NAMES\n",
    "colnames(aucell_scores_s1) <- colnames(adata)\n",
    "# S2\n",
    "aucell_scores_s2 <- data.frame(cells_AUC_s2@assays@data$AUC)\n",
    "rownames(aucell_scores_s2) <- cells_AUC_s2@NAMES\n",
    "colnames(aucell_scores_s2) <- colnames(adata)\n",
    "# HALLMARK\n",
    "aucell_scores_hallmark <- data.frame(cells_AUC_hallmark@assays@data$AUC)\n",
    "rownames(aucell_scores_hallmark) <- cells_AUC_hallmark@NAMES\n",
    "colnames(aucell_scores_hallmark) <- colnames(adata)"
   ]
  },
  {
   "cell_type": "markdown",
   "id": "f1eeeb56-d6c4-46cc-8c9b-b10f42785ecf",
   "metadata": {
    "pycharm": {
     "name": "#%% md\n"
    }
   },
   "source": [
    "Export the rev_results back to python "
   ]
  },
  {
   "cell_type": "code",
   "execution_count": null,
   "id": "0e6160d9-8af5-479c-ae4c-8adf72df900e",
   "metadata": {
    "pycharm": {
     "name": "#%%\n"
    }
   },
   "outputs": [],
   "source": [
    "%%R -o aucell_scores_s1\n",
    "aucell_scores_s1 = aucell_scores_s1"
   ]
  },
  {
   "cell_type": "code",
   "execution_count": null,
   "id": "9631bf5b-1491-4e62-bfd1-791721c3c468",
   "metadata": {},
   "outputs": [],
   "source": [
    "%%R -o aucell_scores_s2 \n",
    "aucell_scores_s2 = aucell_scores_s2"
   ]
  },
  {
   "cell_type": "code",
   "execution_count": null,
   "id": "28dfb9f2-6545-4a02-81d8-871394aa0f4d",
   "metadata": {},
   "outputs": [],
   "source": [
    "%%R -o aucell_scores_hallmark \n",
    "aucell_scores_hallmark = aucell_scores_hallmark"
   ]
  },
  {
   "cell_type": "code",
   "execution_count": null,
   "id": "99763f02-d489-4970-a45e-2ae4dc377e3b",
   "metadata": {
    "pycharm": {
     "name": "#%%\n"
    }
   },
   "outputs": [],
   "source": [
    "aucell_scores_s1 = aucell_scores_s1.T\n",
    "aucell_scores_s2 = aucell_scores_s2.T\n",
    "aucell_scores_hallmark = aucell_scores_hallmark.T"
   ]
  },
  {
   "cell_type": "markdown",
   "id": "686a51f5-2cbf-43b5-8937-a6fdf14401dd",
   "metadata": {
    "pycharm": {
     "name": "#%% md\n"
    }
   },
   "source": [
    "We now add the scores for the interferon-related REACTOME pathways to the anndata object and annotate the activity level of these pathways in each of the cells on the UMAP:"
   ]
  },
  {
   "cell_type": "code",
   "execution_count": null,
   "id": "098f439b-14fa-47ab-9942-d434d926e14e",
   "metadata": {
    "pycharm": {
     "name": "#%%\n"
    }
   },
   "outputs": [],
   "source": [
    "EMP_pathways = ['geneSet']\n",
    "\n",
    "adata.obs['EMP Pathway S1 Cook et. al.'] = aucell_scores_s1[EMP_pathways]\n",
    "adata.obs['EMP Pathway S2 Cook et. al.'] = aucell_scores_s2[EMP_pathways]\n",
    "adata.obs['EMP Pathway\\nHALLMARK_EPITHELIAL_MESENCHYMAL_TRANSITION'] = aucell_scores_hallmark[EMP_pathways]"
   ]
  },
  {
   "cell_type": "code",
   "execution_count": null,
   "id": "309eac09-8cff-4c79-bf67-7be63c518bed",
   "metadata": {},
   "outputs": [],
   "source": [
    "adata.obs['Cluster'] = adata.obs['louvain_r0.4']"
   ]
  },
  {
   "cell_type": "markdown",
   "id": "f68ed99a-775b-41d2-9cce-4cc1e18543fc",
   "metadata": {
    "pycharm": {
     "name": "#%% md\n"
    }
   },
   "source": [
    "Plot the scores on the umap"
   ]
  },
  {
   "cell_type": "code",
   "execution_count": null,
   "id": "db174c86-63ce-4772-9cf5-6b6f440d2119",
   "metadata": {
    "pycharm": {
     "name": "#%%\n"
    }
   },
   "outputs": [],
   "source": [
    "sc.pl.umap(\n",
    "    adata,\n",
    "    color=[\"Cluster\"],\n",
    "    frameon=False,\n",
    "    ncols=2,\n",
    "    wspace = 0.4,\n",
    "    save='/7_star-like/emp/UMAP_OnlyCluster.pdf'\n",
    ")\n",
    "os.rename(\"figures/umap/7_star-like/emp/UMAP_OnlyCluster.pdf\", \n",
    "          \"../rev_results/task3/7_star-like_emp_UMAP_OnlyCluster.pdf\")"
   ]
  },
  {
   "cell_type": "code",
   "execution_count": null,
   "id": "aeae36b0-079d-432f-a699-f15af70931e1",
   "metadata": {},
   "outputs": [],
   "source": [
    "sc.pl.umap(\n",
    "    adata,\n",
    "    color=[\"EMP Pathway S1 Cook et. al.\"],\n",
    "    frameon=False,\n",
    "    ncols=2,\n",
    "    wspace = 0.4,\n",
    "    save='/7_star-like/emp/UMAP_OnlyS1.pdf'\n",
    ")\n",
    "os.rename(\"figures/umap/7_star-like/emp/UMAP_OnlyS1.pdf\", \n",
    "          \"../rev_results/task3/7_star-like_emp_UMAP_OnlyS1.pdf\")"
   ]
  },
  {
   "cell_type": "code",
   "execution_count": null,
   "id": "6d37434f-80fb-4ca5-854f-d7ad93ec5dd1",
   "metadata": {},
   "outputs": [],
   "source": [
    "sc.pl.umap(\n",
    "    adata,\n",
    "    color=[\"EMP Pathway S2 Cook et. al.\"],\n",
    "    frameon=False,\n",
    "    ncols=2,\n",
    "    wspace = 0.4,\n",
    "    save='/7_star-like/emp/UMAP_OnlyS2.pdf'\n",
    ")\n",
    "os.rename(\"figures/umap/7_star-like/emp/UMAP_OnlyS2.pdf\", \n",
    "          \"../rev_results/task3/7_star-like_emp_UMAP_OnlyS2.pdf\")"
   ]
  },
  {
   "cell_type": "code",
   "execution_count": null,
   "id": "eee0a247-bfe0-4b85-aead-1b5ba6ace265",
   "metadata": {},
   "outputs": [],
   "source": [
    "sc.pl.umap(\n",
    "    adata,\n",
    "    color=[\"EMP Pathway\\nHALLMARK_EPITHELIAL_MESENCHYMAL_TRANSITION\"],\n",
    "    frameon=False,\n",
    "    ncols=2,\n",
    "    wspace = 0.4,\n",
    "    save='/7_star-like/emp/UMAP_OnlyHallmark.pdf'\n",
    ")\n",
    "os.rename(\"figures/umap/7_star-like/emp/UMAP_OnlyHallmark.pdf\", \n",
    "          \"../rev_results/task3/7_star-like_emp_UMAP_OnlyHallmark.pdf\")"
   ]
  },
  {
   "cell_type": "markdown",
   "id": "dcc03ffd-8dda-4cc7-86cf-e768c6a4ffb6",
   "metadata": {},
   "source": [
    "### Violin"
   ]
  },
  {
   "cell_type": "code",
   "execution_count": null,
   "id": "84af7b5d-4d00-4888-8109-fcce264bbd5b",
   "metadata": {},
   "outputs": [],
   "source": [
    "sc.pl.violin(adata, \n",
    "             keys=[\"EMP Pathway S1 Cook et. al.\"],\n",
    "             groupby='Cluster', \n",
    "             rotation=90,\n",
    "             xlabel='Cluster',\n",
    "             inner=\"quartile\",\n",
    "             wspace = 0.4,\n",
    "             save='/7_star-like/emp_violin_counts_OnlyS1.pdf'\n",
    "            )\n",
    "os.rename(\"figures/violin/7_star-like/emp_violin_counts_OnlyS1.pdf\", \n",
    "          \"../rev_results/task3/7_star-like_emp_violin_counts_OnlyS1.pdf\")"
   ]
  },
  {
   "cell_type": "code",
   "execution_count": null,
   "id": "6f17ddcb-56f1-4afd-aa8f-86baa1a69477",
   "metadata": {},
   "outputs": [],
   "source": [
    "sc.pl.violin(adata, \n",
    "             keys=[\"EMP Pathway S2 Cook et. al.\"],\n",
    "             groupby='Cluster', \n",
    "             rotation=90,\n",
    "             xlabel='Cluster',\n",
    "             inner=\"quartile\",\n",
    "             wspace = 0.4,\n",
    "             save='/7_star-like/emp_violin_counts_OnlyS2.pdf'\n",
    "            )\n",
    "os.rename(\"figures/violin/7_star-like/emp_violin_counts_OnlyS2.pdf\", \n",
    "          \"../rev_results/task3/7_star-like_emp_violin_counts_OnlyS2.pdf\")"
   ]
  },
  {
   "cell_type": "code",
   "execution_count": null,
   "id": "71dfbe6f-676f-4bd5-bb22-85d990ef862f",
   "metadata": {},
   "outputs": [],
   "source": [
    "sc.pl.violin(adata, \n",
    "             keys=[\"EMP Pathway\\nHALLMARK_EPITHELIAL_MESENCHYMAL_TRANSITION\"],\n",
    "             groupby='Cluster', \n",
    "             rotation=90,\n",
    "             xlabel='Cluster',\n",
    "             inner=\"quartile\",\n",
    "             wspace = 0.4,\n",
    "             save='/7_star-like/emp_violin_counts_OnlyHallmark.pdf'\n",
    "            )\n",
    "os.rename(\"figures/violin/7_star-like/emp_violin_counts_OnlyHallmark.pdf\", \n",
    "          \"../rev_results/task3/7_star-like_emp_violin_counts_OnlyHallmark.pdf\")"
   ]
  }
 ],
 "metadata": {
  "kernelspec": {
   "display_name": "Python [conda env:celldreamer]",
   "language": "python",
   "name": "celldreamer"
  },
  "language_info": {
   "codemirror_mode": {
    "name": "ipython",
    "version": 3
   },
   "file_extension": ".py",
   "mimetype": "text/x-python",
   "name": "python",
   "nbconvert_exporter": "python",
   "pygments_lexer": "ipython3",
   "version": "3.10.12"
  }
 },
 "nbformat": 4,
 "nbformat_minor": 5
}
