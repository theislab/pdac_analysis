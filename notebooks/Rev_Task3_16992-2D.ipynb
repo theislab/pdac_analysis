{
 "cells": [
  {
   "cell_type": "markdown",
   "id": "f7c4b4fe-1218-4fe7-9c8a-90051c281dd5",
   "metadata": {},
   "source": [
    "# Task 3 - Epithelial to Mesenchymal (EMT) score from the Hallmark EMT or Epithelial to Mesenchymal Plasticity\n",
    "This notebook analyses the Epithelial to Mesenchymal (EMT) score from the Hallmark EMT or Epithelial to Mesenchymal Plasticity score from [https://www.science.org/doi/10.1126/sciadv.abi7640](https://www.science.org/doi/10.1126/sciadv.abi7640) as well as HALLMARK.\n",
    "\n",
    "This notebook is based on the single-cell best practices book (https://github.com/theislab/single-cell-best-practices/). For further explanations of the applied methods please refer to above source."
   ]
  },
  {
   "cell_type": "markdown",
   "id": "d541a755-1aae-4f82-b061-310c61134b60",
   "metadata": {
    "pycharm": {
     "name": "#%% md\n"
    }
   },
   "source": [
    "# Gene set enrichment and pathway analysis "
   ]
  },
  {
   "cell_type": "markdown",
   "id": "5df9840d-7dd5-4511-bbdb-84eef6016246",
   "metadata": {},
   "source": [
    "### Prepare and explore the data"
   ]
  },
  {
   "cell_type": "code",
   "execution_count": 1,
   "id": "b4bb6ebb-94fc-4fe3-bc8e-7d48001135ce",
   "metadata": {},
   "outputs": [],
   "source": [
    "import os\n",
    "os.environ['R_HOME'] = '/home/icb/till.richter/anaconda3/envs/scib-pipeline-R4.0/lib/R'"
   ]
  },
  {
   "cell_type": "code",
   "execution_count": 2,
   "id": "4cd17aba-387a-40fc-993c-5e744c21be5d",
   "metadata": {
    "pycharm": {
     "name": "#%%\n"
    }
   },
   "outputs": [],
   "source": [
    "import scanpy as sc\n",
    "import anndata as ad\n",
    "import numpy as np\n",
    "import pandas as pd\n",
    "import anndata as ad\n",
    "import gdown\n",
    "import anndata2ri\n",
    "import rpy2\n",
    "from rpy2.robjects import r\n",
    "import random\n",
    "import session_info\n",
    "\n",
    "anndata2ri.activate()"
   ]
  },
  {
   "cell_type": "code",
   "execution_count": 3,
   "id": "aa97c072-e031-4328-9bc4-38a69038677d",
   "metadata": {
    "pycharm": {
     "name": "#%%\n"
    }
   },
   "outputs": [],
   "source": [
    "sc.settings.set_figure_params(dpi=200, frameon=False)\n",
    "sc.set_figure_params(dpi=200)\n",
    "sc.set_figure_params(figsize=(4, 4))"
   ]
  },
  {
   "cell_type": "code",
   "execution_count": 4,
   "id": "c55caaea-d768-4530-8067-01f2f49ff648",
   "metadata": {
    "pycharm": {
     "name": "#%%\n"
    }
   },
   "outputs": [],
   "source": [
    "%load_ext rpy2.ipython"
   ]
  },
  {
   "cell_type": "code",
   "execution_count": 5,
   "id": "89331011-4629-49d1-a105-c309f91ab65f",
   "metadata": {},
   "outputs": [
    {
     "name": "stdout",
     "output_type": "stream",
     "text": [
      "\u001b[1mrpy2 version:\u001b[0m\n",
      "3.5.1\n",
      "\u001b[1mPython version:\u001b[0m\n",
      "3.7.12 | packaged by conda-forge | (default, Oct 26 2021, 06:08:53) \n",
      "[GCC 9.4.0]\n",
      "\u001b[1mLooking for R's HOME:\u001b[0m\n",
      "    Environment variable R_HOME: /home/icb/till.richter/anaconda3/envs/scib-pipeline-R4.0/lib/R\n",
      "    Calling `R RHOME`: /home/icb/till.richter/anaconda3/envs/scib-pipeline-R4.0/lib/R\n",
      "    Environment variable R_LIBS_USER: ~/R/x86_64-conda-linux-gnu-library/4.0\n",
      "\u001b[1mR's additions to LD_LIBRARY_PATH:\u001b[0m\n",
      "/home/icb/till.richter/anaconda3/envs/scib-pipeline-R4.0/lib/R/lib/:/home/icb/till.richter/anaconda3/envs/scib-pipeline-R4.0/lib/R/lib/\n",
      "\u001b[1mR version:\u001b[0m\n",
      "    In the PATH: R version 4.0.5 (2021-03-31) -- \"Shake and Throw\"\n",
      "    Loading R library from rpy2: OK\n",
      "\u001b[1mAdditional directories to load R packages from:\u001b[0m\n",
      "\n",
      "\u001b[1mC extension compilation:\u001b[0m\n",
      "  include:\n",
      "  ['/home/icb/till.richter/anaconda3/envs/scib-pipeline-R4.0/lib/R/include']\n",
      "  libraries:\n",
      "  ['R', 'pcre2-8', 'lzma', 'bz2', 'z', 'rt', 'dl', 'm', 'iconv', 'icuuc', 'icui18n']\n",
      "  library_dirs:\n",
      "  ['/home/icb/till.richter/anaconda3/envs/scib-pipeline-R4.0/lib', '/home/icb/till.richter/anaconda3/envs/scib-pipeline-R4.0/lib/R/lib', '/home/icb/till.richter/anaconda3/envs/scib-pipeline-R4.0/lib']\n",
      "  extra_compile_args:\n",
      "  []\n",
      "  extra_link_args:\n",
      "  ['-Wl,--export-dynamic', '-fopenmp', '-Wl,-O2', '-Wl,--sort-common', '-Wl,--as-needed', '-Wl,-z,relro', '-Wl,-z,now', '-Wl,--disable-new-dtags', '-Wl,--gc-sections', '-Wl,--allow-shlib-undefined', '-Wl,-rpath,/home/icb/till.richter/anaconda3/envs/scib-pipeline-R4.0/lib', '-Wl,-rpath-link,/home/icb/till.richter/anaconda3/envs/scib-pipeline-R4.0/lib']\n"
     ]
    }
   ],
   "source": [
    "!python -m rpy2.situation"
   ]
  },
  {
   "cell_type": "code",
   "execution_count": 6,
   "id": "6a5824ff-a8b1-4aea-8e4c-9bc67d1914cc",
   "metadata": {
    "pycharm": {
     "name": "#%%\n"
    }
   },
   "outputs": [],
   "source": [
    "%%R\n",
    "suppressPackageStartupMessages({\n",
    "    library(SingleCellExperiment)\n",
    "    library(fgsea)\n",
    "    library(AUCell)\n",
    "    library(ggplot2)\n",
    "})"
   ]
  },
  {
   "cell_type": "code",
   "execution_count": 7,
   "id": "e1d71fd4-ac2d-41ac-bb9f-6af2f965468f",
   "metadata": {},
   "outputs": [
    {
     "data": {
      "text/html": [
       "<div>\n",
       "<style scoped>\n",
       "    .dataframe tbody tr th:only-of-type {\n",
       "        vertical-align: middle;\n",
       "    }\n",
       "\n",
       "    .dataframe tbody tr th {\n",
       "        vertical-align: top;\n",
       "    }\n",
       "\n",
       "    .dataframe thead th {\n",
       "        text-align: right;\n",
       "    }\n",
       "</style>\n",
       "<table border=\"1\" class=\"dataframe\">\n",
       "  <thead>\n",
       "    <tr style=\"text-align: right;\">\n",
       "      <th></th>\n",
       "      <th>sample_id</th>\n",
       "      <th>sample_nr</th>\n",
       "      <th>donor</th>\n",
       "      <th>n_genes_by_counts</th>\n",
       "      <th>log1p_n_genes_by_counts</th>\n",
       "      <th>total_counts</th>\n",
       "      <th>log1p_total_counts</th>\n",
       "      <th>pct_counts_in_top_50_genes</th>\n",
       "      <th>pct_counts_in_top_100_genes</th>\n",
       "      <th>pct_counts_in_top_200_genes</th>\n",
       "      <th>pct_counts_in_top_500_genes</th>\n",
       "      <th>total_counts_mt</th>\n",
       "      <th>log1p_total_counts_mt</th>\n",
       "      <th>pct_counts_mt</th>\n",
       "      <th>log_counts</th>\n",
       "      <th>n_counts</th>\n",
       "      <th>n_genes</th>\n",
       "      <th>size_factors</th>\n",
       "      <th>louvain_r0.5</th>\n",
       "    </tr>\n",
       "  </thead>\n",
       "  <tbody>\n",
       "    <tr>\n",
       "      <th>AAACCCAAGCTGCCTG-1-1</th>\n",
       "      <td>16992-2D</td>\n",
       "      <td>1</td>\n",
       "      <td>mouse</td>\n",
       "      <td>3113</td>\n",
       "      <td>8.043663</td>\n",
       "      <td>9743.0</td>\n",
       "      <td>9.184407</td>\n",
       "      <td>34.014164</td>\n",
       "      <td>42.297034</td>\n",
       "      <td>51.021246</td>\n",
       "      <td>64.087037</td>\n",
       "      <td>1352.0</td>\n",
       "      <td>7.210080</td>\n",
       "      <td>13.876629</td>\n",
       "      <td>9.184304</td>\n",
       "      <td>9743.0</td>\n",
       "      <td>3113</td>\n",
       "      <td>2.360472</td>\n",
       "      <td>0</td>\n",
       "    </tr>\n",
       "    <tr>\n",
       "      <th>AAACCCAAGGTCATAA-1-1</th>\n",
       "      <td>16992-2D</td>\n",
       "      <td>1</td>\n",
       "      <td>mouse</td>\n",
       "      <td>2564</td>\n",
       "      <td>7.849714</td>\n",
       "      <td>7168.0</td>\n",
       "      <td>8.877522</td>\n",
       "      <td>27.734375</td>\n",
       "      <td>38.085938</td>\n",
       "      <td>48.660714</td>\n",
       "      <td>63.825335</td>\n",
       "      <td>507.0</td>\n",
       "      <td>6.230482</td>\n",
       "      <td>7.073103</td>\n",
       "      <td>8.877382</td>\n",
       "      <td>7168.0</td>\n",
       "      <td>2564</td>\n",
       "      <td>1.786558</td>\n",
       "      <td>1</td>\n",
       "    </tr>\n",
       "    <tr>\n",
       "      <th>AAACCCAAGTACCCTA-1-1</th>\n",
       "      <td>16992-2D</td>\n",
       "      <td>1</td>\n",
       "      <td>mouse</td>\n",
       "      <td>2819</td>\n",
       "      <td>7.944492</td>\n",
       "      <td>8436.0</td>\n",
       "      <td>9.040382</td>\n",
       "      <td>27.750119</td>\n",
       "      <td>38.205311</td>\n",
       "      <td>47.878141</td>\n",
       "      <td>62.849692</td>\n",
       "      <td>630.0</td>\n",
       "      <td>6.447306</td>\n",
       "      <td>7.467994</td>\n",
       "      <td>9.040263</td>\n",
       "      <td>8436.0</td>\n",
       "      <td>2819</td>\n",
       "      <td>2.110656</td>\n",
       "      <td>1</td>\n",
       "    </tr>\n",
       "    <tr>\n",
       "      <th>AAACCCACAAGGTCTT-1-1</th>\n",
       "      <td>16992-2D</td>\n",
       "      <td>1</td>\n",
       "      <td>mouse</td>\n",
       "      <td>1932</td>\n",
       "      <td>7.566828</td>\n",
       "      <td>4536.0</td>\n",
       "      <td>8.420021</td>\n",
       "      <td>26.410935</td>\n",
       "      <td>36.331570</td>\n",
       "      <td>47.266314</td>\n",
       "      <td>64.285714</td>\n",
       "      <td>277.0</td>\n",
       "      <td>5.627621</td>\n",
       "      <td>6.106702</td>\n",
       "      <td>8.419801</td>\n",
       "      <td>4536.0</td>\n",
       "      <td>1932</td>\n",
       "      <td>1.236708</td>\n",
       "      <td>0</td>\n",
       "    </tr>\n",
       "    <tr>\n",
       "      <th>AAACCCACAGGAGGTT-1-1</th>\n",
       "      <td>16992-2D</td>\n",
       "      <td>1</td>\n",
       "      <td>mouse</td>\n",
       "      <td>2930</td>\n",
       "      <td>7.983099</td>\n",
       "      <td>8959.0</td>\n",
       "      <td>9.100526</td>\n",
       "      <td>29.679652</td>\n",
       "      <td>38.910593</td>\n",
       "      <td>48.018752</td>\n",
       "      <td>62.808349</td>\n",
       "      <td>604.0</td>\n",
       "      <td>6.405229</td>\n",
       "      <td>6.741824</td>\n",
       "      <td>9.100414</td>\n",
       "      <td>8959.0</td>\n",
       "      <td>2930</td>\n",
       "      <td>2.218654</td>\n",
       "      <td>0</td>\n",
       "    </tr>\n",
       "    <tr>\n",
       "      <th>...</th>\n",
       "      <td>...</td>\n",
       "      <td>...</td>\n",
       "      <td>...</td>\n",
       "      <td>...</td>\n",
       "      <td>...</td>\n",
       "      <td>...</td>\n",
       "      <td>...</td>\n",
       "      <td>...</td>\n",
       "      <td>...</td>\n",
       "      <td>...</td>\n",
       "      <td>...</td>\n",
       "      <td>...</td>\n",
       "      <td>...</td>\n",
       "      <td>...</td>\n",
       "      <td>...</td>\n",
       "      <td>...</td>\n",
       "      <td>...</td>\n",
       "      <td>...</td>\n",
       "      <td>...</td>\n",
       "    </tr>\n",
       "    <tr>\n",
       "      <th>TTTGTTGGTCTAGGTT-1-1</th>\n",
       "      <td>16992-2D</td>\n",
       "      <td>1</td>\n",
       "      <td>mouse</td>\n",
       "      <td>2192</td>\n",
       "      <td>7.693026</td>\n",
       "      <td>5087.0</td>\n",
       "      <td>8.534640</td>\n",
       "      <td>25.122862</td>\n",
       "      <td>34.499705</td>\n",
       "      <td>44.584234</td>\n",
       "      <td>60.723413</td>\n",
       "      <td>301.0</td>\n",
       "      <td>5.710427</td>\n",
       "      <td>5.917044</td>\n",
       "      <td>8.534444</td>\n",
       "      <td>5087.0</td>\n",
       "      <td>2192</td>\n",
       "      <td>1.391775</td>\n",
       "      <td>1</td>\n",
       "    </tr>\n",
       "    <tr>\n",
       "      <th>TTTGTTGGTGGACTGA-1-1</th>\n",
       "      <td>16992-2D</td>\n",
       "      <td>1</td>\n",
       "      <td>mouse</td>\n",
       "      <td>2301</td>\n",
       "      <td>7.741534</td>\n",
       "      <td>4901.0</td>\n",
       "      <td>8.497398</td>\n",
       "      <td>22.444399</td>\n",
       "      <td>31.034483</td>\n",
       "      <td>41.154866</td>\n",
       "      <td>57.702510</td>\n",
       "      <td>258.0</td>\n",
       "      <td>5.556828</td>\n",
       "      <td>5.264232</td>\n",
       "      <td>8.497194</td>\n",
       "      <td>4901.0</td>\n",
       "      <td>2301</td>\n",
       "      <td>1.438646</td>\n",
       "      <td>1</td>\n",
       "    </tr>\n",
       "    <tr>\n",
       "      <th>TTTGTTGTCACAAGAA-1-1</th>\n",
       "      <td>16992-2D</td>\n",
       "      <td>1</td>\n",
       "      <td>mouse</td>\n",
       "      <td>1168</td>\n",
       "      <td>7.063904</td>\n",
       "      <td>2138.0</td>\n",
       "      <td>7.668094</td>\n",
       "      <td>31.571562</td>\n",
       "      <td>39.569691</td>\n",
       "      <td>49.906455</td>\n",
       "      <td>68.755847</td>\n",
       "      <td>173.0</td>\n",
       "      <td>5.159055</td>\n",
       "      <td>8.091675</td>\n",
       "      <td>7.667626</td>\n",
       "      <td>2138.0</td>\n",
       "      <td>1168</td>\n",
       "      <td>0.485150</td>\n",
       "      <td>0</td>\n",
       "    </tr>\n",
       "    <tr>\n",
       "      <th>TTTGTTGTCCTACGGG-1-1</th>\n",
       "      <td>16992-2D</td>\n",
       "      <td>1</td>\n",
       "      <td>mouse</td>\n",
       "      <td>1908</td>\n",
       "      <td>7.554335</td>\n",
       "      <td>4492.0</td>\n",
       "      <td>8.410275</td>\n",
       "      <td>31.923419</td>\n",
       "      <td>41.874443</td>\n",
       "      <td>51.246661</td>\n",
       "      <td>66.651825</td>\n",
       "      <td>348.0</td>\n",
       "      <td>5.855072</td>\n",
       "      <td>7.747106</td>\n",
       "      <td>8.410053</td>\n",
       "      <td>4492.0</td>\n",
       "      <td>1908</td>\n",
       "      <td>1.118800</td>\n",
       "      <td>2</td>\n",
       "    </tr>\n",
       "    <tr>\n",
       "      <th>TTTGTTGTCTTTGCTA-1-1</th>\n",
       "      <td>16992-2D</td>\n",
       "      <td>1</td>\n",
       "      <td>mouse</td>\n",
       "      <td>1819</td>\n",
       "      <td>7.506592</td>\n",
       "      <td>3934.0</td>\n",
       "      <td>8.277666</td>\n",
       "      <td>28.495170</td>\n",
       "      <td>38.332486</td>\n",
       "      <td>47.712252</td>\n",
       "      <td>64.768683</td>\n",
       "      <td>299.0</td>\n",
       "      <td>5.703783</td>\n",
       "      <td>7.600407</td>\n",
       "      <td>8.277412</td>\n",
       "      <td>3934.0</td>\n",
       "      <td>1819</td>\n",
       "      <td>1.029134</td>\n",
       "      <td>0</td>\n",
       "    </tr>\n",
       "  </tbody>\n",
       "</table>\n",
       "<p>9190 rows × 19 columns</p>\n",
       "</div>"
      ],
      "text/plain": [
       "                     sample_id sample_nr  donor  n_genes_by_counts  \\\n",
       "AAACCCAAGCTGCCTG-1-1  16992-2D         1  mouse               3113   \n",
       "AAACCCAAGGTCATAA-1-1  16992-2D         1  mouse               2564   \n",
       "AAACCCAAGTACCCTA-1-1  16992-2D         1  mouse               2819   \n",
       "AAACCCACAAGGTCTT-1-1  16992-2D         1  mouse               1932   \n",
       "AAACCCACAGGAGGTT-1-1  16992-2D         1  mouse               2930   \n",
       "...                        ...       ...    ...                ...   \n",
       "TTTGTTGGTCTAGGTT-1-1  16992-2D         1  mouse               2192   \n",
       "TTTGTTGGTGGACTGA-1-1  16992-2D         1  mouse               2301   \n",
       "TTTGTTGTCACAAGAA-1-1  16992-2D         1  mouse               1168   \n",
       "TTTGTTGTCCTACGGG-1-1  16992-2D         1  mouse               1908   \n",
       "TTTGTTGTCTTTGCTA-1-1  16992-2D         1  mouse               1819   \n",
       "\n",
       "                      log1p_n_genes_by_counts  total_counts  \\\n",
       "AAACCCAAGCTGCCTG-1-1                 8.043663        9743.0   \n",
       "AAACCCAAGGTCATAA-1-1                 7.849714        7168.0   \n",
       "AAACCCAAGTACCCTA-1-1                 7.944492        8436.0   \n",
       "AAACCCACAAGGTCTT-1-1                 7.566828        4536.0   \n",
       "AAACCCACAGGAGGTT-1-1                 7.983099        8959.0   \n",
       "...                                       ...           ...   \n",
       "TTTGTTGGTCTAGGTT-1-1                 7.693026        5087.0   \n",
       "TTTGTTGGTGGACTGA-1-1                 7.741534        4901.0   \n",
       "TTTGTTGTCACAAGAA-1-1                 7.063904        2138.0   \n",
       "TTTGTTGTCCTACGGG-1-1                 7.554335        4492.0   \n",
       "TTTGTTGTCTTTGCTA-1-1                 7.506592        3934.0   \n",
       "\n",
       "                      log1p_total_counts  pct_counts_in_top_50_genes  \\\n",
       "AAACCCAAGCTGCCTG-1-1            9.184407                   34.014164   \n",
       "AAACCCAAGGTCATAA-1-1            8.877522                   27.734375   \n",
       "AAACCCAAGTACCCTA-1-1            9.040382                   27.750119   \n",
       "AAACCCACAAGGTCTT-1-1            8.420021                   26.410935   \n",
       "AAACCCACAGGAGGTT-1-1            9.100526                   29.679652   \n",
       "...                                  ...                         ...   \n",
       "TTTGTTGGTCTAGGTT-1-1            8.534640                   25.122862   \n",
       "TTTGTTGGTGGACTGA-1-1            8.497398                   22.444399   \n",
       "TTTGTTGTCACAAGAA-1-1            7.668094                   31.571562   \n",
       "TTTGTTGTCCTACGGG-1-1            8.410275                   31.923419   \n",
       "TTTGTTGTCTTTGCTA-1-1            8.277666                   28.495170   \n",
       "\n",
       "                      pct_counts_in_top_100_genes  \\\n",
       "AAACCCAAGCTGCCTG-1-1                    42.297034   \n",
       "AAACCCAAGGTCATAA-1-1                    38.085938   \n",
       "AAACCCAAGTACCCTA-1-1                    38.205311   \n",
       "AAACCCACAAGGTCTT-1-1                    36.331570   \n",
       "AAACCCACAGGAGGTT-1-1                    38.910593   \n",
       "...                                           ...   \n",
       "TTTGTTGGTCTAGGTT-1-1                    34.499705   \n",
       "TTTGTTGGTGGACTGA-1-1                    31.034483   \n",
       "TTTGTTGTCACAAGAA-1-1                    39.569691   \n",
       "TTTGTTGTCCTACGGG-1-1                    41.874443   \n",
       "TTTGTTGTCTTTGCTA-1-1                    38.332486   \n",
       "\n",
       "                      pct_counts_in_top_200_genes  \\\n",
       "AAACCCAAGCTGCCTG-1-1                    51.021246   \n",
       "AAACCCAAGGTCATAA-1-1                    48.660714   \n",
       "AAACCCAAGTACCCTA-1-1                    47.878141   \n",
       "AAACCCACAAGGTCTT-1-1                    47.266314   \n",
       "AAACCCACAGGAGGTT-1-1                    48.018752   \n",
       "...                                           ...   \n",
       "TTTGTTGGTCTAGGTT-1-1                    44.584234   \n",
       "TTTGTTGGTGGACTGA-1-1                    41.154866   \n",
       "TTTGTTGTCACAAGAA-1-1                    49.906455   \n",
       "TTTGTTGTCCTACGGG-1-1                    51.246661   \n",
       "TTTGTTGTCTTTGCTA-1-1                    47.712252   \n",
       "\n",
       "                      pct_counts_in_top_500_genes  total_counts_mt  \\\n",
       "AAACCCAAGCTGCCTG-1-1                    64.087037           1352.0   \n",
       "AAACCCAAGGTCATAA-1-1                    63.825335            507.0   \n",
       "AAACCCAAGTACCCTA-1-1                    62.849692            630.0   \n",
       "AAACCCACAAGGTCTT-1-1                    64.285714            277.0   \n",
       "AAACCCACAGGAGGTT-1-1                    62.808349            604.0   \n",
       "...                                           ...              ...   \n",
       "TTTGTTGGTCTAGGTT-1-1                    60.723413            301.0   \n",
       "TTTGTTGGTGGACTGA-1-1                    57.702510            258.0   \n",
       "TTTGTTGTCACAAGAA-1-1                    68.755847            173.0   \n",
       "TTTGTTGTCCTACGGG-1-1                    66.651825            348.0   \n",
       "TTTGTTGTCTTTGCTA-1-1                    64.768683            299.0   \n",
       "\n",
       "                      log1p_total_counts_mt  pct_counts_mt  log_counts  \\\n",
       "AAACCCAAGCTGCCTG-1-1               7.210080      13.876629    9.184304   \n",
       "AAACCCAAGGTCATAA-1-1               6.230482       7.073103    8.877382   \n",
       "AAACCCAAGTACCCTA-1-1               6.447306       7.467994    9.040263   \n",
       "AAACCCACAAGGTCTT-1-1               5.627621       6.106702    8.419801   \n",
       "AAACCCACAGGAGGTT-1-1               6.405229       6.741824    9.100414   \n",
       "...                                     ...            ...         ...   \n",
       "TTTGTTGGTCTAGGTT-1-1               5.710427       5.917044    8.534444   \n",
       "TTTGTTGGTGGACTGA-1-1               5.556828       5.264232    8.497194   \n",
       "TTTGTTGTCACAAGAA-1-1               5.159055       8.091675    7.667626   \n",
       "TTTGTTGTCCTACGGG-1-1               5.855072       7.747106    8.410053   \n",
       "TTTGTTGTCTTTGCTA-1-1               5.703783       7.600407    8.277412   \n",
       "\n",
       "                      n_counts  n_genes  size_factors louvain_r0.5  \n",
       "AAACCCAAGCTGCCTG-1-1    9743.0     3113      2.360472            0  \n",
       "AAACCCAAGGTCATAA-1-1    7168.0     2564      1.786558            1  \n",
       "AAACCCAAGTACCCTA-1-1    8436.0     2819      2.110656            1  \n",
       "AAACCCACAAGGTCTT-1-1    4536.0     1932      1.236708            0  \n",
       "AAACCCACAGGAGGTT-1-1    8959.0     2930      2.218654            0  \n",
       "...                        ...      ...           ...          ...  \n",
       "TTTGTTGGTCTAGGTT-1-1    5087.0     2192      1.391775            1  \n",
       "TTTGTTGGTGGACTGA-1-1    4901.0     2301      1.438646            1  \n",
       "TTTGTTGTCACAAGAA-1-1    2138.0     1168      0.485150            0  \n",
       "TTTGTTGTCCTACGGG-1-1    4492.0     1908      1.118800            2  \n",
       "TTTGTTGTCTTTGCTA-1-1    3934.0     1819      1.029134            0  \n",
       "\n",
       "[9190 rows x 19 columns]"
      ]
     },
     "execution_count": 7,
     "metadata": {},
     "output_type": "execute_result"
    }
   ],
   "source": [
    "adata_read = sc.read_h5ad('../data/adata/processed_adata3.h5ad')\n",
    "adata_read.obs"
   ]
  },
  {
   "cell_type": "code",
   "execution_count": 8,
   "id": "40c03f34-3324-4c02-8681-a9542e692120",
   "metadata": {
    "pycharm": {
     "name": "#%%\n"
    }
   },
   "outputs": [],
   "source": [
    "adata = adata_read.copy()"
   ]
  },
  {
   "cell_type": "code",
   "execution_count": 9,
   "id": "351b6333-0c3c-4123-9e8e-e760f9c325c0",
   "metadata": {
    "pycharm": {
     "name": "#%%\n"
    }
   },
   "outputs": [],
   "source": [
    "adata.layers['counts'] = adata.X"
   ]
  },
  {
   "cell_type": "markdown",
   "id": "0f7f988e-c6e4-4331-924d-58add9781c29",
   "metadata": {
    "pycharm": {
     "name": "#%% md\n"
    }
   },
   "source": [
    "Let's keep a copy of the full dataset for the subsequent analyses before we subset on highly variable genes:"
   ]
  },
  {
   "cell_type": "code",
   "execution_count": 10,
   "id": "348bad33-f02c-40f4-ab4f-9762f4e60fdf",
   "metadata": {
    "pycharm": {
     "name": "#%%\n"
    }
   },
   "outputs": [],
   "source": [
    "adata_ = adata.copy()"
   ]
  },
  {
   "cell_type": "code",
   "execution_count": 11,
   "id": "4231f4fb-add9-4b9c-9187-627a9085197c",
   "metadata": {
    "pycharm": {
     "name": "#%%\n"
    }
   },
   "outputs": [],
   "source": [
    "sc.pp.highly_variable_genes(\n",
    "    adata_,\n",
    "    n_top_genes=16000,\n",
    "    flavor=\"seurat_v3\",\n",
    "    subset=True,\n",
    "    layer=\"counts\"\n",
    ")"
   ]
  },
  {
   "cell_type": "code",
   "execution_count": 12,
   "id": "39c7e1b5-88f7-4581-a2b7-246bf0c9ae37",
   "metadata": {},
   "outputs": [],
   "source": [
    "adata.obs['group'] = adata.obs['louvain_r0.5'].astype('string')"
   ]
  },
  {
   "cell_type": "code",
   "execution_count": 14,
   "id": "191d3f37-5103-426f-afda-a6ad5c8f08e7",
   "metadata": {
    "pycharm": {
     "name": "#%%\n"
    }
   },
   "outputs": [],
   "source": [
    "# find DE genes by t-test\n",
    "adata.uns['log1p'][\"base\"] = None\n",
    "sc.tl.rank_genes_groups(adata, 'group', method='t-test', key_added = \"t-test\")"
   ]
  },
  {
   "cell_type": "markdown",
   "id": "e8c6f85c-ea35-481f-9ebe-71813d672707",
   "metadata": {
    "pycharm": {
     "name": "#%% md\n"
    }
   },
   "source": [
    "### Get the Pathway and map it to mm"
   ]
  },
  {
   "cell_type": "code",
   "execution_count": 15,
   "id": "21bee1d3-1fd4-40cf-b90f-956e519a839b",
   "metadata": {},
   "outputs": [
    {
     "data": {
      "application/vnd.jupyter.widget-view+json": {
       "model_id": "36b763f7b3d94579bb988ac437e7d889",
       "version_major": 2,
       "version_minor": 0
      },
      "text/plain": [
       "  0%|          | 0/1 [00:00<?, ?it/s]"
      ]
     },
     "metadata": {},
     "output_type": "display_data"
    },
    {
     "data": {
      "text/html": [
       "<div>\n",
       "<style scoped>\n",
       "    .dataframe tbody tr th:only-of-type {\n",
       "        vertical-align: middle;\n",
       "    }\n",
       "\n",
       "    .dataframe tbody tr th {\n",
       "        vertical-align: top;\n",
       "    }\n",
       "\n",
       "    .dataframe thead th {\n",
       "        text-align: right;\n",
       "    }\n",
       "</style>\n",
       "<table border=\"1\" class=\"dataframe\">\n",
       "  <thead>\n",
       "    <tr style=\"text-align: right;\">\n",
       "      <th></th>\n",
       "      <th>external_gene_name</th>\n",
       "      <th>mouse_ensembl_gene_id</th>\n",
       "      <th>human_ensembl_gene_id</th>\n",
       "      <th>hgnc_symbol</th>\n",
       "    </tr>\n",
       "  </thead>\n",
       "  <tbody>\n",
       "    <tr>\n",
       "      <th>0</th>\n",
       "      <td>Tert</td>\n",
       "      <td>ENSMUSG00000021611</td>\n",
       "      <td>ENSG00000164362</td>\n",
       "      <td>TERT</td>\n",
       "    </tr>\n",
       "    <tr>\n",
       "      <th>1</th>\n",
       "      <td>Trp53</td>\n",
       "      <td>ENSMUSG00000059552</td>\n",
       "      <td>ENSG00000141510</td>\n",
       "      <td>TP53</td>\n",
       "    </tr>\n",
       "  </tbody>\n",
       "</table>\n",
       "</div>"
      ],
      "text/plain": [
       "  external_gene_name mouse_ensembl_gene_id human_ensembl_gene_id hgnc_symbol\n",
       "0               Tert    ENSMUSG00000021611       ENSG00000164362        TERT\n",
       "1              Trp53    ENSMUSG00000059552       ENSG00000141510        TP53"
      ]
     },
     "execution_count": 15,
     "metadata": {},
     "output_type": "execute_result"
    }
   ],
   "source": [
    "from pyorthomap import FindOrthologs \n",
    "hs2mm = FindOrthologs(\n",
    "          host = 'http://www.ensembl.org',\n",
    "          mart = 'ENSEMBL_MART_ENSEMBL',\n",
    "          from_dataset = 'hsapiens_gene_ensembl',\n",
    "          to_dataset = 'mmusculus_gene_ensembl',\n",
    "          from_filters = 'hgnc_symbol',\n",
    "          from_values = ['TP53', 'TERT'],\n",
    "          to_attributes = ['external_gene_name'],\n",
    "          to_homolog_attribute = 'mmusculus_homolog_ensembl_gene',\n",
    "          from_gene_id_name = 'human_ensembl_gene_id',\n",
    "          to_gene_id_name = 'mouse_ensembl_gene_id'\n",
    "    )\n",
    "    \n",
    "hs2mm.map()"
   ]
  },
  {
   "cell_type": "markdown",
   "id": "642fe0eb-dbb4-409c-9f9a-b8fad76277f6",
   "metadata": {},
   "source": [
    "### S1 Pathway"
   ]
  },
  {
   "cell_type": "code",
   "execution_count": 16,
   "id": "19119c7f-d2cd-4f65-b554-fbbf63d7cebe",
   "metadata": {},
   "outputs": [],
   "source": [
    "%%R\n",
    "library(readxl)\n",
    "my_pathways_s1=read_excel('../data/EMT_gene_sets/sciadv.abi7640_table_s1.xlsx')\n",
    "my_pathways_s1=as.list(my_pathways_s1)"
   ]
  },
  {
   "cell_type": "code",
   "execution_count": 17,
   "id": "ddef7e30-1bd0-46a9-b121-7ff46e445281",
   "metadata": {},
   "outputs": [
    {
     "data": {
      "text/plain": [
       "328"
      ]
     },
     "execution_count": 17,
     "metadata": {},
     "output_type": "execute_result"
    }
   ],
   "source": [
    "df = pd.read_excel('../data/EMT_gene_sets/sciadv.abi7640_table_s1.xlsx') # can also index sheet by name or fetch all sheets\n",
    "hs_pathway_genes_s1 = np.array(df['Conserved_EMP_Signature'].tolist())\n",
    "len(hs_pathway_genes_s1)"
   ]
  },
  {
   "cell_type": "code",
   "execution_count": 18,
   "id": "654f3867-360d-49e3-a3cd-8332c8ceb99b",
   "metadata": {},
   "outputs": [
    {
     "data": {
      "application/vnd.jupyter.widget-view+json": {
       "model_id": "1819b509db43418a8cdb7662d98b76f0",
       "version_major": 2,
       "version_minor": 0
      },
      "text/plain": [
       "  0%|          | 0/2 [00:00<?, ?it/s]"
      ]
     },
     "metadata": {},
     "output_type": "display_data"
    },
    {
     "ename": "HTTPError",
     "evalue": "414 Client Error: Request-URI Too Large for url: http://www.ensembl.org:80/biomart/martservice?query=%3CQuery+datasetConfigVersion%3D%220.6%22+formatter%3D%22TSV%22+header%3D%221%22+uniqueRows%3D%221%22+virtualSchemaName%3D%22default%22%3E%3CDataset+interface%3D%22default%22+name%3D%22mmusculus_gene_ensembl%22%3E%3CAttribute+name%3D%22external_gene_name%22+%2F%3E%3CAttribute+name%3D%22ensembl_gene_id%22+%2F%3E%3CFilter+name%3D%22link_ensembl_gene_id%22+value%3D%22nan%2Cnan%2CENSMUSG00000030342%2CENSMUSG00000046223%2CENSMUSG00000046733%2CENSMUSG00000022615%2Cnan%2CENSMUSG00000034708%2CENSMUSG00000000303%2CENSMUSG00000026864%2CENSMUSG00000003617%2CENSMUSG00000006519%2CENSMUSG00000019853%2CENSMUSG00000030800%2CENSMUSG00000026479%2CENSMUSG00000018171%2CENSMUSG00000022836%2CENSMUSG00000025064%2CENSMUSG00000000078%2CENSMUSG00000032294%2CENSMUSG00000051732%2CENSMUSG00000046173%2CENSMUSG00000015143%2CENSMUSG00000032373%2CENSMUSG00000029580%2CENSMUSG00000021270%2CENSMUSG00000031996%2CENSMUSG00000032679%2CENSMUSG00000068686%2CENSMUSG00000028410%2CENSMUSG00000040435%2CENSMUSG00000009013%2CENSMUSG00000037405%2CENSMUSG00000052397%2CENSMUSG00000020159%2CENSMUSG00000024232%2CENSMUSG00000054889%2CENSMUSG00000025203%2CENSMUSG00000050195%2CENSMUSG00000015312%2CENSMUSG00000020044%2CENSMUSG00000022443%2CENSMUSG00000021025%2CENSMUSG00000027566%2CENSMUSG00000067818%2CENSMUSG00000024048%2CENSMUSG00000031146%2CENSMUSG00000057762%2CENSMUSG00000062070%2CENSMUSG00000001131%2CENSMUSG00000005148%2CENSMUSG00000022010%2CENSMUSG00000063011%2CENSMUSG00000030650%2CENSMUSG00000031548%2CENSMUSG00000022257%2CENSMUSG00000005125%2CENSMUSG00000038679%2CENSMUSG00000054169%2CENSMUSG00000074272%2CENSMUSG00000054385%2CENSMUSG00000001247%2CENSMUSG00000020572%2CENSMUSG00000029838%2CENSMUSG00000000058%2CENSMUSG00000007655%2CENSMUSG00000055044%2CENSMUSG00000006777%2CENSMUSG00000018293%2CENSMUSG00000048277%2CENSMUSG00000033880%2CENSMUSG00000017677%2CENSMUSG00000037852%2CENSMUSG00000032060%2CENSMUSG00000070348%2CENSMUSG00000023456%2CENSMUSG00000019851%2CENSMUSG00000023951%2CENSMUSG00000018593%2CENSMUSG00000022528%2CENSMUSG00000026166%2CENSMUSG00000020458%2CENSMUSG00000026193%2CENSMUSG00000026185%2CENSMUSG00000008136%2CENSMUSG00000020592%2CENSMUSG00000017144%2CENSMUSG00000034926%2CENSMUSG00000028618%2CENSMUSG00000033684%2CENSMUSG00000028967%2CENSMUSG00000028645%2CENSMUSG00000033379%2CENSMUSG00000028128%2CENSMUSG00000066108%2CENSMUSG00000007891%2CENSMUSG00000027642%2CENSMUSG00000024190%2CENSMUSG00000035493%2CENSMUSG00000000278%2CENSMUSG00000039304%2CENSMUSG00000029761%2CENSMUSG00000023034%2Cnan%2CENSMUSG00000017009%2CENSMUSG00000038400%2CENSMUSG00000023067%2CENSMUSG00000076431%2CENSMUSG00000069833%2CENSMUSG00000003545%2CENSMUSG00000027456%2CENSMUSG00000027422%2CENSMUSG00000042745%2CENSMUSG00000021843%2CENSMUSG00000034127%2CENSMUSG00000044786%2CENSMUSG00000029233%2CENSMUSG00000020803%2CENSMUSG00000030693%2CENSMUSG00000035105%2CENSMUSG00000025283%2CENSMUSG00000002985%2CENSMUSG00000046718%2CENSMUSG00000054808%2CENSMUSG00000029622%2CENSMUSG00000038508%2CENSMUSG00000071076%2CENSMUSG00000076441%2CENSMUSG00000020388%2CENSMUSG00000050335%2CENSMUSG00000005483%2CENSMUSG00000028248%2CENSMUSG00000020758%2CENSMUSG00000064246%2CENSMUSG00000036478%2CENSMUSG00000030103%2CENSMUSG00000063229%2CENSMUSG00000030208%2CENSMUSG00000024331%2CENSMUSG00000021556%2CENSMUSG00000043421%2CENSMUSG00000025351%2CENSMUSG00000026473%2CENSMUSG00000026223%2CENSMUSG00000025278%2CENSMUSG00000033060%2CENSMUSG00000022108%2CENSMUSG00000029816%2CENSMUSG00000001847%2CENSMUSG00000003032%2CENSMUSG00000003541%2CENSMUSG00000029484%2CENSMUSG00000020205%2CENSMUSG00000019960%2CENSMUSG00000032366%2CENSMUSG00000030605%2CENSMUSG00000025161%2CENSMUSG00000017493%2CENSMUSG00000020241%2CENSMUSG00000022892%2CENSMUSG00000028843%2CENSMUSG00000028776%2CENSMUSG00000033295%2CENSMUSG00000026576%2CENSMUSG00000026688%2CENSMUSG00000038612%2CENSMUSG00000020571%2CENSMUSG00000054364%2CENSMUSG00000036438%2CENSMUSG00000027377%2CENSMUSG00000035356%2CENSMUSG00000029153%2CENSMUSG00000029322%2CENSMUSG00000040128%2CENSMUSG00000020427%2CENSMUSG00000034248%2CENSMUSG00000022255%2CENSMUSG00000024479%2CENSMUSG00000022354%2CENSMUSG00000008575%2CENSMUSG00000055254%2CENSMUSG00000026879%2CENSMUSG00000030790%2CENSMUSG00000023224%2CENSMUSG00000032085%2CENSMUSG00000025809%2CENSMUSG00000039405%2CENSMUSG00000022234%2CENSMUSG00000008348%2CENSMUSG00000026131%2CENSMUSG00000022671%2CENSMUSG00000045817%2CENSMUSG00000021608%2CENSMUSG00000002233%2CENSMUSG00000031488%2CENSMUSG00000022358%2CENSMUSG00000000386%2CENSMUSG00000023341%2CENSMUSG00000026547%2CENSMUSG00000059743%2CENSMUSG00000028063%2CENSMUSG00000053560%2CENSMUSG00000015837%2CENSMUSG00000028716%2CENSMUSG00000046447%2CENSMUSG00000026628%2CENSMUSG00000033161%2CENSMUSG00000003051%2CENSMUSG00000054422%2CENSMUSG00000027829%2Cnan%2CENSMUSG00000054091%2CENSMUSG00000015533%2CENSMUSG00000039910%2CENSMUSG00000021939%2CENSMUSG00000022314%2CENSMUSG00000004558%2CENSMUSG00000020048%2CENSMUSG00000060802%2CENSMUSG00000027248%2CENSMUSG00000031799%2CENSMUSG00000043091%2CENSMUSG00000074227%2CENSMUSG00000030587%2CENSMUSG00000034634%2CENSMUSG00000050063%2CENSMUSG00000010095%2CENSMUSG00000020108%2CENSMUSG00000037321%2CENSMUSG00000023232%2Cnan%2CENSMUSG00000027954%2Cnan%2CENSMUSG00000015093%2CENSMUSG00000025153%2CENSMUSG00000027800%2CENSMUSG00000019505%2CENSMUSG00000052837%2CENSMUSG00000035775%2CENSMUSG00000059325%2CENSMUSG00000053964%2CENSMUSG00000039001%2CENSMUSG00000079037%2CENSMUSG00000056501%2CENSMUSG00000023175%2CENSMUSG00000023064%2CENSMUSG00000073730%2CENSMUSG00000022824%2CENSMUSG00000070327%2CENSMUSG00000047945%2CENSMUSG00000024846%2CENSMUSG00000047281%2CENSMUSG00000030111%2Cnan%2CENSMUSG00000052684%2CENSMUSG00000025510%2CENSMUSG00000022565%2CENSMUSG00000003814%2CENSMUSG00000010760%2CENSMUSG00000018569%2CENSMUSG00000038521%2CENSMUSG00000079343%2CENSMUSG00000006356%2CENSMUSG00000062825%2CENSMUSG00000051397%2CENSMUSG00000025492%2CENSMUSG00000060591%2CENSMUSG00000025491%2CENSMUSG00000065968%2CENSMUSG00000025130%2CENSMUSG00000040280%2CENSMUSG00000021127%2CENSMUSG00000025492%2CENSMUSG00000060591%2CENSMUSG00000025491%2CENSMUSG00000065968%2CENSMUSG00000053797%2CENSMUSG00000002980%2CENSMUSG00000035692%2CENSMUSG00000074457%2CENSMUSG00000022548%2CENSMUSG00000001020%2CENSMUSG00000004552%2Cnan%2CENSMUSG00000026399%2CENSMUSG00000026401%2CENSMUSG00000055447%2CENSMUSG00000026639%2CENSMUSG00000031328%2CENSMUSG00000029672%2CENSMUSG00000004207%2CENSMUSG00000021831%2CENSMUSG00000028464%2CENSMUSG00000067341%2CENSMUSG00000091971%2CENSMUSG00000090877%2CENSMUSG00000091971%2CENSMUSG00000090877%2CENSMUSG00000037130%2CENSMUSG00000048231%2CENSMUSG00000037334%2CENSMUSG00000073411%2CENSMUSG00000079507%2CENSMUSG00000054128%2CENSMUSG00000091705%2CENSMUSG00000035929%2CENSMUSG00000073402%2CENSMUSG00000060550%2CENSMUSG00000037537%2CENSMUSG00000067235%2CENSMUSG00000024448%2CENSMUSG00000079492%2CENSMUSG00000067201%2CENSMUSG00000067212%2CENSMUSG00000024459%2CENSMUSG00000016206%2CENSMUSG00000058124%2CENSMUSG00000023083%2CENSMUSG00000073409%2CENSMUSG00000056116%2CENSMUSG00000037246%2CENSMUSG00000092243%2CENSMUSG00000079491%2CENSMUSG00000016283%2CENSMUSG00000064308%2CENSMUSG00000061232%2CENSMUSG00000037130%2CENSMUSG00000048231%2CENSMUSG00000037334%2CENSMUSG00000073411%2CENSMUSG00000079507%2CENSMUSG00000054128%2CENSMUSG00000091705%2CENSMUSG00000035929%2CENSMUSG00000073402%2CENSMUSG00000060550%2CENSMUSG00000037537%2CENSMUSG00000067235%2CENSMUSG00000024448%2CENSMUSG00000079492%2CENSMUSG00000067201%2CENSMUSG00000067212%2CENSMUSG00000024459%2CENSMUSG00000016206%2CENSMUSG00000058124%2CENSMUSG00000023083%2CENSMUSG00000073409%2CENSMUSG00000056116%2CENSMUSG00000037246%2CENSMUSG00000092243%2CENSMUSG00000079491%2CENSMUSG00000016283%2CENSMUSG00000064308%2CENSMUSG00000061232%2Cnan%2Cnan%2Cnan%2Cnan%2Cnan%2Cnan%2Cnan%2CENSMUSG00000037130%2CENSMUSG00000048231%2CENSMUSG00000037334%2CENSMUSG00000073411%2CENSMUSG00000079507%2CENSMUSG00000054128%2CENSMUSG00000091705%2CENSMUSG00000035929%2CENSMUSG00000073402%2CENSMUSG00000060550%2CENSMUSG00000037537%2CENSMUSG00000067235%2CENSMUSG00000024448%2CENSMUSG00000079492%2CENSMUSG00000067201%2CENSMUSG00000067212%2CENSMUSG00000024459%2CENSMUSG00000016206%2CENSMUSG00000058124%2CENSMUSG00000023083%2CENSMUSG00000073409%2CENSMUSG00000056116%2CENSMUSG00000037246%2CENSMUSG00000092243%2CENSMUSG00000079491%2CENSMUSG00000016283%2CENSMUSG00000064308%2CENSMUSG00000061232%2Cnan%2Cnan%2CENSMUSG00000006360%2CENSMUSG00000007041%2Cnan%2CENSMUSG00000071637%2Cnan%2Cnan%2Cnan%2Cnan%2Cnan%2Cnan%2Cnan%2Cnan%2Cnan%2Cnan%2Cnan%2Cnan%2Cnan%2Cnan%2Cnan%2Cnan%2Cnan%2Cnan%2Cnan%2Cnan%2Cnan%2Cnan%2Cnan%2Cnan%2Cnan%2Cnan%2Cnan%2Cnan%2Cnan%2Cnan%2Cnan%2Cnan%2Cnan%2Cnan%2Cnan%2Cnan%2Cnan%2Cnan%2Cnan%2Cnan%2Cnan%2Cnan%2CENSMUSG00000096727%2Cnan%2Cnan%2Cnan%2Cnan%2Cnan%2Cnan%2Cnan%2Cnan%2Cnan%2CENSMUSG00000038393%2Cnan%2Cnan%2Cnan%2Cnan%2Cnan%2Cnan%2Cnan%2Cnan%2Cnan%2CENSMUSG00000006818%22+%2F%3E%3C%2FDataset%3E%3C%2FQuery%3E",
     "output_type": "error",
     "traceback": [
      "\u001b[0;31m---------------------------------------------------------------------------\u001b[0m",
      "\u001b[0;31mHTTPError\u001b[0m                                 Traceback (most recent call last)",
      "\u001b[0;32m/tmp/ipykernel_269392/4057025014.py\u001b[0m in \u001b[0;36m<module>\u001b[0;34m\u001b[0m\n\u001b[1;32m      1\u001b[0m \u001b[0;32mfrom\u001b[0m \u001b[0mpyorthomap\u001b[0m \u001b[0;32mimport\u001b[0m \u001b[0mfindOrthologsMmHs\u001b[0m\u001b[0;34m,\u001b[0m \u001b[0mfindOrthologsHsMm\u001b[0m\u001b[0;34m\u001b[0m\u001b[0;34m\u001b[0m\u001b[0m\n\u001b[1;32m      2\u001b[0m orthologies_hsmm = findOrthologsHsMm(from_filters = 'hgnc_symbol',\n\u001b[0;32m----> 3\u001b[0;31m                   from_values = hs_pathway_genes_s1).map()\n\u001b[0m\u001b[1;32m      4\u001b[0m                   \u001b[0;31m# from_values = [list(stats_df.index)]).map() # [stats.gene.names]).map()\u001b[0m\u001b[0;34m\u001b[0m\u001b[0;34m\u001b[0m\u001b[0;34m\u001b[0m\u001b[0m\n",
      "\u001b[0;32m~/anaconda3/envs/scib-pipeline-R4.0/lib/python3.7/site-packages/pyorthomap/FindOrthologs.py\u001b[0m in \u001b[0;36mmap\u001b[0;34m(self, from_values)\u001b[0m\n\u001b[1;32m    117\u001b[0m             to_gene_id2whatever = self.ensembl_to.query(attributes=self.to_attributes + ['ensembl_gene_id'],\n\u001b[1;32m    118\u001b[0m                                                         \u001b[0mfilters\u001b[0m\u001b[0;34m=\u001b[0m\u001b[0;34m{\u001b[0m\u001b[0;34m'link_ensembl_gene_id'\u001b[0m\u001b[0;34m:\u001b[0m \u001b[0mfrom2to\u001b[0m\u001b[0;34m[\u001b[0m\u001b[0mself\u001b[0m\u001b[0;34m.\u001b[0m\u001b[0mto_homolog_attribute\u001b[0m\u001b[0;34m]\u001b[0m\u001b[0;34m.\u001b[0m\u001b[0mtolist\u001b[0m\u001b[0;34m(\u001b[0m\u001b[0;34m)\u001b[0m\u001b[0;34m}\u001b[0m\u001b[0;34m,\u001b[0m\u001b[0;34m\u001b[0m\u001b[0;34m\u001b[0m\u001b[0m\n\u001b[0;32m--> 119\u001b[0;31m                                                         use_attr_names=True)\n\u001b[0m\u001b[1;32m    120\u001b[0m             \u001b[0mto_gene_id2whatever\u001b[0m \u001b[0;34m=\u001b[0m \u001b[0mto_gene_id2whatever\u001b[0m\u001b[0;34m.\u001b[0m\u001b[0mrename\u001b[0m\u001b[0;34m(\u001b[0m\u001b[0mcolumns\u001b[0m\u001b[0;34m=\u001b[0m\u001b[0;34m{\u001b[0m\u001b[0;34m'ensembl_gene_id'\u001b[0m\u001b[0;34m:\u001b[0m \u001b[0mself\u001b[0m\u001b[0;34m.\u001b[0m\u001b[0mto_gene_id_name\u001b[0m\u001b[0;34m}\u001b[0m\u001b[0;34m)\u001b[0m\u001b[0;34m\u001b[0m\u001b[0;34m\u001b[0m\u001b[0m\n\u001b[1;32m    121\u001b[0m \u001b[0;34m\u001b[0m\u001b[0m\n",
      "\u001b[0;32m~/anaconda3/envs/scib-pipeline-R4.0/lib/python3.7/site-packages/pybiomart/dataset.py\u001b[0m in \u001b[0;36mquery\u001b[0;34m(self, attributes, filters, only_unique, use_attr_names)\u001b[0m\n\u001b[1;32m    260\u001b[0m \u001b[0;34m\u001b[0m\u001b[0m\n\u001b[1;32m    261\u001b[0m         \u001b[0;31m# Fetch response.\u001b[0m\u001b[0;34m\u001b[0m\u001b[0;34m\u001b[0m\u001b[0;34m\u001b[0m\u001b[0m\n\u001b[0;32m--> 262\u001b[0;31m         \u001b[0mresponse\u001b[0m \u001b[0;34m=\u001b[0m \u001b[0mself\u001b[0m\u001b[0;34m.\u001b[0m\u001b[0mget\u001b[0m\u001b[0;34m(\u001b[0m\u001b[0mquery\u001b[0m\u001b[0;34m=\u001b[0m\u001b[0mElementTree\u001b[0m\u001b[0;34m.\u001b[0m\u001b[0mtostring\u001b[0m\u001b[0;34m(\u001b[0m\u001b[0mroot\u001b[0m\u001b[0;34m)\u001b[0m\u001b[0;34m)\u001b[0m\u001b[0;34m\u001b[0m\u001b[0;34m\u001b[0m\u001b[0m\n\u001b[0m\u001b[1;32m    263\u001b[0m \u001b[0;34m\u001b[0m\u001b[0m\n\u001b[1;32m    264\u001b[0m         \u001b[0;31m# Raise exception if an error occurred.\u001b[0m\u001b[0;34m\u001b[0m\u001b[0;34m\u001b[0m\u001b[0;34m\u001b[0m\u001b[0m\n",
      "\u001b[0;32m~/anaconda3/envs/scib-pipeline-R4.0/lib/python3.7/site-packages/pybiomart/base.py\u001b[0m in \u001b[0;36mget\u001b[0;34m(self, **params)\u001b[0m\n\u001b[1;32m    109\u001b[0m             \u001b[0;32mwith\u001b[0m \u001b[0mrequests_cache\u001b[0m\u001b[0;34m.\u001b[0m\u001b[0mdisabled\u001b[0m\u001b[0;34m(\u001b[0m\u001b[0;34m)\u001b[0m\u001b[0;34m:\u001b[0m\u001b[0;34m\u001b[0m\u001b[0;34m\u001b[0m\u001b[0m\n\u001b[1;32m    110\u001b[0m                 \u001b[0mr\u001b[0m \u001b[0;34m=\u001b[0m \u001b[0mrequests\u001b[0m\u001b[0;34m.\u001b[0m\u001b[0mget\u001b[0m\u001b[0;34m(\u001b[0m\u001b[0mself\u001b[0m\u001b[0;34m.\u001b[0m\u001b[0murl\u001b[0m\u001b[0;34m,\u001b[0m \u001b[0mparams\u001b[0m\u001b[0;34m=\u001b[0m\u001b[0mparams\u001b[0m\u001b[0;34m)\u001b[0m\u001b[0;34m\u001b[0m\u001b[0;34m\u001b[0m\u001b[0m\n\u001b[0;32m--> 111\u001b[0;31m         \u001b[0mr\u001b[0m\u001b[0;34m.\u001b[0m\u001b[0mraise_for_status\u001b[0m\u001b[0;34m(\u001b[0m\u001b[0;34m)\u001b[0m\u001b[0;34m\u001b[0m\u001b[0;34m\u001b[0m\u001b[0m\n\u001b[0m\u001b[1;32m    112\u001b[0m         \u001b[0;32mreturn\u001b[0m \u001b[0mr\u001b[0m\u001b[0;34m\u001b[0m\u001b[0;34m\u001b[0m\u001b[0m\n\u001b[1;32m    113\u001b[0m \u001b[0;34m\u001b[0m\u001b[0m\n",
      "\u001b[0;32m~/anaconda3/envs/scib-pipeline-R4.0/lib/python3.7/site-packages/requests/models.py\u001b[0m in \u001b[0;36mraise_for_status\u001b[0;34m(self)\u001b[0m\n\u001b[1;32m   1019\u001b[0m \u001b[0;34m\u001b[0m\u001b[0m\n\u001b[1;32m   1020\u001b[0m         \u001b[0;32mif\u001b[0m \u001b[0mhttp_error_msg\u001b[0m\u001b[0;34m:\u001b[0m\u001b[0;34m\u001b[0m\u001b[0;34m\u001b[0m\u001b[0m\n\u001b[0;32m-> 1021\u001b[0;31m             \u001b[0;32mraise\u001b[0m \u001b[0mHTTPError\u001b[0m\u001b[0;34m(\u001b[0m\u001b[0mhttp_error_msg\u001b[0m\u001b[0;34m,\u001b[0m \u001b[0mresponse\u001b[0m\u001b[0;34m=\u001b[0m\u001b[0mself\u001b[0m\u001b[0;34m)\u001b[0m\u001b[0;34m\u001b[0m\u001b[0;34m\u001b[0m\u001b[0m\n\u001b[0m\u001b[1;32m   1022\u001b[0m \u001b[0;34m\u001b[0m\u001b[0m\n\u001b[1;32m   1023\u001b[0m     \u001b[0;32mdef\u001b[0m \u001b[0mclose\u001b[0m\u001b[0;34m(\u001b[0m\u001b[0mself\u001b[0m\u001b[0;34m)\u001b[0m\u001b[0;34m:\u001b[0m\u001b[0;34m\u001b[0m\u001b[0;34m\u001b[0m\u001b[0m\n",
      "\u001b[0;31mHTTPError\u001b[0m: 414 Client Error: Request-URI Too Large for url: http://www.ensembl.org:80/biomart/martservice?query=%3CQuery+datasetConfigVersion%3D%220.6%22+formatter%3D%22TSV%22+header%3D%221%22+uniqueRows%3D%221%22+virtualSchemaName%3D%22default%22%3E%3CDataset+interface%3D%22default%22+name%3D%22mmusculus_gene_ensembl%22%3E%3CAttribute+name%3D%22external_gene_name%22+%2F%3E%3CAttribute+name%3D%22ensembl_gene_id%22+%2F%3E%3CFilter+name%3D%22link_ensembl_gene_id%22+value%3D%22nan%2Cnan%2CENSMUSG00000030342%2CENSMUSG00000046223%2CENSMUSG00000046733%2CENSMUSG00000022615%2Cnan%2CENSMUSG00000034708%2CENSMUSG00000000303%2CENSMUSG00000026864%2CENSMUSG00000003617%2CENSMUSG00000006519%2CENSMUSG00000019853%2CENSMUSG00000030800%2CENSMUSG00000026479%2CENSMUSG00000018171%2CENSMUSG00000022836%2CENSMUSG00000025064%2CENSMUSG00000000078%2CENSMUSG00000032294%2CENSMUSG00000051732%2CENSMUSG00000046173%2CENSMUSG00000015143%2CENSMUSG00000032373%2CENSMUSG00000029580%2CENSMUSG00000021270%2CENSMUSG00000031996%2CENSMUSG00000032679%2CENSMUSG00000068686%2CENSMUSG00000028410%2CENSMUSG00000040435%2CENSMUSG00000009013%2CENSMUSG00000037405%2CENSMUSG00000052397%2CENSMUSG00000020159%2CENSMUSG00000024232%2CENSMUSG00000054889%2CENSMUSG00000025203%2CENSMUSG00000050195%2CENSMUSG00000015312%2CENSMUSG00000020044%2CENSMUSG00000022443%2CENSMUSG00000021025%2CENSMUSG00000027566%2CENSMUSG00000067818%2CENSMUSG00000024048%2CENSMUSG00000031146%2CENSMUSG00000057762%2CENSMUSG00000062070%2CENSMUSG00000001131%2CENSMUSG00000005148%2CENSMUSG00000022010%2CENSMUSG00000063011%2CENSMUSG00000030650%2CENSMUSG00000031548%2CENSMUSG00000022257%2CENSMUSG00000005125%2CENSMUSG00000038679%2CENSMUSG00000054169%2CENSMUSG00000074272%2CENSMUSG00000054385%2CENSMUSG00000001247%2CENSMUSG00000020572%2CENSMUSG00000029838%2CENSMUSG00000000058%2CENSMUSG00000007655%2CENSMUSG00000055044%2CENSMUSG00000006777%2CENSMUSG00000018293%2CENSMUSG00000048277%2CENSMUSG00000033880%2CENSMUSG00000017677%2CENSMUSG00000037852%2CENSMUSG00000032060%2CENSMUSG00000070348%2CENSMUSG00000023456%2CENSMUSG00000019851%2CENSMUSG00000023951%2CENSMUSG00000018593%2CENSMUSG00000022528%2CENSMUSG00000026166%2CENSMUSG00000020458%2CENSMUSG00000026193%2CENSMUSG00000026185%2CENSMUSG00000008136%2CENSMUSG00000020592%2CENSMUSG00000017144%2CENSMUSG00000034926%2CENSMUSG00000028618%2CENSMUSG00000033684%2CENSMUSG00000028967%2CENSMUSG00000028645%2CENSMUSG00000033379%2CENSMUSG00000028128%2CENSMUSG00000066108%2CENSMUSG00000007891%2CENSMUSG00000027642%2CENSMUSG00000024190%2CENSMUSG00000035493%2CENSMUSG00000000278%2CENSMUSG00000039304%2CENSMUSG00000029761%2CENSMUSG00000023034%2Cnan%2CENSMUSG00000017009%2CENSMUSG00000038400%2CENSMUSG00000023067%2CENSMUSG00000076431%2CENSMUSG00000069833%2CENSMUSG00000003545%2CENSMUSG00000027456%2CENSMUSG00000027422%2CENSMUSG00000042745%2CENSMUSG00000021843%2CENSMUSG00000034127%2CENSMUSG00000044786%2CENSMUSG00000029233%2CENSMUSG00000020803%2CENSMUSG00000030693%2CENSMUSG00000035105%2CENSMUSG00000025283%2CENSMUSG00000002985%2CENSMUSG00000046718%2CENSMUSG00000054808%2CENSMUSG00000029622%2CENSMUSG00000038508%2CENSMUSG00000071076%2CENSMUSG00000076441%2CENSMUSG00000020388%2CENSMUSG00000050335%2CENSMUSG00000005483%2CENSMUSG00000028248%2CENSMUSG00000020758%2CENSMUSG00000064246%2CENSMUSG00000036478%2CENSMUSG00000030103%2CENSMUSG00000063229%2CENSMUSG00000030208%2CENSMUSG00000024331%2CENSMUSG00000021556%2CENSMUSG00000043421%2CENSMUSG00000025351%2CENSMUSG00000026473%2CENSMUSG00000026223%2CENSMUSG00000025278%2CENSMUSG00000033060%2CENSMUSG00000022108%2CENSMUSG00000029816%2CENSMUSG00000001847%2CENSMUSG00000003032%2CENSMUSG00000003541%2CENSMUSG00000029484%2CENSMUSG00000020205%2CENSMUSG00000019960%2CENSMUSG00000032366%2CENSMUSG00000030605%2CENSMUSG00000025161%2CENSMUSG00000017493%2CENSMUSG00000020241%2CENSMUSG00000022892%2CENSMUSG00000028843%2CENSMUSG00000028776%2CENSMUSG00000033295%2CENSMUSG00000026576%2CENSMUSG00000026688%2CENSMUSG00000038612%2CENSMUSG00000020571%2CENSMUSG00000054364%2CENSMUSG00000036438%2CENSMUSG00000027377%2CENSMUSG00000035356%2CENSMUSG00000029153%2CENSMUSG00000029322%2CENSMUSG00000040128%2CENSMUSG00000020427%2CENSMUSG00000034248%2CENSMUSG00000022255%2CENSMUSG00000024479%2CENSMUSG00000022354%2CENSMUSG00000008575%2CENSMUSG00000055254%2CENSMUSG00000026879%2CENSMUSG00000030790%2CENSMUSG00000023224%2CENSMUSG00000032085%2CENSMUSG00000025809%2CENSMUSG00000039405%2CENSMUSG00000022234%2CENSMUSG00000008348%2CENSMUSG00000026131%2CENSMUSG00000022671%2CENSMUSG00000045817%2CENSMUSG00000021608%2CENSMUSG00000002233%2CENSMUSG00000031488%2CENSMUSG00000022358%2CENSMUSG00000000386%2CENSMUSG00000023341%2CENSMUSG00000026547%2CENSMUSG00000059743%2CENSMUSG00000028063%2CENSMUSG00000053560%2CENSMUSG00000015837%2CENSMUSG00000028716%2CENSMUSG00000046447%2CENSMUSG00000026628%2CENSMUSG00000033161%2CENSMUSG00000003051%2CENSMUSG00000054422%2CENSMUSG00000027829%2Cnan%2CENSMUSG00000054091%2CENSMUSG00000015533%2CENSMUSG00000039910%2CENSMUSG00000021939%2CENSMUSG00000022314%2CENSMUSG00000004558%2CENSMUSG00000020048%2CENSMUSG00000060802%2CENSMUSG00000027248%2CENSMUSG00000031799%2CENSMUSG00000043091%2CENSMUSG00000074227%2CENSMUSG00000030587%2CENSMUSG00000034634%2CENSMUSG00000050063%2CENSMUSG00000010095%2CENSMUSG00000020108%2CENSMUSG00000037321%2CENSMUSG00000023232%2Cnan%2CENSMUSG00000027954%2Cnan%2CENSMUSG00000015093%2CENSMUSG00000025153%2CENSMUSG00000027800%2CENSMUSG00000019505%2CENSMUSG00000052837%2CENSMUSG00000035775%2CENSMUSG00000059325%2CENSMUSG00000053964%2CENSMUSG00000039001%2CENSMUSG00000079037%2CENSMUSG00000056501%2CENSMUSG00000023175%2CENSMUSG00000023064%2CENSMUSG00000073730%2CENSMUSG00000022824%2CENSMUSG00000070327%2CENSMUSG00000047945%2CENSMUSG00000024846%2CENSMUSG00000047281%2CENSMUSG00000030111%2Cnan%2CENSMUSG00000052684%2CENSMUSG00000025510%2CENSMUSG00000022565%2CENSMUSG00000003814%2CENSMUSG00000010760%2CENSMUSG00000018569%2CENSMUSG00000038521%2CENSMUSG00000079343%2CENSMUSG00000006356%2CENSMUSG00000062825%2CENSMUSG00000051397%2CENSMUSG00000025492%2CENSMUSG00000060591%2CENSMUSG00000025491%2CENSMUSG00000065968%2CENSMUSG00000025130%2CENSMUSG00000040280%2CENSMUSG00000021127%2CENSMUSG00000025492%2CENSMUSG00000060591%2CENSMUSG00000025491%2CENSMUSG00000065968%2CENSMUSG00000053797%2CENSMUSG00000002980%2CENSMUSG00000035692%2CENSMUSG00000074457%2CENSMUSG00000022548%2CENSMUSG00000001020%2CENSMUSG00000004552%2Cnan%2CENSMUSG00000026399%2CENSMUSG00000026401%2CENSMUSG00000055447%2CENSMUSG00000026639%2CENSMUSG00000031328%2CENSMUSG00000029672%2CENSMUSG00000004207%2CENSMUSG00000021831%2CENSMUSG00000028464%2CENSMUSG00000067341%2CENSMUSG00000091971%2CENSMUSG00000090877%2CENSMUSG00000091971%2CENSMUSG00000090877%2CENSMUSG00000037130%2CENSMUSG00000048231%2CENSMUSG00000037334%2CENSMUSG00000073411%2CENSMUSG00000079507%2CENSMUSG00000054128%2CENSMUSG00000091705%2CENSMUSG00000035929%2CENSMUSG00000073402%2CENSMUSG00000060550%2CENSMUSG00000037537%2CENSMUSG00000067235%2CENSMUSG00000024448%2CENSMUSG00000079492%2CENSMUSG00000067201%2CENSMUSG00000067212%2CENSMUSG00000024459%2CENSMUSG00000016206%2CENSMUSG00000058124%2CENSMUSG00000023083%2CENSMUSG00000073409%2CENSMUSG00000056116%2CENSMUSG00000037246%2CENSMUSG00000092243%2CENSMUSG00000079491%2CENSMUSG00000016283%2CENSMUSG00000064308%2CENSMUSG00000061232%2CENSMUSG00000037130%2CENSMUSG00000048231%2CENSMUSG00000037334%2CENSMUSG00000073411%2CENSMUSG00000079507%2CENSMUSG00000054128%2CENSMUSG00000091705%2CENSMUSG00000035929%2CENSMUSG00000073402%2CENSMUSG00000060550%2CENSMUSG00000037537%2CENSMUSG00000067235%2CENSMUSG00000024448%2CENSMUSG00000079492%2CENSMUSG00000067201%2CENSMUSG00000067212%2CENSMUSG00000024459%2CENSMUSG00000016206%2CENSMUSG00000058124%2CENSMUSG00000023083%2CENSMUSG00000073409%2CENSMUSG00000056116%2CENSMUSG00000037246%2CENSMUSG00000092243%2CENSMUSG00000079491%2CENSMUSG00000016283%2CENSMUSG00000064308%2CENSMUSG00000061232%2Cnan%2Cnan%2Cnan%2Cnan%2Cnan%2Cnan%2Cnan%2CENSMUSG00000037130%2CENSMUSG00000048231%2CENSMUSG00000037334%2CENSMUSG00000073411%2CENSMUSG00000079507%2CENSMUSG00000054128%2CENSMUSG00000091705%2CENSMUSG00000035929%2CENSMUSG00000073402%2CENSMUSG00000060550%2CENSMUSG00000037537%2CENSMUSG00000067235%2CENSMUSG00000024448%2CENSMUSG00000079492%2CENSMUSG00000067201%2CENSMUSG00000067212%2CENSMUSG00000024459%2CENSMUSG00000016206%2CENSMUSG00000058124%2CENSMUSG00000023083%2CENSMUSG00000073409%2CENSMUSG00000056116%2CENSMUSG00000037246%2CENSMUSG00000092243%2CENSMUSG00000079491%2CENSMUSG00000016283%2CENSMUSG00000064308%2CENSMUSG00000061232%2Cnan%2Cnan%2CENSMUSG00000006360%2CENSMUSG00000007041%2Cnan%2CENSMUSG00000071637%2Cnan%2Cnan%2Cnan%2Cnan%2Cnan%2Cnan%2Cnan%2Cnan%2Cnan%2Cnan%2Cnan%2Cnan%2Cnan%2Cnan%2Cnan%2Cnan%2Cnan%2Cnan%2Cnan%2Cnan%2Cnan%2Cnan%2Cnan%2Cnan%2Cnan%2Cnan%2Cnan%2Cnan%2Cnan%2Cnan%2Cnan%2Cnan%2Cnan%2Cnan%2Cnan%2Cnan%2Cnan%2Cnan%2Cnan%2Cnan%2Cnan%2Cnan%2CENSMUSG00000096727%2Cnan%2Cnan%2Cnan%2Cnan%2Cnan%2Cnan%2Cnan%2Cnan%2Cnan%2CENSMUSG00000038393%2Cnan%2Cnan%2Cnan%2Cnan%2Cnan%2Cnan%2Cnan%2Cnan%2Cnan%2CENSMUSG00000006818%22+%2F%3E%3C%2FDataset%3E%3C%2FQuery%3E"
     ]
    }
   ],
   "source": [
    "from pyorthomap import findOrthologsMmHs, findOrthologsHsMm\n",
    "orthologies_hsmm = findOrthologsHsMm(from_filters = 'hgnc_symbol',\n",
    "                  from_values = hs_pathway_genes_s1).map()\n",
    "                  # from_values = [list(stats_df.index)]).map() # [stats.gene.names]).map()"
   ]
  },
  {
   "cell_type": "code",
   "execution_count": null,
   "id": "f2b8b021-647e-4270-a247-b5d92a372f17",
   "metadata": {},
   "outputs": [],
   "source": [
    "my_pathways_s1 = orthologies_hsmm['external_gene_name'].tolist()\n",
    "my_pathways_s1[:10]"
   ]
  },
  {
   "cell_type": "code",
   "execution_count": null,
   "id": "716799d4-2c9e-416d-901c-7bb451d8edd5",
   "metadata": {},
   "outputs": [],
   "source": [
    "%R -i my_pathways_s1"
   ]
  },
  {
   "cell_type": "markdown",
   "id": "ae2e48b4-96ed-47c3-ab29-4ced2df433c3",
   "metadata": {},
   "source": [
    "## S2 Pathway"
   ]
  },
  {
   "cell_type": "code",
   "execution_count": null,
   "id": "e90e69e0-712b-4ca4-95c8-36ef524c40d7",
   "metadata": {},
   "outputs": [],
   "source": [
    "%%R\n",
    "library(readxl)\n",
    "my_pathways_s2=read_excel('../data/EMT_gene_sets/sciadv.abi7640_table_s2.xlsx')\n",
    "my_pathways_s2=as.list(my_pathways_s2)\n",
    "# my_pathways"
   ]
  },
  {
   "cell_type": "code",
   "execution_count": null,
   "id": "7dc3e2eb-7405-4141-a7f6-d6150425afa1",
   "metadata": {},
   "outputs": [],
   "source": [
    "df = pd.read_excel('../data/EMT_gene_sets/sciadv.abi7640_table_s2.xlsx') # can also index sheet by name or fetch all sheets\n",
    "hs_pathway_genes_s2 = np.array(df['Malignant_specific_EMP'].tolist())\n",
    "len(hs_pathway_genes_s2)"
   ]
  },
  {
   "cell_type": "code",
   "execution_count": null,
   "id": "d019d3ee-1eb6-4ed2-a129-22a5b4e18e1f",
   "metadata": {},
   "outputs": [],
   "source": [
    "from pyorthomap import findOrthologsMmHs, findOrthologsHsMm\n",
    "orthologies_hsmm = findOrthologsHsMm(from_filters = 'hgnc_symbol',\n",
    "                  from_values = hs_pathway_genes_s2).map()\n",
    "                  # from_values = [list(stats_df.index)]).map() # [stats.gene.names]).map()"
   ]
  },
  {
   "cell_type": "code",
   "execution_count": null,
   "id": "a53f024f-f05f-4a00-af70-2aa06d2c4b08",
   "metadata": {},
   "outputs": [],
   "source": [
    "my_pathways_s2 = orthologies_hsmm['external_gene_name'].tolist()\n",
    "my_pathways_s2[:10]"
   ]
  },
  {
   "cell_type": "code",
   "execution_count": null,
   "id": "e87d3726-9dc3-4326-9807-50de45798fe8",
   "metadata": {},
   "outputs": [],
   "source": [
    "%R -i my_pathways_s2"
   ]
  },
  {
   "cell_type": "markdown",
   "id": "8d76de79-a83a-4191-9045-e20f594decca",
   "metadata": {},
   "source": [
    "## Hallmark EMP Pathway"
   ]
  },
  {
   "cell_type": "code",
   "execution_count": null,
   "id": "a9bb3cb0-0beb-43c3-a053-82a4d5ca4e19",
   "metadata": {},
   "outputs": [],
   "source": [
    "%%R\n",
    "all_pathways <- gmtPathways('../data/Hallmark/h.all.v7.5.1.symbols.gmt')\n",
    "my_pathways_hallmark_ <- all_pathways['HALLMARK_EPITHELIAL_MESENCHYMAL_TRANSITION']\n",
    "\n",
    "# Define the file name that will be deleted\n",
    "fn <- '../data/EMT_gene_sets/hallmark_emt.csv'\n",
    "# Check its existence\n",
    "if (file.exists(fn)) {\n",
    "  # Delete file if it exists\n",
    "  file.remove(fn)\n",
    "}\n",
    "\n",
    "lapply(my_pathways_hallmark_, function(x) write.table( data.frame(x), fn, append=T, sep=','))\n",
    "my_pathways_hallmark_"
   ]
  },
  {
   "cell_type": "code",
   "execution_count": null,
   "id": "fb0cadb2-bdb2-458a-b8fd-4f2d0b4023a6",
   "metadata": {},
   "outputs": [],
   "source": [
    "hs_pathway_genes_hallmark = pd.read_csv('../data/EMT_gene_sets/hallmark_emt.csv')['x'].tolist()"
   ]
  },
  {
   "cell_type": "code",
   "execution_count": null,
   "id": "f5048ad1-a3db-481d-a347-0b857cab39bd",
   "metadata": {},
   "outputs": [],
   "source": [
    "from pyorthomap import findOrthologsMmHs, findOrthologsHsMm\n",
    "orthologies_hsmm = findOrthologsHsMm(from_filters = 'hgnc_symbol',\n",
    "                  from_values = hs_pathway_genes_hallmark).map()\n",
    "                  # from_values = [list(stats_df.index)]).map() # [stats.gene.names]).map()"
   ]
  },
  {
   "cell_type": "code",
   "execution_count": null,
   "id": "ef6c16ab-e226-475f-8099-53fcbefd7e58",
   "metadata": {},
   "outputs": [],
   "source": [
    "my_pathways_hallmark = orthologies_hsmm['external_gene_name'].tolist()\n",
    "my_pathways_hallmark[:10]"
   ]
  },
  {
   "cell_type": "code",
   "execution_count": null,
   "id": "d5799173-60b0-45da-a8c0-3a4d9387770a",
   "metadata": {},
   "outputs": [],
   "source": [
    "%R -i my_pathways_hallmark"
   ]
  },
  {
   "cell_type": "markdown",
   "id": "01060758-65f6-4e5a-a6fa-e547c589a2ed",
   "metadata": {
    "pycharm": {
     "name": "#%% md\n"
    }
   },
   "source": [
    "### Cell-level pathway activity scoring using AUCell"
   ]
  },
  {
   "cell_type": "code",
   "execution_count": null,
   "id": "fc48a36b-5a51-4c44-b732-0b9226d942ed",
   "metadata": {
    "scrolled": true,
    "tags": []
   },
   "outputs": [],
   "source": [
    "# Ignore this error. It occurs for some unknown reason, but adata is imported and you can continue to run the next cells\n",
    "%R -i adata"
   ]
  },
  {
   "cell_type": "code",
   "execution_count": null,
   "id": "eafdec8a-182c-4fd3-919a-dc50b549a0df",
   "metadata": {
    "pycharm": {
     "name": "#%%\n"
    }
   },
   "outputs": [],
   "source": [
    "%%R\n",
    "# Bioconductor 3.15 and R 4.2.0\n",
    "# adata_aucell <- AUCell_run(adata_ , pathways)\n",
    "\n",
    "cells_rankings <- AUCell_buildRankings(adata, plotStats=FALSE)\n",
    "cells_AUC_s1 <- AUCell_calcAUC(my_pathways_s1, cells_rankings)\n",
    "cells_AUC_s2 <- AUCell_calcAUC(my_pathways_s2, cells_rankings)\n",
    "cells_AUC_hallmark <- AUCell_calcAUC(my_pathways_hallmark, cells_rankings)"
   ]
  },
  {
   "cell_type": "code",
   "execution_count": null,
   "id": "79c2ed4e-1c47-4da3-9f00-4453896c97e0",
   "metadata": {
    "pycharm": {
     "name": "#%%\n"
    }
   },
   "outputs": [],
   "source": [
    "%%R\n",
    "dim(cells_AUC_s1)"
   ]
  },
  {
   "cell_type": "code",
   "execution_count": null,
   "id": "6732d20a-4523-48a9-bac5-243f2e25b890",
   "metadata": {},
   "outputs": [],
   "source": [
    "%%R\n",
    "dim(cells_AUC_s2)"
   ]
  },
  {
   "cell_type": "code",
   "execution_count": null,
   "id": "43c30c52-e499-4e9a-beeb-bc1f10241582",
   "metadata": {},
   "outputs": [],
   "source": [
    "%%R\n",
    "dim(cells_AUC_hallmark)"
   ]
  },
  {
   "cell_type": "code",
   "execution_count": null,
   "id": "f510f748-04b0-4087-86e2-7efc613dd9cd",
   "metadata": {
    "pycharm": {
     "name": "#%%\n"
    }
   },
   "outputs": [],
   "source": [
    "%%R\n",
    "# S1\n",
    "aucell_scores_s1 <- data.frame(cells_AUC_s1@assays@data$AUC)\n",
    "rownames(aucell_scores_s1) <- cells_AUC_s1@NAMES\n",
    "colnames(aucell_scores_s1) <- colnames(adata)\n",
    "# S2\n",
    "aucell_scores_s2 <- data.frame(cells_AUC_s2@assays@data$AUC)\n",
    "rownames(aucell_scores_s2) <- cells_AUC_s2@NAMES\n",
    "colnames(aucell_scores_s2) <- colnames(adata)\n",
    "# HALLMARK\n",
    "aucell_scores_hallmark <- data.frame(cells_AUC_hallmark@assays@data$AUC)\n",
    "rownames(aucell_scores_hallmark) <- cells_AUC_hallmark@NAMES\n",
    "colnames(aucell_scores_hallmark) <- colnames(adata)"
   ]
  },
  {
   "cell_type": "markdown",
   "id": "f1eeeb56-d6c4-46cc-8c9b-b10f42785ecf",
   "metadata": {
    "pycharm": {
     "name": "#%% md\n"
    }
   },
   "source": [
    "Export the results back to python "
   ]
  },
  {
   "cell_type": "code",
   "execution_count": null,
   "id": "0e6160d9-8af5-479c-ae4c-8adf72df900e",
   "metadata": {
    "pycharm": {
     "name": "#%%\n"
    }
   },
   "outputs": [],
   "source": [
    "%%R -o aucell_scores_s1\n",
    "aucell_scores_s1 = aucell_scores_s1"
   ]
  },
  {
   "cell_type": "code",
   "execution_count": null,
   "id": "9631bf5b-1491-4e62-bfd1-791721c3c468",
   "metadata": {},
   "outputs": [],
   "source": [
    "%%R -o aucell_scores_s2 \n",
    "aucell_scores_s2 = aucell_scores_s2"
   ]
  },
  {
   "cell_type": "code",
   "execution_count": null,
   "id": "28dfb9f2-6545-4a02-81d8-871394aa0f4d",
   "metadata": {},
   "outputs": [],
   "source": [
    "%%R -o aucell_scores_hallmark \n",
    "aucell_scores_hallmark = aucell_scores_hallmark"
   ]
  },
  {
   "cell_type": "code",
   "execution_count": null,
   "id": "99763f02-d489-4970-a45e-2ae4dc377e3b",
   "metadata": {
    "pycharm": {
     "name": "#%%\n"
    }
   },
   "outputs": [],
   "source": [
    "aucell_scores_s1 = aucell_scores_s1.T\n",
    "aucell_scores_s2 = aucell_scores_s2.T\n",
    "aucell_scores_hallmark = aucell_scores_hallmark.T"
   ]
  },
  {
   "cell_type": "markdown",
   "id": "686a51f5-2cbf-43b5-8937-a6fdf14401dd",
   "metadata": {
    "pycharm": {
     "name": "#%% md\n"
    }
   },
   "source": [
    "We now add the scores for the interferon-related REACTOME pathways to the anndata object and annotate the activity level of these pathways in each of the cells on the UMAP:"
   ]
  },
  {
   "cell_type": "code",
   "execution_count": null,
   "id": "098f439b-14fa-47ab-9942-d434d926e14e",
   "metadata": {
    "pycharm": {
     "name": "#%%\n"
    }
   },
   "outputs": [],
   "source": [
    "EMP_pathways = ['geneSet']\n",
    "\n",
    "adata.obs['EMP Pathway S1 Cook et. al.'] = aucell_scores_s1[EMP_pathways]\n",
    "adata.obs['EMP Pathway S2 Cook et. al.'] = aucell_scores_s2[EMP_pathways]\n",
    "adata.obs['EMP Pathway\\nHALLMARK_EPITHELIAL_MESENCHYMAL_TRANSITION'] = aucell_scores_hallmark[EMP_pathways]"
   ]
  },
  {
   "cell_type": "code",
   "execution_count": null,
   "id": "309eac09-8cff-4c79-bf67-7be63c518bed",
   "metadata": {},
   "outputs": [],
   "source": [
    "adata.obs['Cluster'] = adata.obs['louvain_r0.5']"
   ]
  },
  {
   "cell_type": "markdown",
   "id": "f68ed99a-775b-41d2-9cce-4cc1e18543fc",
   "metadata": {
    "pycharm": {
     "name": "#%% md\n"
    }
   },
   "source": [
    "Plot the scores on the umap"
   ]
  },
  {
   "cell_type": "code",
   "execution_count": null,
   "id": "db174c86-63ce-4772-9cf5-6b6f440d2119",
   "metadata": {
    "pycharm": {
     "name": "#%%\n"
    }
   },
   "outputs": [],
   "source": [
    "sc.pl.umap(\n",
    "    adata,\n",
    "    color=[\"Cluster\"],\n",
    "    frameon=False,\n",
    "    ncols=2,\n",
    "    wspace = 0.4,\n",
    "    save='/16992-2D/emp/UMAP_OnlyCluster.pdf'\n",
    ")\n",
    "os.rename(\"figures/umap/16992-2D/emp/UMAP_OnlyCluster.pdf\", \n",
    "          \"../results/task3/16992-2D_emp_UMAP_OnlyCluster.pdf\")"
   ]
  },
  {
   "cell_type": "code",
   "execution_count": null,
   "id": "aeae36b0-079d-432f-a699-f15af70931e1",
   "metadata": {},
   "outputs": [],
   "source": [
    "sc.pl.umap(\n",
    "    adata,\n",
    "    color=[\"EMP Pathway S1 Cook et. al.\"],\n",
    "    frameon=False,\n",
    "    ncols=2,\n",
    "    wspace = 0.4,\n",
    "    save='/16992-2D/emp/UMAP_OnlyS1.pdf'\n",
    ")\n",
    "os.rename(\"figures/umap/16992-2D/emp/UMAP_OnlyS1.pdf\", \n",
    "          \"../results/task3/16992-2D_emp_UMAP_OnlyS1.pdf\")"
   ]
  },
  {
   "cell_type": "code",
   "execution_count": null,
   "id": "6d37434f-80fb-4ca5-854f-d7ad93ec5dd1",
   "metadata": {},
   "outputs": [],
   "source": [
    "sc.pl.umap(\n",
    "    adata,\n",
    "    color=[\"EMP Pathway S2 Cook et. al.\"],\n",
    "    frameon=False,\n",
    "    ncols=2,\n",
    "    wspace = 0.4,\n",
    "    save='/16992-2D/emp/UMAP_OnlyS2.pdf'\n",
    ")\n",
    "os.rename(\"figures/umap/16992-2D/emp/UMAP_OnlyS2.pdf\", \n",
    "          \"../results/task3/16992-2D_emp_UMAP_OnlyS2.pdf\")"
   ]
  },
  {
   "cell_type": "code",
   "execution_count": null,
   "id": "eee0a247-bfe0-4b85-aead-1b5ba6ace265",
   "metadata": {},
   "outputs": [],
   "source": [
    "sc.pl.umap(\n",
    "    adata,\n",
    "    color=[\"EMP Pathway\\nHALLMARK_EPITHELIAL_MESENCHYMAL_TRANSITION\"],\n",
    "    frameon=False,\n",
    "    ncols=2,\n",
    "    wspace = 0.4,\n",
    "    save='/16992-2D/emp/UMAP_OnlyHallmark.pdf'\n",
    ")\n",
    "os.rename(\"figures/umap/16992-2D/emp/UMAP_OnlyHallmark.pdf\", \n",
    "          \"../results/task3/16992-2D_emp_UMAP_OnlyHallmark.pdf\")"
   ]
  },
  {
   "cell_type": "markdown",
   "id": "dcc03ffd-8dda-4cc7-86cf-e768c6a4ffb6",
   "metadata": {},
   "source": [
    "### Violin"
   ]
  },
  {
   "cell_type": "code",
   "execution_count": null,
   "id": "84af7b5d-4d00-4888-8109-fcce264bbd5b",
   "metadata": {},
   "outputs": [],
   "source": [
    "sc.pl.violin(adata, \n",
    "             keys=[\"EMP Pathway S1 Cook et. al.\"],\n",
    "             groupby='Cluster', \n",
    "             rotation=90,\n",
    "             xlabel='Cluster',\n",
    "             inner=\"quartile\",\n",
    "             wspace = 0.4,\n",
    "             save='/16992-2D/emp_violin_counts_OnlyS1.pdf'\n",
    "            )\n",
    "os.rename(\"figures/violin/16992-2D/emp_violin_counts_OnlyS1.pdf\", \n",
    "          \"../results/task3/16992-2D_emp_violin_counts_OnlyS1.pdf\")"
   ]
  },
  {
   "cell_type": "code",
   "execution_count": null,
   "id": "6f17ddcb-56f1-4afd-aa8f-86baa1a69477",
   "metadata": {},
   "outputs": [],
   "source": [
    "sc.pl.violin(adata, \n",
    "             keys=[\"EMP Pathway S2 Cook et. al.\"],\n",
    "             groupby='Cluster', \n",
    "             rotation=90,\n",
    "             xlabel='Cluster',\n",
    "             inner=\"quartile\",\n",
    "             wspace = 0.4,\n",
    "             save='/16992-2D/emp_violin_counts_OnlyS2.pdf'\n",
    "            )\n",
    "os.rename(\"figures/violin/16992-2D/emp_violin_counts_OnlyS2.pdf\", \n",
    "          \"../results/task3/16992-2D_emp_violin_counts_OnlyS2.pdf\")"
   ]
  },
  {
   "cell_type": "code",
   "execution_count": null,
   "id": "71dfbe6f-676f-4bd5-bb22-85d990ef862f",
   "metadata": {},
   "outputs": [],
   "source": [
    "sc.pl.violin(adata, \n",
    "             keys=[\"EMP Pathway\\nHALLMARK_EPITHELIAL_MESENCHYMAL_TRANSITION\"],\n",
    "             groupby='Cluster', \n",
    "             rotation=90,\n",
    "             xlabel='Cluster',\n",
    "             inner=\"quartile\",\n",
    "             wspace = 0.4,\n",
    "             save='/16992-2D/emp_violin_counts_OnlyHallmark.pdf'\n",
    "            )\n",
    "os.rename(\"figures/violin/16992-2D/emp_violin_counts_OnlyHallmark.pdf\", \n",
    "          \"../results/task3/16992-2D_emp_violin_counts_OnlyHallmark.pdf\")"
   ]
  }
 ],
 "metadata": {
  "kernelspec": {
   "display_name": "scib",
   "language": "python",
   "name": "scib-pipeline-r4.0"
  },
  "language_info": {
   "codemirror_mode": {
    "name": "ipython",
    "version": 3
   },
   "file_extension": ".py",
   "mimetype": "text/x-python",
   "name": "python",
   "nbconvert_exporter": "python",
   "pygments_lexer": "ipython3",
   "version": "3.7.12"
  }
 },
 "nbformat": 4,
 "nbformat_minor": 5
}
