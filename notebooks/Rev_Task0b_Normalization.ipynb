{
 "cells": [
  {
   "cell_type": "markdown",
   "id": "ac71d84a-9b33-4eb8-9c17-be667d489c14",
   "metadata": {
    "tags": []
   },
   "source": [
    "# Task 0b - Normalization\n",
    "This notebook does normalization of the data. This is the second step and requires the adata from the first step, Task 0a - QC.\n",
    "\n",
    "This notebook is based on the single-cell tutorial (https://github.com/theislab/single-cell-tutorial). For further explanations of the applied methods please refer to above source."
   ]
  },
  {
   "cell_type": "code",
   "execution_count": null,
   "id": "c7fac1a9-1acf-42ee-97c0-496245040cf5",
   "metadata": {},
   "outputs": [],
   "source": [
    "import scanpy as sc\n",
    "import numpy as np\n",
    "import scipy as sp\n",
    "import pandas as pd\n",
    "import os\n",
    "import matplotlib.pyplot as plt\n",
    "from matplotlib import rcParams\n",
    "from matplotlib import colors\n",
    "import seaborn as sb\n",
    "# from gprofiler import GProfiler\n",
    "from os import listdir\n",
    "from os.path import isfile, join\n",
    "\n",
    "import rpy2.rinterface_lib.callbacks\n",
    "import logging\n",
    "\n",
    "from rpy2.robjects import pandas2ri\n",
    "import anndata2ri"
   ]
  },
  {
   "cell_type": "code",
   "execution_count": null,
   "id": "cf4b7bae-dfde-442f-b87f-05d7022e9f3e",
   "metadata": {},
   "outputs": [],
   "source": [
    "rpy2.rinterface_lib.callbacks.logger.setLevel(logging.ERROR)\n",
    "\n",
    "# Automatically convert rpy2 outputs to pandas dataframes\n",
    "pandas2ri.activate()\n",
    "anndata2ri.activate()\n",
    "%load_ext rpy2.ipython\n",
    "\n",
    "plt.rcParams['figure.figsize']=(8,8) #rescale figures\n",
    "sc.settings.verbosity = 3\n",
    "sc.logging.print_versions()"
   ]
  },
  {
   "cell_type": "code",
   "execution_count": null,
   "id": "f81988be-ce21-468b-a361-f100bebd5a0f",
   "metadata": {},
   "outputs": [],
   "source": []
  },
  {
   "cell_type": "code",
   "execution_count": null,
   "id": "c45611b7-37fd-44bf-a29b-8dbd8b60cb8e",
   "metadata": {},
   "outputs": [],
   "source": [
    "%%R\n",
    "# Load libraries from correct lib Paths for my environment - ignore this!\n",
    ".libPaths(.libPaths()[c(3,2,1)])\n",
    "\n",
    "# Load all the R libraries we will be using in the notebook\n",
    "library(scran)\n",
    "# library(RColorBrewer)\n",
    "# library(slingshot)\n",
    "# library(monocle)\n",
    "# library(gam)\n",
    "# library(clusterExperiment)\n",
    "# library(ggplot2)\n",
    "# library(plyr)\n",
    "# library(MAST)"
   ]
  },
  {
   "cell_type": "markdown",
   "id": "42839c11-f72e-4e77-86fe-940f66abfc5a",
   "metadata": {},
   "source": [
    "### IMPORT ADATA OF QC"
   ]
  },
  {
   "cell_type": "code",
   "execution_count": null,
   "id": "a9dfa89e-3227-412e-93d5-06dd63e5e50b",
   "metadata": {},
   "outputs": [],
   "source": [
    "adata_dir = '../data/adata/rev_QC_adata.h5ad'\n",
    "if not os.path.exists(adata_dir):\n",
    "    raise ValueError('Adata does not exist')"
   ]
  },
  {
   "cell_type": "code",
   "execution_count": null,
   "id": "5e1c7cf0-1547-4bd2-ae4f-8cd5269d875f",
   "metadata": {},
   "outputs": [],
   "source": [
    "adata = sc.read_h5ad('../data/adata/rev_QC_adata.h5ad')"
   ]
  },
  {
   "cell_type": "markdown",
   "id": "2479a0ef-0b53-44e6-9917-3b7a08347dbc",
   "metadata": {
    "tags": []
   },
   "source": [
    "## Normalization"
   ]
  },
  {
   "cell_type": "code",
   "execution_count": null,
   "id": "816c80f0-6734-4d7b-8caf-0cef941386e7",
   "metadata": {},
   "outputs": [],
   "source": [
    "# Clustering for scran normalization in clusters\n",
    "adata_pp = adata.copy()\n",
    "sc.pp.normalize_per_cell(adata_pp, counts_per_cell_after=1e6)\n",
    "sc.pp.log1p(adata_pp)\n",
    "sc.pp.pca(adata_pp, n_comps=15)\n",
    "sc.pp.neighbors(adata_pp)\n",
    "sc.tl.louvain(adata_pp, key_added='groups', resolution=0.5)"
   ]
  },
  {
   "cell_type": "code",
   "execution_count": null,
   "id": "3a890cea-6523-4614-91cd-c7978f7e3b49",
   "metadata": {},
   "outputs": [],
   "source": [
    "# Preprocess variables for scran normalization\n",
    "input_groups = adata_pp.obs['groups']\n",
    "data_mat = adata.X.T"
   ]
  },
  {
   "cell_type": "code",
   "execution_count": null,
   "id": "2b07c82b-edbf-4439-88fd-cabe014e870a",
   "metadata": {
    "scrolled": true
   },
   "outputs": [],
   "source": [
    "%%R -i data_mat -i input_groups -o size_factors\n",
    "\n",
    "size_factors = calculateSumFactors(data_mat, clusters=input_groups, min.mean=0.1)"
   ]
  },
  {
   "cell_type": "code",
   "execution_count": null,
   "id": "c39934fc-b4d3-4152-87df-141848363665",
   "metadata": {},
   "outputs": [],
   "source": [
    "# Delete adata_pp\n",
    "del adata_pp"
   ]
  },
  {
   "cell_type": "code",
   "execution_count": null,
   "id": "28bf31bf-4256-4e43-96d3-8af0c557fd19",
   "metadata": {},
   "outputs": [],
   "source": [
    "# Visualize the estimated size factors\n",
    "adata.obs['size_factors'] = size_factors\n",
    "\n",
    "sc.pl.scatter(adata, 'size_factors', 'total_counts')\n",
    "sc.pl.scatter(adata, 'size_factors', 'n_genes_by_counts')\n",
    "\n",
    "sb.distplot(size_factors, bins=50, kde=False)\n",
    "plt.show()"
   ]
  },
  {
   "cell_type": "code",
   "execution_count": null,
   "id": "3580a871-266e-4952-b4b8-c249ab5e42ef",
   "metadata": {},
   "outputs": [],
   "source": [
    "# Keep the count data in a counts layer\n",
    "adata.layers[\"counts\"] = adata.X.copy()"
   ]
  },
  {
   "cell_type": "code",
   "execution_count": null,
   "id": "4a48ea11-d368-44ab-9137-72da3c463fa9",
   "metadata": {},
   "outputs": [],
   "source": [
    "# Normalize adata \n",
    "adata.X /= adata.obs['size_factors'].values[:,None]\n",
    "adata.X = sp.sparse.csr_matrix(adata.X)\n",
    "sc.pp.log1p(adata)"
   ]
  },
  {
   "cell_type": "code",
   "execution_count": null,
   "id": "ea328107-510e-4ed4-ba46-322e6bb981f3",
   "metadata": {},
   "outputs": [],
   "source": [
    "# Store the full data set in 'raw' as log-normalised data for statistical testing\n",
    "adata.raw = adata"
   ]
  },
  {
   "cell_type": "code",
   "execution_count": null,
   "id": "d360bffa-60f2-4b08-a1ea-eebc74f565fa",
   "metadata": {},
   "outputs": [],
   "source": [
    "adata.write_h5ad('../data/adata/norm_adata.h5ad')"
   ]
  },
  {
   "cell_type": "code",
   "execution_count": null,
   "id": "8594cc0e-6ea9-434c-820e-bbdb0b0915a9",
   "metadata": {},
   "outputs": [],
   "source": []
  }
 ],
 "metadata": {
  "kernelspec": {
   "display_name": "Python [conda env:celldreamer]",
   "language": "python",
   "name": "celldreamer"
  },
  "language_info": {
   "codemirror_mode": {
    "name": "ipython",
    "version": 3
   },
   "file_extension": ".py",
   "mimetype": "text/x-python",
   "name": "python",
   "nbconvert_exporter": "python",
   "pygments_lexer": "ipython3",
   "version": "3.10.12"
  }
 },
 "nbformat": 4,
 "nbformat_minor": 5
}
