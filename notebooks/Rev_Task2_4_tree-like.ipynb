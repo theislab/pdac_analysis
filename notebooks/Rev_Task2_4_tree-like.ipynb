{
 "cells": [
  {
   "cell_type": "markdown",
   "id": "a9b10122-106f-445c-b4b1-57e83aabb298",
   "metadata": {},
   "source": [
    "# Task 2 - GSEA Hallmark analysis for each cluster\n",
    "This notebook does a GSEA Hallmark analysis for each cluster (collapsing all cells from each cluster, as a bulk rna seq).\n",
    "\n",
    "This notebook is based on the single-cell best practices book (https://github.com/theislab/single-cell-best-practices/). For further explanations of the applied methods please refer to above source."
   ]
  },
  {
   "cell_type": "markdown",
   "id": "f1dd62aa-5911-44c2-be7e-8f4e01330c69",
   "metadata": {
    "pycharm": {
     "name": "#%% md\n"
    }
   },
   "source": [
    "# Gene set enrichment and pathway analysis "
   ]
  },
  {
   "cell_type": "markdown",
   "id": "9b85623c-7d8a-4ec4-92ec-6eea659ce627",
   "metadata": {
    "pycharm": {
     "name": "#%% md\n"
    }
   },
   "source": [
    "### Prepare and explore the data"
   ]
  },
  {
   "cell_type": "code",
   "execution_count": 1,
   "id": "e30cccc9-00a5-4d7e-a7b7-45f24511891a",
   "metadata": {},
   "outputs": [],
   "source": [
    "import os\n",
    "os.environ['R_HOME'] = '/home/icb/till.richter/anaconda3/envs/da_env/lib/R'"
   ]
  },
  {
   "cell_type": "code",
   "execution_count": 2,
   "id": "29637d8c-d32f-4b39-96d2-611641ab3304",
   "metadata": {
    "pycharm": {
     "name": "#%%\n"
    }
   },
   "outputs": [],
   "source": [
    "import scanpy as sc\n",
    "import anndata as ad\n",
    "import numpy as np\n",
    "import pandas as pd\n",
    "import anndata as ad\n",
    "import gdown\n",
    "import anndata2ri\n",
    "import rpy2\n",
    "from rpy2.robjects import r\n",
    "import random\n",
    "import session_info\n",
    "\n",
    "\n",
    "\n",
    "anndata2ri.activate()"
   ]
  },
  {
   "cell_type": "code",
   "execution_count": 3,
   "id": "82f76416-06c0-4844-a01a-37fc1b2ab3fd",
   "metadata": {
    "pycharm": {
     "name": "#%%\n"
    }
   },
   "outputs": [],
   "source": [
    "sc.settings.set_figure_params(dpi=200, frameon=False)\n",
    "sc.set_figure_params(dpi=200)\n",
    "sc.set_figure_params(figsize=(4, 4))"
   ]
  },
  {
   "cell_type": "code",
   "execution_count": 4,
   "id": "e7ae5597-79c3-4d80-a083-babd8cab727f",
   "metadata": {
    "pycharm": {
     "name": "#%%\n"
    }
   },
   "outputs": [],
   "source": [
    "%load_ext rpy2.ipython"
   ]
  },
  {
   "cell_type": "code",
   "execution_count": 5,
   "id": "25ac421a-6db3-4233-85b4-5121b5a2d4e9",
   "metadata": {},
   "outputs": [
    {
     "name": "stdout",
     "output_type": "stream",
     "text": [
      "\u001b[1mrpy2 version:\u001b[0m\n",
      "3.4.5\n",
      "\u001b[1mPython version:\u001b[0m\n",
      "3.8.8 (default, Apr 13 2021, 19:58:26) \n",
      "[GCC 7.3.0]\n",
      "\u001b[1mLooking for R's HOME:\u001b[0m\n",
      "    Environment variable R_HOME: /home/icb/till.richter/anaconda3/envs/da_env/lib/R\n",
      "    Calling `R RHOME`: /usr/lib64/R\n",
      "    Environment variable R_LIBS_USER: ~/R/x86_64-conda-linux-gnu-library/4.1\n",
      "    Warning: The environment variable R_HOME differs from the default R in the PATH.\n",
      "\u001b[1mR's additions to LD_LIBRARY_PATH:\u001b[0m\n",
      "\n",
      "\u001b[1mR version:\u001b[0m\n",
      "    In the PATH: R version 3.6.0 (2019-04-26) -- \"Planting of a Tree\"\n",
      "    Loading R library from rpy2: OK\n",
      "\u001b[1mAdditional directories to load R packages from:\u001b[0m\n",
      "None\n",
      "\u001b[1mC extension compilation:\u001b[0m\n",
      "  include:\n",
      "  ['/home/icb/till.richter/anaconda3/envs/da_env/lib/R/include']\n",
      "  libraries:\n",
      "  ['R', 'pcre2-8', 'lzma', 'bz2', 'z', 'rt', 'dl', 'm', 'iconv', 'icuuc', 'icui18n']\n",
      "  library_dirs:\n",
      "  ['/home/icb/till.richter/anaconda3/envs/da_env/lib', '/home/icb/till.richter/anaconda3/envs/da_env/lib/R/lib', '/home/icb/till.richter/anaconda3/envs/da_env/lib']\n",
      "  extra_compile_args:\n",
      "  []\n",
      "  extra_link_args:\n",
      "  ['-Wl,--export-dynamic', '-fopenmp', '-Wl,-O2', '-Wl,--sort-common', '-Wl,--as-needed', '-Wl,-z,relro', '-Wl,-z,now', '-Wl,--disable-new-dtags', '-Wl,--gc-sections', '-Wl,-rpath,/home/icb/till.richter/anaconda3/envs/da_env/lib', '-Wl,-rpath-link,/home/icb/till.richter/anaconda3/envs/da_env/lib']\n"
     ]
    }
   ],
   "source": [
    "!python -m rpy2.situation"
   ]
  },
  {
   "cell_type": "code",
   "execution_count": 6,
   "id": "ac67adb9-d108-4d96-9cf6-35f5792e3fd7",
   "metadata": {
    "pycharm": {
     "name": "#%%\n"
    }
   },
   "outputs": [],
   "source": [
    "%%R\n",
    "suppressPackageStartupMessages({\n",
    "    library(SingleCellExperiment)\n",
    "    library(fgsea)\n",
    "    library(AUCell)\n",
    "    library(ggplot2)\n",
    "})"
   ]
  },
  {
   "cell_type": "code",
   "execution_count": 7,
   "id": "ba83f844-894b-4097-839f-fc9734e59391",
   "metadata": {},
   "outputs": [
    {
     "data": {
      "text/html": [
       "<div>\n",
       "<style scoped>\n",
       "    .dataframe tbody tr th:only-of-type {\n",
       "        vertical-align: middle;\n",
       "    }\n",
       "\n",
       "    .dataframe tbody tr th {\n",
       "        vertical-align: top;\n",
       "    }\n",
       "\n",
       "    .dataframe thead th {\n",
       "        text-align: right;\n",
       "    }\n",
       "</style>\n",
       "<table border=\"1\" class=\"dataframe\">\n",
       "  <thead>\n",
       "    <tr style=\"text-align: right;\">\n",
       "      <th></th>\n",
       "      <th>sample_id</th>\n",
       "      <th>sample_nr</th>\n",
       "      <th>donor</th>\n",
       "      <th>n_genes_by_counts</th>\n",
       "      <th>log1p_n_genes_by_counts</th>\n",
       "      <th>total_counts</th>\n",
       "      <th>log1p_total_counts</th>\n",
       "      <th>pct_counts_in_top_50_genes</th>\n",
       "      <th>pct_counts_in_top_100_genes</th>\n",
       "      <th>pct_counts_in_top_200_genes</th>\n",
       "      <th>pct_counts_in_top_500_genes</th>\n",
       "      <th>total_counts_mt</th>\n",
       "      <th>log1p_total_counts_mt</th>\n",
       "      <th>pct_counts_mt</th>\n",
       "      <th>log_counts</th>\n",
       "      <th>n_counts</th>\n",
       "      <th>n_genes</th>\n",
       "      <th>size_factors</th>\n",
       "    </tr>\n",
       "  </thead>\n",
       "  <tbody>\n",
       "    <tr>\n",
       "      <th>AAACCCAAGCTGCCTG-1-1</th>\n",
       "      <td>16992-2D</td>\n",
       "      <td>1</td>\n",
       "      <td>mouse</td>\n",
       "      <td>3113</td>\n",
       "      <td>8.043663</td>\n",
       "      <td>9743.0</td>\n",
       "      <td>9.184407</td>\n",
       "      <td>34.014164</td>\n",
       "      <td>42.297034</td>\n",
       "      <td>51.021246</td>\n",
       "      <td>64.087037</td>\n",
       "      <td>1352.0</td>\n",
       "      <td>7.210080</td>\n",
       "      <td>13.876629</td>\n",
       "      <td>9.184304</td>\n",
       "      <td>9743.0</td>\n",
       "      <td>3113</td>\n",
       "      <td>2.311483</td>\n",
       "    </tr>\n",
       "    <tr>\n",
       "      <th>AAACCCAAGGTCATAA-1-1</th>\n",
       "      <td>16992-2D</td>\n",
       "      <td>1</td>\n",
       "      <td>mouse</td>\n",
       "      <td>2564</td>\n",
       "      <td>7.849714</td>\n",
       "      <td>7168.0</td>\n",
       "      <td>8.877522</td>\n",
       "      <td>27.734375</td>\n",
       "      <td>38.085938</td>\n",
       "      <td>48.660714</td>\n",
       "      <td>63.825335</td>\n",
       "      <td>507.0</td>\n",
       "      <td>6.230482</td>\n",
       "      <td>7.073103</td>\n",
       "      <td>8.877382</td>\n",
       "      <td>7168.0</td>\n",
       "      <td>2564</td>\n",
       "      <td>1.797364</td>\n",
       "    </tr>\n",
       "    <tr>\n",
       "      <th>AAACCCAAGTACCCTA-1-1</th>\n",
       "      <td>16992-2D</td>\n",
       "      <td>1</td>\n",
       "      <td>mouse</td>\n",
       "      <td>2819</td>\n",
       "      <td>7.944492</td>\n",
       "      <td>8436.0</td>\n",
       "      <td>9.040382</td>\n",
       "      <td>27.750119</td>\n",
       "      <td>38.205311</td>\n",
       "      <td>47.878141</td>\n",
       "      <td>62.849692</td>\n",
       "      <td>630.0</td>\n",
       "      <td>6.447306</td>\n",
       "      <td>7.467994</td>\n",
       "      <td>9.040263</td>\n",
       "      <td>8436.0</td>\n",
       "      <td>2819</td>\n",
       "      <td>2.083213</td>\n",
       "    </tr>\n",
       "    <tr>\n",
       "      <th>AAACCCACAAGGTCTT-1-1</th>\n",
       "      <td>16992-2D</td>\n",
       "      <td>1</td>\n",
       "      <td>mouse</td>\n",
       "      <td>1932</td>\n",
       "      <td>7.566828</td>\n",
       "      <td>4536.0</td>\n",
       "      <td>8.420021</td>\n",
       "      <td>26.410935</td>\n",
       "      <td>36.331570</td>\n",
       "      <td>47.266314</td>\n",
       "      <td>64.285714</td>\n",
       "      <td>277.0</td>\n",
       "      <td>5.627621</td>\n",
       "      <td>6.106702</td>\n",
       "      <td>8.419801</td>\n",
       "      <td>4536.0</td>\n",
       "      <td>1932</td>\n",
       "      <td>1.194047</td>\n",
       "    </tr>\n",
       "    <tr>\n",
       "      <th>AAACCCACAGGAGGTT-1-1</th>\n",
       "      <td>16992-2D</td>\n",
       "      <td>1</td>\n",
       "      <td>mouse</td>\n",
       "      <td>2930</td>\n",
       "      <td>7.983099</td>\n",
       "      <td>8959.0</td>\n",
       "      <td>9.100526</td>\n",
       "      <td>29.679652</td>\n",
       "      <td>38.910593</td>\n",
       "      <td>48.018752</td>\n",
       "      <td>62.808349</td>\n",
       "      <td>604.0</td>\n",
       "      <td>6.405229</td>\n",
       "      <td>6.741824</td>\n",
       "      <td>9.100414</td>\n",
       "      <td>8959.0</td>\n",
       "      <td>2930</td>\n",
       "      <td>2.356283</td>\n",
       "    </tr>\n",
       "    <tr>\n",
       "      <th>...</th>\n",
       "      <td>...</td>\n",
       "      <td>...</td>\n",
       "      <td>...</td>\n",
       "      <td>...</td>\n",
       "      <td>...</td>\n",
       "      <td>...</td>\n",
       "      <td>...</td>\n",
       "      <td>...</td>\n",
       "      <td>...</td>\n",
       "      <td>...</td>\n",
       "      <td>...</td>\n",
       "      <td>...</td>\n",
       "      <td>...</td>\n",
       "      <td>...</td>\n",
       "      <td>...</td>\n",
       "      <td>...</td>\n",
       "      <td>...</td>\n",
       "      <td>...</td>\n",
       "    </tr>\n",
       "    <tr>\n",
       "      <th>TTTGTTGGTCTAGGTT-1-1</th>\n",
       "      <td>16992-2D</td>\n",
       "      <td>1</td>\n",
       "      <td>mouse</td>\n",
       "      <td>2192</td>\n",
       "      <td>7.693026</td>\n",
       "      <td>5087.0</td>\n",
       "      <td>8.534640</td>\n",
       "      <td>25.122862</td>\n",
       "      <td>34.499705</td>\n",
       "      <td>44.584234</td>\n",
       "      <td>60.723413</td>\n",
       "      <td>301.0</td>\n",
       "      <td>5.710427</td>\n",
       "      <td>5.917044</td>\n",
       "      <td>8.534444</td>\n",
       "      <td>5087.0</td>\n",
       "      <td>2192</td>\n",
       "      <td>1.351677</td>\n",
       "    </tr>\n",
       "    <tr>\n",
       "      <th>TTTGTTGGTGGACTGA-1-1</th>\n",
       "      <td>16992-2D</td>\n",
       "      <td>1</td>\n",
       "      <td>mouse</td>\n",
       "      <td>2301</td>\n",
       "      <td>7.741534</td>\n",
       "      <td>4901.0</td>\n",
       "      <td>8.497398</td>\n",
       "      <td>22.444399</td>\n",
       "      <td>31.034483</td>\n",
       "      <td>41.154866</td>\n",
       "      <td>57.702510</td>\n",
       "      <td>258.0</td>\n",
       "      <td>5.556828</td>\n",
       "      <td>5.264232</td>\n",
       "      <td>8.497194</td>\n",
       "      <td>4901.0</td>\n",
       "      <td>2301</td>\n",
       "      <td>1.457669</td>\n",
       "    </tr>\n",
       "    <tr>\n",
       "      <th>TTTGTTGTCACAAGAA-1-1</th>\n",
       "      <td>16992-2D</td>\n",
       "      <td>1</td>\n",
       "      <td>mouse</td>\n",
       "      <td>1168</td>\n",
       "      <td>7.063904</td>\n",
       "      <td>2138.0</td>\n",
       "      <td>7.668094</td>\n",
       "      <td>31.571562</td>\n",
       "      <td>39.569691</td>\n",
       "      <td>49.906455</td>\n",
       "      <td>68.755847</td>\n",
       "      <td>173.0</td>\n",
       "      <td>5.159055</td>\n",
       "      <td>8.091675</td>\n",
       "      <td>7.667626</td>\n",
       "      <td>2138.0</td>\n",
       "      <td>1168</td>\n",
       "      <td>0.492202</td>\n",
       "    </tr>\n",
       "    <tr>\n",
       "      <th>TTTGTTGTCCTACGGG-1-1</th>\n",
       "      <td>16992-2D</td>\n",
       "      <td>1</td>\n",
       "      <td>mouse</td>\n",
       "      <td>1908</td>\n",
       "      <td>7.554335</td>\n",
       "      <td>4492.0</td>\n",
       "      <td>8.410275</td>\n",
       "      <td>31.923419</td>\n",
       "      <td>41.874443</td>\n",
       "      <td>51.246661</td>\n",
       "      <td>66.651825</td>\n",
       "      <td>348.0</td>\n",
       "      <td>5.855072</td>\n",
       "      <td>7.747106</td>\n",
       "      <td>8.410053</td>\n",
       "      <td>4492.0</td>\n",
       "      <td>1908</td>\n",
       "      <td>1.097022</td>\n",
       "    </tr>\n",
       "    <tr>\n",
       "      <th>TTTGTTGTCTTTGCTA-1-1</th>\n",
       "      <td>16992-2D</td>\n",
       "      <td>1</td>\n",
       "      <td>mouse</td>\n",
       "      <td>1819</td>\n",
       "      <td>7.506592</td>\n",
       "      <td>3934.0</td>\n",
       "      <td>8.277666</td>\n",
       "      <td>28.495170</td>\n",
       "      <td>38.332486</td>\n",
       "      <td>47.712252</td>\n",
       "      <td>64.768683</td>\n",
       "      <td>299.0</td>\n",
       "      <td>5.703783</td>\n",
       "      <td>7.600407</td>\n",
       "      <td>8.277412</td>\n",
       "      <td>3934.0</td>\n",
       "      <td>1819</td>\n",
       "      <td>1.058736</td>\n",
       "    </tr>\n",
       "  </tbody>\n",
       "</table>\n",
       "<p>9190 rows × 18 columns</p>\n",
       "</div>"
      ],
      "text/plain": [
       "                     sample_id sample_nr  donor  n_genes_by_counts  \\\n",
       "AAACCCAAGCTGCCTG-1-1  16992-2D         1  mouse               3113   \n",
       "AAACCCAAGGTCATAA-1-1  16992-2D         1  mouse               2564   \n",
       "AAACCCAAGTACCCTA-1-1  16992-2D         1  mouse               2819   \n",
       "AAACCCACAAGGTCTT-1-1  16992-2D         1  mouse               1932   \n",
       "AAACCCACAGGAGGTT-1-1  16992-2D         1  mouse               2930   \n",
       "...                        ...       ...    ...                ...   \n",
       "TTTGTTGGTCTAGGTT-1-1  16992-2D         1  mouse               2192   \n",
       "TTTGTTGGTGGACTGA-1-1  16992-2D         1  mouse               2301   \n",
       "TTTGTTGTCACAAGAA-1-1  16992-2D         1  mouse               1168   \n",
       "TTTGTTGTCCTACGGG-1-1  16992-2D         1  mouse               1908   \n",
       "TTTGTTGTCTTTGCTA-1-1  16992-2D         1  mouse               1819   \n",
       "\n",
       "                      log1p_n_genes_by_counts  total_counts  \\\n",
       "AAACCCAAGCTGCCTG-1-1                 8.043663        9743.0   \n",
       "AAACCCAAGGTCATAA-1-1                 7.849714        7168.0   \n",
       "AAACCCAAGTACCCTA-1-1                 7.944492        8436.0   \n",
       "AAACCCACAAGGTCTT-1-1                 7.566828        4536.0   \n",
       "AAACCCACAGGAGGTT-1-1                 7.983099        8959.0   \n",
       "...                                       ...           ...   \n",
       "TTTGTTGGTCTAGGTT-1-1                 7.693026        5087.0   \n",
       "TTTGTTGGTGGACTGA-1-1                 7.741534        4901.0   \n",
       "TTTGTTGTCACAAGAA-1-1                 7.063904        2138.0   \n",
       "TTTGTTGTCCTACGGG-1-1                 7.554335        4492.0   \n",
       "TTTGTTGTCTTTGCTA-1-1                 7.506592        3934.0   \n",
       "\n",
       "                      log1p_total_counts  pct_counts_in_top_50_genes  \\\n",
       "AAACCCAAGCTGCCTG-1-1            9.184407                   34.014164   \n",
       "AAACCCAAGGTCATAA-1-1            8.877522                   27.734375   \n",
       "AAACCCAAGTACCCTA-1-1            9.040382                   27.750119   \n",
       "AAACCCACAAGGTCTT-1-1            8.420021                   26.410935   \n",
       "AAACCCACAGGAGGTT-1-1            9.100526                   29.679652   \n",
       "...                                  ...                         ...   \n",
       "TTTGTTGGTCTAGGTT-1-1            8.534640                   25.122862   \n",
       "TTTGTTGGTGGACTGA-1-1            8.497398                   22.444399   \n",
       "TTTGTTGTCACAAGAA-1-1            7.668094                   31.571562   \n",
       "TTTGTTGTCCTACGGG-1-1            8.410275                   31.923419   \n",
       "TTTGTTGTCTTTGCTA-1-1            8.277666                   28.495170   \n",
       "\n",
       "                      pct_counts_in_top_100_genes  \\\n",
       "AAACCCAAGCTGCCTG-1-1                    42.297034   \n",
       "AAACCCAAGGTCATAA-1-1                    38.085938   \n",
       "AAACCCAAGTACCCTA-1-1                    38.205311   \n",
       "AAACCCACAAGGTCTT-1-1                    36.331570   \n",
       "AAACCCACAGGAGGTT-1-1                    38.910593   \n",
       "...                                           ...   \n",
       "TTTGTTGGTCTAGGTT-1-1                    34.499705   \n",
       "TTTGTTGGTGGACTGA-1-1                    31.034483   \n",
       "TTTGTTGTCACAAGAA-1-1                    39.569691   \n",
       "TTTGTTGTCCTACGGG-1-1                    41.874443   \n",
       "TTTGTTGTCTTTGCTA-1-1                    38.332486   \n",
       "\n",
       "                      pct_counts_in_top_200_genes  \\\n",
       "AAACCCAAGCTGCCTG-1-1                    51.021246   \n",
       "AAACCCAAGGTCATAA-1-1                    48.660714   \n",
       "AAACCCAAGTACCCTA-1-1                    47.878141   \n",
       "AAACCCACAAGGTCTT-1-1                    47.266314   \n",
       "AAACCCACAGGAGGTT-1-1                    48.018752   \n",
       "...                                           ...   \n",
       "TTTGTTGGTCTAGGTT-1-1                    44.584234   \n",
       "TTTGTTGGTGGACTGA-1-1                    41.154866   \n",
       "TTTGTTGTCACAAGAA-1-1                    49.906455   \n",
       "TTTGTTGTCCTACGGG-1-1                    51.246661   \n",
       "TTTGTTGTCTTTGCTA-1-1                    47.712252   \n",
       "\n",
       "                      pct_counts_in_top_500_genes  total_counts_mt  \\\n",
       "AAACCCAAGCTGCCTG-1-1                    64.087037           1352.0   \n",
       "AAACCCAAGGTCATAA-1-1                    63.825335            507.0   \n",
       "AAACCCAAGTACCCTA-1-1                    62.849692            630.0   \n",
       "AAACCCACAAGGTCTT-1-1                    64.285714            277.0   \n",
       "AAACCCACAGGAGGTT-1-1                    62.808349            604.0   \n",
       "...                                           ...              ...   \n",
       "TTTGTTGGTCTAGGTT-1-1                    60.723413            301.0   \n",
       "TTTGTTGGTGGACTGA-1-1                    57.702510            258.0   \n",
       "TTTGTTGTCACAAGAA-1-1                    68.755847            173.0   \n",
       "TTTGTTGTCCTACGGG-1-1                    66.651825            348.0   \n",
       "TTTGTTGTCTTTGCTA-1-1                    64.768683            299.0   \n",
       "\n",
       "                      log1p_total_counts_mt  pct_counts_mt  log_counts  \\\n",
       "AAACCCAAGCTGCCTG-1-1               7.210080      13.876629    9.184304   \n",
       "AAACCCAAGGTCATAA-1-1               6.230482       7.073103    8.877382   \n",
       "AAACCCAAGTACCCTA-1-1               6.447306       7.467994    9.040263   \n",
       "AAACCCACAAGGTCTT-1-1               5.627621       6.106702    8.419801   \n",
       "AAACCCACAGGAGGTT-1-1               6.405229       6.741824    9.100414   \n",
       "...                                     ...            ...         ...   \n",
       "TTTGTTGGTCTAGGTT-1-1               5.710427       5.917044    8.534444   \n",
       "TTTGTTGGTGGACTGA-1-1               5.556828       5.264232    8.497194   \n",
       "TTTGTTGTCACAAGAA-1-1               5.159055       8.091675    7.667626   \n",
       "TTTGTTGTCCTACGGG-1-1               5.855072       7.747106    8.410053   \n",
       "TTTGTTGTCTTTGCTA-1-1               5.703783       7.600407    8.277412   \n",
       "\n",
       "                      n_counts  n_genes  size_factors  \n",
       "AAACCCAAGCTGCCTG-1-1    9743.0     3113      2.311483  \n",
       "AAACCCAAGGTCATAA-1-1    7168.0     2564      1.797364  \n",
       "AAACCCAAGTACCCTA-1-1    8436.0     2819      2.083213  \n",
       "AAACCCACAAGGTCTT-1-1    4536.0     1932      1.194047  \n",
       "AAACCCACAGGAGGTT-1-1    8959.0     2930      2.356283  \n",
       "...                        ...      ...           ...  \n",
       "TTTGTTGGTCTAGGTT-1-1    5087.0     2192      1.351677  \n",
       "TTTGTTGGTGGACTGA-1-1    4901.0     2301      1.457669  \n",
       "TTTGTTGTCACAAGAA-1-1    2138.0     1168      0.492202  \n",
       "TTTGTTGTCCTACGGG-1-1    4492.0     1908      1.097022  \n",
       "TTTGTTGTCTTTGCTA-1-1    3934.0     1819      1.058736  \n",
       "\n",
       "[9190 rows x 18 columns]"
      ]
     },
     "execution_count": 7,
     "metadata": {},
     "output_type": "execute_result"
    }
   ],
   "source": [
    "adata_read = sc.read_h5ad('../data/adata/rev_processed_adata4.h5ad')\n",
    "adata_read.obs"
   ]
  },
  {
   "cell_type": "code",
   "execution_count": 8,
   "id": "8e272b33-9228-4152-971a-43f4a1771218",
   "metadata": {
    "pycharm": {
     "name": "#%%\n"
    }
   },
   "outputs": [],
   "source": [
    "adata = adata_read.copy()"
   ]
  },
  {
   "cell_type": "code",
   "execution_count": 9,
   "id": "479031a5-ee8c-423f-ab82-07f5a05ad3dd",
   "metadata": {
    "pycharm": {
     "name": "#%%\n"
    }
   },
   "outputs": [],
   "source": [
    "adata.layers['counts'] = adata.X"
   ]
  },
  {
   "cell_type": "code",
   "execution_count": 17,
   "id": "26c7b579-2406-4d0f-a578-e7c65c606807",
   "metadata": {},
   "outputs": [],
   "source": [
    "adata.obs['group'] = adata.obs['merged_louvain'].astype('string')"
   ]
  },
  {
   "cell_type": "code",
   "execution_count": 19,
   "id": "7fd49be9-ebf7-4417-a49f-35e3faea037c",
   "metadata": {
    "pycharm": {
     "name": "#%%\n"
    }
   },
   "outputs": [],
   "source": [
    "# find DE genes by t-test\n",
    "sc.tl.rank_genes_groups(adata, 'group', method='t-test', key_added = \"t-test\")"
   ]
  },
  {
   "cell_type": "code",
   "execution_count": 20,
   "id": "e495fd3d-5e1b-415b-bc77-3f5953f00cb7",
   "metadata": {},
   "outputs": [],
   "source": [
    "names0 = adata.uns['t-test']['names']['0']\n",
    "pvals0 = adata.uns['t-test']['pvals']['0']\n",
    "adj_pvals0 = adata.uns['t-test']['pvals_adj']['0']\n",
    "logfc0 = adata.uns['t-test']['logfoldchanges']['0']\n",
    "\n",
    "names1 = adata.uns['t-test']['names']['1']\n",
    "pvals1 = adata.uns['t-test']['pvals']['1']\n",
    "adj_pvals1 = adata.uns['t-test']['pvals_adj']['1']\n",
    "logfc1 = adata.uns['t-test']['logfoldchanges']['1']\n",
    "\n",
    "names2 = adata.uns['t-test']['names']['2']\n",
    "pvals2 = adata.uns['t-test']['pvals']['2']\n",
    "adj_pvals2 = adata.uns['t-test']['pvals_adj']['2']\n",
    "logfc2 = adata.uns['t-test']['logfoldchanges']['2']\n",
    "\n",
    "# Create some Pandas dataframes from some data.\n",
    "df0 = pd.DataFrame({'Gene Names': names0, 'PVAL': pvals0, 'Adjusted PVAL': adj_pvals0, 'logFC': logfc0})\n",
    "df1 = pd.DataFrame({'Gene Names': names1, 'PVAL': pvals1, 'Adjusted PVAL': adj_pvals1, 'logFC': logfc1})\n",
    "df2 = pd.DataFrame({'Gene Names': names2, 'PVAL': pvals2, 'Adjusted PVAL': adj_pvals2, 'logFC': logfc2})\n",
    "\n",
    "# Create a Pandas Excel writer using XlsxWriter as the engine.\n",
    "writer = pd.ExcelWriter('../rev_results/task2/4_tree-like_de_genes.xlsx', engine='xlsxwriter')\n",
    "\n",
    "# Write each dataframe to a different worksheet.\n",
    "df0.to_excel(writer, sheet_name='Cluster0')\n",
    "df1.to_excel(writer, sheet_name='Cluster1')\n",
    "df2.to_excel(writer, sheet_name='Cluster2')\n",
    "\n",
    "# Close the Pandas Excel writer and output the Excel file.\n",
    "writer.save()"
   ]
  },
  {
   "cell_type": "code",
   "execution_count": 21,
   "id": "269a4d87-a08f-4c57-b884-a67fa8934ff8",
   "metadata": {},
   "outputs": [
    {
     "data": {
      "text/plain": [
       "AAACCCAAGCTGCCTG-1-1    0\n",
       "AAACCCAAGGTCATAA-1-1    1\n",
       "AAACCCAAGTACCCTA-1-1    1\n",
       "AAACCCACAAGGTCTT-1-1    0\n",
       "AAACCCACAGGAGGTT-1-1    0\n",
       "                       ..\n",
       "TTTGTTGGTCTAGGTT-1-1    1\n",
       "TTTGTTGGTGGACTGA-1-1    1\n",
       "TTTGTTGTCACAAGAA-1-1    0\n",
       "TTTGTTGTCCTACGGG-1-1    2\n",
       "TTTGTTGTCTTTGCTA-1-1    0\n",
       "Name: group, Length: 9190, dtype: category\n",
       "Categories (5, string): [0, 1, 2, 3, 4]"
      ]
     },
     "execution_count": 21,
     "metadata": {},
     "output_type": "execute_result"
    }
   ],
   "source": [
    "adata.obs['group']"
   ]
  },
  {
   "cell_type": "code",
   "execution_count": 22,
   "id": "6bea9cc7-963c-404e-b7e8-5f513a4713fb",
   "metadata": {},
   "outputs": [],
   "source": [
    "celltype_condition0 = '0'\n",
    "celltype_condition1 = '1'\n",
    "celltype_condition2 = '2'"
   ]
  },
  {
   "cell_type": "code",
   "execution_count": 23,
   "id": "7cc409b8-28c6-49cb-a67d-2cfcdc2b5056",
   "metadata": {},
   "outputs": [],
   "source": [
    "celltype_condition = celltype_condition1"
   ]
  },
  {
   "cell_type": "code",
   "execution_count": 25,
   "id": "f9e38367-7578-4c08-a2ac-758762fa3617",
   "metadata": {},
   "outputs": [
    {
     "data": {
      "text/plain": [
       "array(['Hmgb2', 'Cdca8', 'Top2a', ..., 'Rpl27a', 'Fn1', 'Fth1'],\n",
       "      dtype=object)"
      ]
     },
     "execution_count": 25,
     "metadata": {},
     "output_type": "execute_result"
    }
   ],
   "source": [
    "adata.uns['t-test']['names'][celltype_condition]"
   ]
  },
  {
   "cell_type": "code",
   "execution_count": 26,
   "id": "10c5cf23-bf32-4e0f-8ea9-99ef20857595",
   "metadata": {
    "pycharm": {
     "name": "#%%\n"
    }
   },
   "outputs": [],
   "source": [
    "# extract ranked gene names and export to r\n",
    "ranked_genes_ = adata.uns['t-test']['names'][celltype_condition]"
   ]
  },
  {
   "cell_type": "code",
   "execution_count": 27,
   "id": "194282b9-ddd8-43cc-87f0-aecdd2a30b93",
   "metadata": {
    "pycharm": {
     "name": "#%%\n"
    }
   },
   "outputs": [
    {
     "name": "stdout",
     "output_type": "stream",
     "text": [
      "[1] \"Hmgb2\"  \"Cdca8\"  \"Top2a\"  \"Birc5\"  \"H2ax\"   \"Tubb4b\"\n"
     ]
    }
   ],
   "source": [
    "%%R -i ranked_genes_\n",
    "ranked_genes = ranked_genes_\n",
    "head(ranked_genes)"
   ]
  },
  {
   "cell_type": "code",
   "execution_count": 28,
   "id": "f0717be9-2bd3-410e-8652-0ebb33a0b5db",
   "metadata": {
    "pycharm": {
     "name": "#%%\n"
    }
   },
   "outputs": [],
   "source": [
    "# compute ranks and export to r\n",
    "stats_ = adata.uns['t-test']['scores'][celltype_condition]"
   ]
  },
  {
   "cell_type": "code",
   "execution_count": 29,
   "id": "43d1f826-a89c-47e5-91ae-a15a79879c28",
   "metadata": {
    "pycharm": {
     "name": "#%%\n"
    }
   },
   "outputs": [],
   "source": [
    "%%R -i stats_\n",
    "stats = stats_"
   ]
  },
  {
   "cell_type": "code",
   "execution_count": 30,
   "id": "9b1bbd84-367a-45d8-8ff3-232c708c3fa5",
   "metadata": {
    "pycharm": {
     "name": "#%%\n"
    }
   },
   "outputs": [],
   "source": [
    "%%R\n",
    "names(stats) = ranked_genes"
   ]
  },
  {
   "cell_type": "code",
   "execution_count": 31,
   "id": "33b29ff6-8295-4b84-8d59-d4ba64d83035",
   "metadata": {
    "scrolled": true,
    "tags": []
   },
   "outputs": [],
   "source": [
    "%R -o stats"
   ]
  },
  {
   "cell_type": "code",
   "execution_count": 32,
   "id": "418a461f-a798-4506-acd0-3c6348fae901",
   "metadata": {},
   "outputs": [],
   "source": [
    "stats_df = pd.DataFrame(stats, index=ranked_genes_, columns=['Stats'])"
   ]
  },
  {
   "cell_type": "markdown",
   "id": "c197fb6e-b7b3-422f-9e1e-da2a42a0d751",
   "metadata": {
    "pycharm": {
     "name": "#%% md\n"
    },
    "tags": []
   },
   "source": [
    "### Cluster-level gene set enrichment analysis with fgsea"
   ]
  },
  {
   "cell_type": "code",
   "execution_count": 33,
   "id": "7e59e6b8-c217-4e3e-9a70-5a2b77a57ed6",
   "metadata": {},
   "outputs": [],
   "source": [
    "# MARK THESE GENE SETS LATER IN THE EXCEL TABLE\n",
    "\n",
    "### Cluster 0\n",
    "# HALLMARK_MITOTIC_SPINDLE\n",
    "\n",
    "### Cluster 1\n",
    "# HALLMARK_HYPOXIA\n",
    "# HALLMARK_MTORC1_SIGNALING\n",
    "# HALLMARK_GLYCOLYSIS\n",
    "\n",
    "### Custer 2\n",
    "# HALLMARK_EPITHELIAL_MESENCHYMAL_TRANSITION\n",
    "\n",
    "### Cluster 3\n",
    "# HALLMARK_G2M_CHECKPOINT\n",
    "# HALLMARK_E2F_TARGETS\n",
    "# HALLMARK_MITOTIC_SPINDLE\n",
    "\n",
    "### Cluster 4\n",
    "# HALLMARK_UNFOLDED_PROTEIN_RESPONSE\n",
    "# HALLMARK_MTORC1_SIGNALING\n",
    "# HALLMARK_HYPOXIA\n",
    "# HALLMARK_GLYCOLYSIS"
   ]
  },
  {
   "cell_type": "code",
   "execution_count": 34,
   "id": "e15e9f8c-dd5e-4180-b915-5097706adae2",
   "metadata": {
    "pycharm": {
     "name": "#%%\n"
    }
   },
   "outputs": [],
   "source": [
    "%%R\n",
    "# pathways <- gmtPathways('../data/Hallmark/16992_2D/Cluster0/HALLMARK_TNFA_SIGNALING_VIA_NFKB.v7.5.1.gmt')\n",
    "all_pathways <- gmtPathways('../data/Hallmark/h.all.v7.5.1.symbols.gmt')"
   ]
  },
  {
   "cell_type": "code",
   "execution_count": 35,
   "id": "327d02e7-e455-4c79-ad57-a6b65ca57029",
   "metadata": {},
   "outputs": [],
   "source": [
    "%%R\n",
    "# my_pathways <- all_pathways['HALLMARK_HYPOXIA']\n",
    "my_pathways <- all_pathways"
   ]
  },
  {
   "cell_type": "code",
   "execution_count": 36,
   "id": "851d2be0-b7a4-42e6-8e38-6591f8c4e3b2",
   "metadata": {},
   "outputs": [
    {
     "name": "stderr",
     "output_type": "stream",
     "text": [
      "100%|█████████████████████████████████████████████████████████████████████████████████████████████████████████████████████████████████████████████████████████████████████████████| 1/1 [00:00<00:00,  3.26it/s]\n"
     ]
    },
    {
     "data": {
      "text/html": [
       "<div>\n",
       "<style scoped>\n",
       "    .dataframe tbody tr th:only-of-type {\n",
       "        vertical-align: middle;\n",
       "    }\n",
       "\n",
       "    .dataframe tbody tr th {\n",
       "        vertical-align: top;\n",
       "    }\n",
       "\n",
       "    .dataframe thead th {\n",
       "        text-align: right;\n",
       "    }\n",
       "</style>\n",
       "<table border=\"1\" class=\"dataframe\">\n",
       "  <thead>\n",
       "    <tr style=\"text-align: right;\">\n",
       "      <th></th>\n",
       "      <th>external_gene_name</th>\n",
       "      <th>mouse_ensembl_gene_id</th>\n",
       "      <th>human_ensembl_gene_id</th>\n",
       "      <th>hgnc_symbol</th>\n",
       "    </tr>\n",
       "  </thead>\n",
       "  <tbody>\n",
       "    <tr>\n",
       "      <th>0</th>\n",
       "      <td>Tert</td>\n",
       "      <td>ENSMUSG00000021611</td>\n",
       "      <td>ENSG00000164362</td>\n",
       "      <td>TERT</td>\n",
       "    </tr>\n",
       "    <tr>\n",
       "      <th>1</th>\n",
       "      <td>Trp53</td>\n",
       "      <td>ENSMUSG00000059552</td>\n",
       "      <td>ENSG00000141510</td>\n",
       "      <td>TP53</td>\n",
       "    </tr>\n",
       "  </tbody>\n",
       "</table>\n",
       "</div>"
      ],
      "text/plain": [
       "  external_gene_name mouse_ensembl_gene_id human_ensembl_gene_id hgnc_symbol\n",
       "0               Tert    ENSMUSG00000021611       ENSG00000164362        TERT\n",
       "1              Trp53    ENSMUSG00000059552       ENSG00000141510        TP53"
      ]
     },
     "execution_count": 36,
     "metadata": {},
     "output_type": "execute_result"
    }
   ],
   "source": [
    "from pyorthomap import FindOrthologs \n",
    "# then create the find orthogues object using correct datasets and attributes\n",
    "# use help(FindOrthologs)\n",
    "hs2mm = FindOrthologs(\n",
    "          host = 'http://www.ensembl.org',\n",
    "          mart = 'ENSEMBL_MART_ENSEMBL',\n",
    "          from_dataset = 'hsapiens_gene_ensembl',\n",
    "          to_dataset = 'mmusculus_gene_ensembl',\n",
    "          from_filters = 'hgnc_symbol',\n",
    "          from_values = ['TP53', 'TERT'],\n",
    "          to_attributes = ['external_gene_name'],\n",
    "          to_homolog_attribute = 'mmusculus_homolog_ensembl_gene',\n",
    "          from_gene_id_name = 'human_ensembl_gene_id',\n",
    "          to_gene_id_name = 'mouse_ensembl_gene_id'\n",
    "    )\n",
    "    \n",
    "hs2mm.map()"
   ]
  },
  {
   "cell_type": "code",
   "execution_count": 37,
   "id": "65927f96-50cc-422b-b61d-7cc1c3b41d30",
   "metadata": {},
   "outputs": [
    {
     "name": "stderr",
     "output_type": "stream",
     "text": [
      "100%|███████████████████████████████████████████████████████████████████████████████████████████████████████████████████████████████████████████████████████████████████████████| 36/36 [00:04<00:00,  8.80it/s]\n"
     ]
    }
   ],
   "source": [
    "from pyorthomap import findOrthologsMmHs, findOrthologsHsMm\n",
    "orthologies_mmhs = findOrthologsMmHs(from_filters = 'external_gene_name',\n",
    "                  from_values = ranked_genes_).map()\n",
    "                  # from_values = [list(stats_df.index)]).map() # [stats.gene.names]).map()"
   ]
  },
  {
   "cell_type": "code",
   "execution_count": 38,
   "id": "5e4364fa-79fe-4095-82ce-2a04e698457c",
   "metadata": {},
   "outputs": [],
   "source": [
    "%%R -i orthologies_mmhs\n",
    "\n",
    "# reorder the conversion table by names(stats)\n",
    "# mm2hs <- mm2hs[match(names(stats), mm2hs$external_gene_name),]\n",
    "orthologies_mmhs <- orthologies_mmhs[match(names(stats), orthologies_mmhs$external_gene_name),]\n",
    "keep <- !is.na(orthologies_mmhs$hgnc_symbol)\n",
    "stats <- stats[keep]\n",
    "names(stats) <- orthologies_mmhs$hgnc_symbol[keep]\n",
    "# names(stats)"
   ]
  },
  {
   "cell_type": "code",
   "execution_count": 39,
   "id": "d992d2df-e5e9-4a8a-99f9-6d05d7294a6c",
   "metadata": {},
   "outputs": [],
   "source": [
    "%%R -o stats_names\n",
    "stats_names <- names(stats)"
   ]
  },
  {
   "cell_type": "code",
   "execution_count": 40,
   "id": "f9826414-95a3-4202-8f3a-c4271a5f8756",
   "metadata": {},
   "outputs": [
    {
     "data": {
      "text/html": [
       "\n",
       "        <span>StrVector with 10095 elements.</span>\n",
       "        <table>\n",
       "        <tbody>\n",
       "          <tr>\n",
       "          \n",
       "            <td>\n",
       "            'HMGB2'\n",
       "            </td>\n",
       "          \n",
       "            <td>\n",
       "            'CDCA8'\n",
       "            </td>\n",
       "          \n",
       "            <td>\n",
       "            'TOP2A'\n",
       "            </td>\n",
       "          \n",
       "            <td>\n",
       "            ...\n",
       "            </td>\n",
       "          \n",
       "            <td>\n",
       "            'RPL27A'\n",
       "            </td>\n",
       "          \n",
       "            <td>\n",
       "            'FN1'\n",
       "            </td>\n",
       "          \n",
       "            <td>\n",
       "            'FTH1'\n",
       "            </td>\n",
       "          \n",
       "          </tr>\n",
       "        </tbody>\n",
       "        </table>\n",
       "        "
      ],
      "text/plain": [
       "<rpy2.robjects.vectors.StrVector object at 0x7f824b3a1840> [RTYPES.STRSXP]\n",
       "R classes: ('character',)\n",
       "['HMGB2', 'CDCA8', 'TOP2A', 'BIRC5', ..., 'SPP1', 'RPL27A', 'FN1', 'FTH1']"
      ]
     },
     "execution_count": 40,
     "metadata": {},
     "output_type": "execute_result"
    }
   ],
   "source": [
    "stats_names"
   ]
  },
  {
   "cell_type": "code",
   "execution_count": 41,
   "id": "44c0972d-5ab9-496f-b8f2-54190fb8015d",
   "metadata": {},
   "outputs": [],
   "source": [
    "%%R\n",
    "names(stats) <- stats_names"
   ]
  },
  {
   "cell_type": "code",
   "execution_count": 42,
   "id": "395fa2e6-3152-485e-9eb8-745a05b4efc0",
   "metadata": {
    "pycharm": {
     "name": "#%%\n"
    }
   },
   "outputs": [],
   "source": [
    "%%R \n",
    "fgseaRes <- fgsea(pathways = my_pathways, \n",
    "                  stats    = stats,\n",
    "                  eps      = 0.0,\n",
    "                  minSize  = 15,\n",
    "                  maxSize  = 500)"
   ]
  },
  {
   "cell_type": "code",
   "execution_count": 43,
   "id": "480d6cc5-f747-4935-bf80-08d1a23adbef",
   "metadata": {},
   "outputs": [],
   "source": [
    "%%R\n",
    "pathway <- fgseaRes[[1]]\n",
    "pval <- fgseaRes[[2]]\n",
    "padj <- fgseaRes[[3]]\n",
    "log2err <- fgseaRes[[4]]\n",
    "ES <- fgseaRes[[5]]\n",
    "NES <- fgseaRes[[6]]\n",
    "size <- fgseaRes[[7]]"
   ]
  },
  {
   "cell_type": "code",
   "execution_count": 44,
   "id": "e4f9e438-85ac-49cb-ac63-268a9617c8c8",
   "metadata": {},
   "outputs": [],
   "source": [
    "%R -o pathway\n",
    "%R -o pval\n",
    "%R -o padj\n",
    "%R -o log2err\n",
    "%R -o ES\n",
    "%R -o NES\n",
    "%R -o size"
   ]
  },
  {
   "cell_type": "code",
   "execution_count": 45,
   "id": "20c6f27b-55f5-432a-b7d5-d0fb38571b8d",
   "metadata": {},
   "outputs": [],
   "source": [
    "df = pd.DataFrame({'Pathway': np.array(pathway), 'PVAL': np.array(pval), 'Adjusted PVAL': np.array(padj), 'log2 Error': np.array(log2err), 'ES': np.array(ES), 'NES': np.array(NES), 'Size': np.array(size)})\n",
    "df.to_excel('../rev_results/task2/4_tree-like_fgsea_cluster' + celltype_condition + '.xlsx')"
   ]
  },
  {
   "cell_type": "code",
   "execution_count": 47,
   "id": "5830ec02-e1a8-421f-ad3e-d84baad14b2f",
   "metadata": {},
   "outputs": [
    {
     "data": {
      "text/html": [
       "<div>\n",
       "<style scoped>\n",
       "    .dataframe tbody tr th:only-of-type {\n",
       "        vertical-align: middle;\n",
       "    }\n",
       "\n",
       "    .dataframe tbody tr th {\n",
       "        vertical-align: top;\n",
       "    }\n",
       "\n",
       "    .dataframe thead th {\n",
       "        text-align: right;\n",
       "    }\n",
       "</style>\n",
       "<table border=\"1\" class=\"dataframe\">\n",
       "  <thead>\n",
       "    <tr style=\"text-align: right;\">\n",
       "      <th></th>\n",
       "      <th>Pathway</th>\n",
       "      <th>PVAL</th>\n",
       "      <th>Adjusted PVAL</th>\n",
       "      <th>log2 Error</th>\n",
       "      <th>ES</th>\n",
       "      <th>NES</th>\n",
       "      <th>Size</th>\n",
       "    </tr>\n",
       "  </thead>\n",
       "  <tbody>\n",
       "    <tr>\n",
       "      <th>0</th>\n",
       "      <td>HALLMARK_ADIPOGENESIS</td>\n",
       "      <td>9.969970e-01</td>\n",
       "      <td>9.979920e-01</td>\n",
       "      <td>0.003232</td>\n",
       "      <td>0.203846</td>\n",
       "      <td>0.557885</td>\n",
       "      <td>172</td>\n",
       "    </tr>\n",
       "    <tr>\n",
       "      <th>1</th>\n",
       "      <td>HALLMARK_ALLOGRAFT_REJECTION</td>\n",
       "      <td>8.368810e-02</td>\n",
       "      <td>1.821447e-01</td>\n",
       "      <td>0.287805</td>\n",
       "      <td>-0.254432</td>\n",
       "      <td>-1.120056</td>\n",
       "      <td>84</td>\n",
       "    </tr>\n",
       "    <tr>\n",
       "      <th>2</th>\n",
       "      <td>HALLMARK_ANDROGEN_RESPONSE</td>\n",
       "      <td>8.597376e-01</td>\n",
       "      <td>9.979920e-01</td>\n",
       "      <td>0.019079</td>\n",
       "      <td>0.292133</td>\n",
       "      <td>0.771394</td>\n",
       "      <td>80</td>\n",
       "    </tr>\n",
       "    <tr>\n",
       "      <th>3</th>\n",
       "      <td>HALLMARK_ANGIOGENESIS</td>\n",
       "      <td>2.685922e-04</td>\n",
       "      <td>1.104213e-03</td>\n",
       "      <td>0.498493</td>\n",
       "      <td>-0.681878</td>\n",
       "      <td>-2.219287</td>\n",
       "      <td>18</td>\n",
       "    </tr>\n",
       "    <tr>\n",
       "      <th>4</th>\n",
       "      <td>HALLMARK_APICAL_JUNCTION</td>\n",
       "      <td>6.209677e-01</td>\n",
       "      <td>9.573253e-01</td>\n",
       "      <td>0.036073</td>\n",
       "      <td>0.353116</td>\n",
       "      <td>0.947333</td>\n",
       "      <td>102</td>\n",
       "    </tr>\n",
       "    <tr>\n",
       "      <th>5</th>\n",
       "      <td>HALLMARK_APICAL_SURFACE</td>\n",
       "      <td>1.067588e-01</td>\n",
       "      <td>2.053481e-01</td>\n",
       "      <td>0.287805</td>\n",
       "      <td>-0.377935</td>\n",
       "      <td>-1.313260</td>\n",
       "      <td>23</td>\n",
       "    </tr>\n",
       "    <tr>\n",
       "      <th>6</th>\n",
       "      <td>HALLMARK_APOPTOSIS</td>\n",
       "      <td>2.314629e-01</td>\n",
       "      <td>3.892786e-01</td>\n",
       "      <td>0.083363</td>\n",
       "      <td>0.419390</td>\n",
       "      <td>1.136129</td>\n",
       "      <td>118</td>\n",
       "    </tr>\n",
       "    <tr>\n",
       "      <th>7</th>\n",
       "      <td>HALLMARK_BILE_ACID_METABOLISM</td>\n",
       "      <td>3.558067e-02</td>\n",
       "      <td>9.403462e-02</td>\n",
       "      <td>0.321776</td>\n",
       "      <td>-0.321294</td>\n",
       "      <td>-1.356777</td>\n",
       "      <td>64</td>\n",
       "    </tr>\n",
       "    <tr>\n",
       "      <th>8</th>\n",
       "      <td>HALLMARK_CHOLESTEROL_HOMEOSTASIS</td>\n",
       "      <td>8.524924e-01</td>\n",
       "      <td>9.979920e-01</td>\n",
       "      <td>0.020122</td>\n",
       "      <td>0.295292</td>\n",
       "      <td>0.766406</td>\n",
       "      <td>65</td>\n",
       "    </tr>\n",
       "    <tr>\n",
       "      <th>9</th>\n",
       "      <td>HALLMARK_COAGULATION</td>\n",
       "      <td>8.678991e-06</td>\n",
       "      <td>5.352044e-05</td>\n",
       "      <td>0.593325</td>\n",
       "      <td>-0.505076</td>\n",
       "      <td>-2.090099</td>\n",
       "      <td>61</td>\n",
       "    </tr>\n",
       "    <tr>\n",
       "      <th>10</th>\n",
       "      <td>HALLMARK_COMPLEMENT</td>\n",
       "      <td>NaN</td>\n",
       "      <td>NaN</td>\n",
       "      <td>NaN</td>\n",
       "      <td>-0.213035</td>\n",
       "      <td>NaN</td>\n",
       "      <td>111</td>\n",
       "    </tr>\n",
       "    <tr>\n",
       "      <th>11</th>\n",
       "      <td>HALLMARK_DNA_REPAIR</td>\n",
       "      <td>3.179780e-04</td>\n",
       "      <td>1.176519e-03</td>\n",
       "      <td>0.498493</td>\n",
       "      <td>0.564806</td>\n",
       "      <td>1.539238</td>\n",
       "      <td>135</td>\n",
       "    </tr>\n",
       "    <tr>\n",
       "      <th>12</th>\n",
       "      <td>HALLMARK_E2F_TARGETS</td>\n",
       "      <td>1.106742e-49</td>\n",
       "      <td>4.094945e-48</td>\n",
       "      <td>1.837225</td>\n",
       "      <td>0.857951</td>\n",
       "      <td>2.349609</td>\n",
       "      <td>196</td>\n",
       "    </tr>\n",
       "    <tr>\n",
       "      <th>13</th>\n",
       "      <td>HALLMARK_EPITHELIAL_MESENCHYMAL_TRANSITION</td>\n",
       "      <td>NaN</td>\n",
       "      <td>NaN</td>\n",
       "      <td>NaN</td>\n",
       "      <td>-0.520875</td>\n",
       "      <td>NaN</td>\n",
       "      <td>100</td>\n",
       "    </tr>\n",
       "    <tr>\n",
       "      <th>14</th>\n",
       "      <td>HALLMARK_ESTROGEN_RESPONSE_EARLY</td>\n",
       "      <td>9.979920e-01</td>\n",
       "      <td>9.979920e-01</td>\n",
       "      <td>0.003829</td>\n",
       "      <td>0.200860</td>\n",
       "      <td>0.546564</td>\n",
       "      <td>132</td>\n",
       "    </tr>\n",
       "    <tr>\n",
       "      <th>15</th>\n",
       "      <td>HALLMARK_ESTROGEN_RESPONSE_LATE</td>\n",
       "      <td>1.521522e-01</td>\n",
       "      <td>2.680776e-01</td>\n",
       "      <td>0.107972</td>\n",
       "      <td>0.435315</td>\n",
       "      <td>1.182308</td>\n",
       "      <td>124</td>\n",
       "    </tr>\n",
       "    <tr>\n",
       "      <th>16</th>\n",
       "      <td>HALLMARK_FATTY_ACID_METABOLISM</td>\n",
       "      <td>9.038076e-01</td>\n",
       "      <td>9.979920e-01</td>\n",
       "      <td>0.015115</td>\n",
       "      <td>0.279406</td>\n",
       "      <td>0.757041</td>\n",
       "      <td>117</td>\n",
       "    </tr>\n",
       "    <tr>\n",
       "      <th>17</th>\n",
       "      <td>HALLMARK_G2M_CHECKPOINT</td>\n",
       "      <td>2.538460e-43</td>\n",
       "      <td>4.696151e-42</td>\n",
       "      <td>1.714797</td>\n",
       "      <td>0.844653</td>\n",
       "      <td>2.313498</td>\n",
       "      <td>190</td>\n",
       "    </tr>\n",
       "    <tr>\n",
       "      <th>18</th>\n",
       "      <td>HALLMARK_GLYCOLYSIS</td>\n",
       "      <td>7.507508e-02</td>\n",
       "      <td>1.736111e-01</td>\n",
       "      <td>0.160801</td>\n",
       "      <td>0.450291</td>\n",
       "      <td>1.229719</td>\n",
       "      <td>158</td>\n",
       "    </tr>\n",
       "    <tr>\n",
       "      <th>19</th>\n",
       "      <td>HALLMARK_HEDGEHOG_SIGNALING</td>\n",
       "      <td>8.545455e-01</td>\n",
       "      <td>9.979920e-01</td>\n",
       "      <td>0.142057</td>\n",
       "      <td>-0.234775</td>\n",
       "      <td>-0.785205</td>\n",
       "      <td>20</td>\n",
       "    </tr>\n",
       "    <tr>\n",
       "      <th>20</th>\n",
       "      <td>HALLMARK_HEME_METABOLISM</td>\n",
       "      <td>7.434870e-01</td>\n",
       "      <td>9.979920e-01</td>\n",
       "      <td>0.026956</td>\n",
       "      <td>0.327140</td>\n",
       "      <td>0.892707</td>\n",
       "      <td>148</td>\n",
       "    </tr>\n",
       "    <tr>\n",
       "      <th>21</th>\n",
       "      <td>HALLMARK_HYPOXIA</td>\n",
       "      <td>NaN</td>\n",
       "      <td>NaN</td>\n",
       "      <td>NaN</td>\n",
       "      <td>-0.362171</td>\n",
       "      <td>NaN</td>\n",
       "      <td>146</td>\n",
       "    </tr>\n",
       "    <tr>\n",
       "      <th>22</th>\n",
       "      <td>HALLMARK_IL2_STAT5_SIGNALING</td>\n",
       "      <td>NaN</td>\n",
       "      <td>NaN</td>\n",
       "      <td>NaN</td>\n",
       "      <td>-0.284839</td>\n",
       "      <td>NaN</td>\n",
       "      <td>129</td>\n",
       "    </tr>\n",
       "    <tr>\n",
       "      <th>23</th>\n",
       "      <td>HALLMARK_IL6_JAK_STAT3_SIGNALING</td>\n",
       "      <td>4.829998e-02</td>\n",
       "      <td>1.191399e-01</td>\n",
       "      <td>0.321776</td>\n",
       "      <td>-0.330984</td>\n",
       "      <td>-1.334509</td>\n",
       "      <td>50</td>\n",
       "    </tr>\n",
       "    <tr>\n",
       "      <th>24</th>\n",
       "      <td>HALLMARK_INFLAMMATORY_RESPONSE</td>\n",
       "      <td>NaN</td>\n",
       "      <td>NaN</td>\n",
       "      <td>NaN</td>\n",
       "      <td>-0.200965</td>\n",
       "      <td>NaN</td>\n",
       "      <td>93</td>\n",
       "    </tr>\n",
       "    <tr>\n",
       "      <th>25</th>\n",
       "      <td>HALLMARK_INTERFERON_ALPHA_RESPONSE</td>\n",
       "      <td>4.843639e-03</td>\n",
       "      <td>1.629224e-02</td>\n",
       "      <td>0.407018</td>\n",
       "      <td>-0.361977</td>\n",
       "      <td>-1.544981</td>\n",
       "      <td>67</td>\n",
       "    </tr>\n",
       "    <tr>\n",
       "      <th>26</th>\n",
       "      <td>HALLMARK_INTERFERON_GAMMA_RESPONSE</td>\n",
       "      <td>NaN</td>\n",
       "      <td>NaN</td>\n",
       "      <td>NaN</td>\n",
       "      <td>-0.277548</td>\n",
       "      <td>NaN</td>\n",
       "      <td>119</td>\n",
       "    </tr>\n",
       "    <tr>\n",
       "      <th>27</th>\n",
       "      <td>HALLMARK_KRAS_SIGNALING_DN</td>\n",
       "      <td>2.339017e-02</td>\n",
       "      <td>6.657201e-02</td>\n",
       "      <td>0.352488</td>\n",
       "      <td>-0.354552</td>\n",
       "      <td>-1.438691</td>\n",
       "      <td>48</td>\n",
       "    </tr>\n",
       "    <tr>\n",
       "      <th>28</th>\n",
       "      <td>HALLMARK_KRAS_SIGNALING_UP</td>\n",
       "      <td>NaN</td>\n",
       "      <td>NaN</td>\n",
       "      <td>NaN</td>\n",
       "      <td>-0.302825</td>\n",
       "      <td>NaN</td>\n",
       "      <td>102</td>\n",
       "    </tr>\n",
       "    <tr>\n",
       "      <th>29</th>\n",
       "      <td>HALLMARK_MITOTIC_SPINDLE</td>\n",
       "      <td>3.002660e-21</td>\n",
       "      <td>3.703280e-20</td>\n",
       "      <td>1.195344</td>\n",
       "      <td>0.743481</td>\n",
       "      <td>2.039169</td>\n",
       "      <td>185</td>\n",
       "    </tr>\n",
       "    <tr>\n",
       "      <th>30</th>\n",
       "      <td>HALLMARK_MTORC1_SIGNALING</td>\n",
       "      <td>2.616222e-05</td>\n",
       "      <td>1.382860e-04</td>\n",
       "      <td>0.575610</td>\n",
       "      <td>0.564710</td>\n",
       "      <td>1.546590</td>\n",
       "      <td>182</td>\n",
       "    </tr>\n",
       "    <tr>\n",
       "      <th>31</th>\n",
       "      <td>HALLMARK_MYC_TARGETS_V1</td>\n",
       "      <td>4.275735e-12</td>\n",
       "      <td>3.955055e-11</td>\n",
       "      <td>0.887075</td>\n",
       "      <td>0.664431</td>\n",
       "      <td>1.819706</td>\n",
       "      <td>191</td>\n",
       "    </tr>\n",
       "    <tr>\n",
       "      <th>32</th>\n",
       "      <td>HALLMARK_MYC_TARGETS_V2</td>\n",
       "      <td>9.743700e-03</td>\n",
       "      <td>3.004308e-02</td>\n",
       "      <td>0.380730</td>\n",
       "      <td>0.590228</td>\n",
       "      <td>1.517659</td>\n",
       "      <td>56</td>\n",
       "    </tr>\n",
       "    <tr>\n",
       "      <th>33</th>\n",
       "      <td>HALLMARK_MYOGENESIS</td>\n",
       "      <td>NaN</td>\n",
       "      <td>NaN</td>\n",
       "      <td>NaN</td>\n",
       "      <td>-0.324528</td>\n",
       "      <td>NaN</td>\n",
       "      <td>99</td>\n",
       "    </tr>\n",
       "    <tr>\n",
       "      <th>34</th>\n",
       "      <td>HALLMARK_NOTCH_SIGNALING</td>\n",
       "      <td>7.395604e-01</td>\n",
       "      <td>9.979920e-01</td>\n",
       "      <td>0.031853</td>\n",
       "      <td>0.346170</td>\n",
       "      <td>0.814605</td>\n",
       "      <td>26</td>\n",
       "    </tr>\n",
       "    <tr>\n",
       "      <th>35</th>\n",
       "      <td>HALLMARK_OXIDATIVE_PHOSPHORYLATION</td>\n",
       "      <td>NaN</td>\n",
       "      <td>NaN</td>\n",
       "      <td>NaN</td>\n",
       "      <td>-0.250364</td>\n",
       "      <td>NaN</td>\n",
       "      <td>190</td>\n",
       "    </tr>\n",
       "    <tr>\n",
       "      <th>36</th>\n",
       "      <td>HALLMARK_P53_PATHWAY</td>\n",
       "      <td>NaN</td>\n",
       "      <td>NaN</td>\n",
       "      <td>NaN</td>\n",
       "      <td>-0.232050</td>\n",
       "      <td>NaN</td>\n",
       "      <td>165</td>\n",
       "    </tr>\n",
       "    <tr>\n",
       "      <th>37</th>\n",
       "      <td>HALLMARK_PEROXISOME</td>\n",
       "      <td>5.829960e-01</td>\n",
       "      <td>9.378631e-01</td>\n",
       "      <td>0.039196</td>\n",
       "      <td>0.365054</td>\n",
       "      <td>0.961543</td>\n",
       "      <td>77</td>\n",
       "    </tr>\n",
       "    <tr>\n",
       "      <th>38</th>\n",
       "      <td>HALLMARK_PI3K_AKT_MTOR_SIGNALING</td>\n",
       "      <td>1.109990e-01</td>\n",
       "      <td>2.053481e-01</td>\n",
       "      <td>0.130106</td>\n",
       "      <td>0.471741</td>\n",
       "      <td>1.247177</td>\n",
       "      <td>81</td>\n",
       "    </tr>\n",
       "    <tr>\n",
       "      <th>39</th>\n",
       "      <td>HALLMARK_PROTEIN_SECRETION</td>\n",
       "      <td>9.969758e-01</td>\n",
       "      <td>9.979920e-01</td>\n",
       "      <td>0.005025</td>\n",
       "      <td>0.201193</td>\n",
       "      <td>0.537713</td>\n",
       "      <td>92</td>\n",
       "    </tr>\n",
       "    <tr>\n",
       "      <th>40</th>\n",
       "      <td>HALLMARK_REACTIVE_OXYGEN_SPECIES_PATHWAY</td>\n",
       "      <td>8.880753e-01</td>\n",
       "      <td>9.979920e-01</td>\n",
       "      <td>0.019305</td>\n",
       "      <td>0.277433</td>\n",
       "      <td>0.695237</td>\n",
       "      <td>43</td>\n",
       "    </tr>\n",
       "    <tr>\n",
       "      <th>41</th>\n",
       "      <td>HALLMARK_SPERMATOGENESIS</td>\n",
       "      <td>4.196962e-07</td>\n",
       "      <td>3.105752e-06</td>\n",
       "      <td>0.674963</td>\n",
       "      <td>0.745548</td>\n",
       "      <td>1.917034</td>\n",
       "      <td>56</td>\n",
       "    </tr>\n",
       "    <tr>\n",
       "      <th>42</th>\n",
       "      <td>HALLMARK_TGF_BETA_SIGNALING</td>\n",
       "      <td>9.636552e-01</td>\n",
       "      <td>9.979920e-01</td>\n",
       "      <td>0.012796</td>\n",
       "      <td>0.230533</td>\n",
       "      <td>0.584972</td>\n",
       "      <td>48</td>\n",
       "    </tr>\n",
       "    <tr>\n",
       "      <th>43</th>\n",
       "      <td>HALLMARK_TNFA_SIGNALING_VIA_NFKB</td>\n",
       "      <td>9.919759e-01</td>\n",
       "      <td>9.979920e-01</td>\n",
       "      <td>0.005025</td>\n",
       "      <td>0.227877</td>\n",
       "      <td>0.621592</td>\n",
       "      <td>151</td>\n",
       "    </tr>\n",
       "    <tr>\n",
       "      <th>44</th>\n",
       "      <td>HALLMARK_UNFOLDED_PROTEIN_RESPONSE</td>\n",
       "      <td>5.635195e-05</td>\n",
       "      <td>2.606278e-04</td>\n",
       "      <td>0.557332</td>\n",
       "      <td>0.606510</td>\n",
       "      <td>1.631119</td>\n",
       "      <td>107</td>\n",
       "    </tr>\n",
       "    <tr>\n",
       "      <th>45</th>\n",
       "      <td>HALLMARK_UV_RESPONSE_DN</td>\n",
       "      <td>NaN</td>\n",
       "      <td>NaN</td>\n",
       "      <td>NaN</td>\n",
       "      <td>-0.261704</td>\n",
       "      <td>NaN</td>\n",
       "      <td>111</td>\n",
       "    </tr>\n",
       "    <tr>\n",
       "      <th>46</th>\n",
       "      <td>HALLMARK_UV_RESPONSE_UP</td>\n",
       "      <td>1.092184e-01</td>\n",
       "      <td>2.053481e-01</td>\n",
       "      <td>0.130777</td>\n",
       "      <td>0.453827</td>\n",
       "      <td>1.226887</td>\n",
       "      <td>113</td>\n",
       "    </tr>\n",
       "    <tr>\n",
       "      <th>47</th>\n",
       "      <td>HALLMARK_WNT_BETA_CATENIN_SIGNALING</td>\n",
       "      <td>7.861842e-01</td>\n",
       "      <td>9.979920e-01</td>\n",
       "      <td>0.028716</td>\n",
       "      <td>0.326910</td>\n",
       "      <td>0.773530</td>\n",
       "      <td>28</td>\n",
       "    </tr>\n",
       "    <tr>\n",
       "      <th>48</th>\n",
       "      <td>HALLMARK_XENOBIOTIC_METABOLISM</td>\n",
       "      <td>NaN</td>\n",
       "      <td>NaN</td>\n",
       "      <td>NaN</td>\n",
       "      <td>-0.233701</td>\n",
       "      <td>NaN</td>\n",
       "      <td>121</td>\n",
       "    </tr>\n",
       "  </tbody>\n",
       "</table>\n",
       "</div>"
      ],
      "text/plain": [
       "                                       Pathway          PVAL  Adjusted PVAL  \\\n",
       "0                        HALLMARK_ADIPOGENESIS  9.969970e-01   9.979920e-01   \n",
       "1                 HALLMARK_ALLOGRAFT_REJECTION  8.368810e-02   1.821447e-01   \n",
       "2                   HALLMARK_ANDROGEN_RESPONSE  8.597376e-01   9.979920e-01   \n",
       "3                        HALLMARK_ANGIOGENESIS  2.685922e-04   1.104213e-03   \n",
       "4                     HALLMARK_APICAL_JUNCTION  6.209677e-01   9.573253e-01   \n",
       "5                      HALLMARK_APICAL_SURFACE  1.067588e-01   2.053481e-01   \n",
       "6                           HALLMARK_APOPTOSIS  2.314629e-01   3.892786e-01   \n",
       "7                HALLMARK_BILE_ACID_METABOLISM  3.558067e-02   9.403462e-02   \n",
       "8             HALLMARK_CHOLESTEROL_HOMEOSTASIS  8.524924e-01   9.979920e-01   \n",
       "9                         HALLMARK_COAGULATION  8.678991e-06   5.352044e-05   \n",
       "10                         HALLMARK_COMPLEMENT           NaN            NaN   \n",
       "11                         HALLMARK_DNA_REPAIR  3.179780e-04   1.176519e-03   \n",
       "12                        HALLMARK_E2F_TARGETS  1.106742e-49   4.094945e-48   \n",
       "13  HALLMARK_EPITHELIAL_MESENCHYMAL_TRANSITION           NaN            NaN   \n",
       "14            HALLMARK_ESTROGEN_RESPONSE_EARLY  9.979920e-01   9.979920e-01   \n",
       "15             HALLMARK_ESTROGEN_RESPONSE_LATE  1.521522e-01   2.680776e-01   \n",
       "16              HALLMARK_FATTY_ACID_METABOLISM  9.038076e-01   9.979920e-01   \n",
       "17                     HALLMARK_G2M_CHECKPOINT  2.538460e-43   4.696151e-42   \n",
       "18                         HALLMARK_GLYCOLYSIS  7.507508e-02   1.736111e-01   \n",
       "19                 HALLMARK_HEDGEHOG_SIGNALING  8.545455e-01   9.979920e-01   \n",
       "20                    HALLMARK_HEME_METABOLISM  7.434870e-01   9.979920e-01   \n",
       "21                            HALLMARK_HYPOXIA           NaN            NaN   \n",
       "22                HALLMARK_IL2_STAT5_SIGNALING           NaN            NaN   \n",
       "23            HALLMARK_IL6_JAK_STAT3_SIGNALING  4.829998e-02   1.191399e-01   \n",
       "24              HALLMARK_INFLAMMATORY_RESPONSE           NaN            NaN   \n",
       "25          HALLMARK_INTERFERON_ALPHA_RESPONSE  4.843639e-03   1.629224e-02   \n",
       "26          HALLMARK_INTERFERON_GAMMA_RESPONSE           NaN            NaN   \n",
       "27                  HALLMARK_KRAS_SIGNALING_DN  2.339017e-02   6.657201e-02   \n",
       "28                  HALLMARK_KRAS_SIGNALING_UP           NaN            NaN   \n",
       "29                    HALLMARK_MITOTIC_SPINDLE  3.002660e-21   3.703280e-20   \n",
       "30                   HALLMARK_MTORC1_SIGNALING  2.616222e-05   1.382860e-04   \n",
       "31                     HALLMARK_MYC_TARGETS_V1  4.275735e-12   3.955055e-11   \n",
       "32                     HALLMARK_MYC_TARGETS_V2  9.743700e-03   3.004308e-02   \n",
       "33                         HALLMARK_MYOGENESIS           NaN            NaN   \n",
       "34                    HALLMARK_NOTCH_SIGNALING  7.395604e-01   9.979920e-01   \n",
       "35          HALLMARK_OXIDATIVE_PHOSPHORYLATION           NaN            NaN   \n",
       "36                        HALLMARK_P53_PATHWAY           NaN            NaN   \n",
       "37                         HALLMARK_PEROXISOME  5.829960e-01   9.378631e-01   \n",
       "38            HALLMARK_PI3K_AKT_MTOR_SIGNALING  1.109990e-01   2.053481e-01   \n",
       "39                  HALLMARK_PROTEIN_SECRETION  9.969758e-01   9.979920e-01   \n",
       "40    HALLMARK_REACTIVE_OXYGEN_SPECIES_PATHWAY  8.880753e-01   9.979920e-01   \n",
       "41                    HALLMARK_SPERMATOGENESIS  4.196962e-07   3.105752e-06   \n",
       "42                 HALLMARK_TGF_BETA_SIGNALING  9.636552e-01   9.979920e-01   \n",
       "43            HALLMARK_TNFA_SIGNALING_VIA_NFKB  9.919759e-01   9.979920e-01   \n",
       "44          HALLMARK_UNFOLDED_PROTEIN_RESPONSE  5.635195e-05   2.606278e-04   \n",
       "45                     HALLMARK_UV_RESPONSE_DN           NaN            NaN   \n",
       "46                     HALLMARK_UV_RESPONSE_UP  1.092184e-01   2.053481e-01   \n",
       "47         HALLMARK_WNT_BETA_CATENIN_SIGNALING  7.861842e-01   9.979920e-01   \n",
       "48              HALLMARK_XENOBIOTIC_METABOLISM           NaN            NaN   \n",
       "\n",
       "    log2 Error        ES       NES  Size  \n",
       "0     0.003232  0.203846  0.557885   172  \n",
       "1     0.287805 -0.254432 -1.120056    84  \n",
       "2     0.019079  0.292133  0.771394    80  \n",
       "3     0.498493 -0.681878 -2.219287    18  \n",
       "4     0.036073  0.353116  0.947333   102  \n",
       "5     0.287805 -0.377935 -1.313260    23  \n",
       "6     0.083363  0.419390  1.136129   118  \n",
       "7     0.321776 -0.321294 -1.356777    64  \n",
       "8     0.020122  0.295292  0.766406    65  \n",
       "9     0.593325 -0.505076 -2.090099    61  \n",
       "10         NaN -0.213035       NaN   111  \n",
       "11    0.498493  0.564806  1.539238   135  \n",
       "12    1.837225  0.857951  2.349609   196  \n",
       "13         NaN -0.520875       NaN   100  \n",
       "14    0.003829  0.200860  0.546564   132  \n",
       "15    0.107972  0.435315  1.182308   124  \n",
       "16    0.015115  0.279406  0.757041   117  \n",
       "17    1.714797  0.844653  2.313498   190  \n",
       "18    0.160801  0.450291  1.229719   158  \n",
       "19    0.142057 -0.234775 -0.785205    20  \n",
       "20    0.026956  0.327140  0.892707   148  \n",
       "21         NaN -0.362171       NaN   146  \n",
       "22         NaN -0.284839       NaN   129  \n",
       "23    0.321776 -0.330984 -1.334509    50  \n",
       "24         NaN -0.200965       NaN    93  \n",
       "25    0.407018 -0.361977 -1.544981    67  \n",
       "26         NaN -0.277548       NaN   119  \n",
       "27    0.352488 -0.354552 -1.438691    48  \n",
       "28         NaN -0.302825       NaN   102  \n",
       "29    1.195344  0.743481  2.039169   185  \n",
       "30    0.575610  0.564710  1.546590   182  \n",
       "31    0.887075  0.664431  1.819706   191  \n",
       "32    0.380730  0.590228  1.517659    56  \n",
       "33         NaN -0.324528       NaN    99  \n",
       "34    0.031853  0.346170  0.814605    26  \n",
       "35         NaN -0.250364       NaN   190  \n",
       "36         NaN -0.232050       NaN   165  \n",
       "37    0.039196  0.365054  0.961543    77  \n",
       "38    0.130106  0.471741  1.247177    81  \n",
       "39    0.005025  0.201193  0.537713    92  \n",
       "40    0.019305  0.277433  0.695237    43  \n",
       "41    0.674963  0.745548  1.917034    56  \n",
       "42    0.012796  0.230533  0.584972    48  \n",
       "43    0.005025  0.227877  0.621592   151  \n",
       "44    0.557332  0.606510  1.631119   107  \n",
       "45         NaN -0.261704       NaN   111  \n",
       "46    0.130777  0.453827  1.226887   113  \n",
       "47    0.028716  0.326910  0.773530    28  \n",
       "48         NaN -0.233701       NaN   121  "
      ]
     },
     "execution_count": 47,
     "metadata": {},
     "output_type": "execute_result"
    }
   ],
   "source": [
    "df"
   ]
  },
  {
   "cell_type": "code",
   "execution_count": 46,
   "id": "9b85c686-77a8-45cf-bf94-94ecf344dd4c",
   "metadata": {},
   "outputs": [
    {
     "name": "stdout",
     "output_type": "stream",
     "text": [
      "                               pathway         pval         padj   log2err\n",
      " 1:               HALLMARK_E2F_TARGETS 1.106742e-49 4.094945e-48 1.8372250\n",
      " 2:            HALLMARK_G2M_CHECKPOINT 2.538460e-43 4.696151e-42 1.7147970\n",
      " 3:           HALLMARK_MITOTIC_SPINDLE 3.002660e-21 3.703280e-20 1.1953445\n",
      " 4:            HALLMARK_MYC_TARGETS_V1 4.275735e-12 3.955055e-11 0.8870750\n",
      " 5:           HALLMARK_SPERMATOGENESIS 4.196962e-07 3.105752e-06 0.6749629\n",
      " 6:               HALLMARK_COAGULATION 8.678991e-06 5.352044e-05 0.5933255\n",
      " 7:          HALLMARK_MTORC1_SIGNALING 2.616222e-05 1.382860e-04 0.5756103\n",
      " 8: HALLMARK_UNFOLDED_PROTEIN_RESPONSE 5.635195e-05 2.606278e-04 0.5573322\n",
      " 9:              HALLMARK_ANGIOGENESIS 2.685922e-04 1.104213e-03 0.4984931\n",
      "10:                HALLMARK_DNA_REPAIR 3.179780e-04 1.176519e-03 0.4984931\n",
      "11: HALLMARK_INTERFERON_ALPHA_RESPONSE 4.843639e-03 1.629224e-02 0.4070179\n",
      "12:            HALLMARK_MYC_TARGETS_V2 9.743700e-03 3.004308e-02 0.3807304\n",
      "13:         HALLMARK_KRAS_SIGNALING_DN 2.339017e-02 6.657201e-02 0.3524879\n",
      "14:      HALLMARK_BILE_ACID_METABOLISM 3.558067e-02 9.403462e-02 0.3217759\n",
      "15:   HALLMARK_IL6_JAK_STAT3_SIGNALING 4.829998e-02 1.191399e-01 0.3217759\n",
      "16:                HALLMARK_GLYCOLYSIS 7.507508e-02 1.736111e-01 0.1608014\n",
      "17:       HALLMARK_ALLOGRAFT_REJECTION 8.368810e-02 1.821447e-01 0.2878051\n",
      "18:            HALLMARK_APICAL_SURFACE 1.067588e-01 2.053481e-01 0.2878051\n",
      "19:   HALLMARK_PI3K_AKT_MTOR_SIGNALING 1.109990e-01 2.053481e-01 0.1301056\n",
      "20:            HALLMARK_UV_RESPONSE_UP 1.092184e-01 2.053481e-01 0.1307771\n",
      "            ES       NES size                                leadingEdge\n",
      " 1:  0.8579510  2.349609  196      HMGB2,CDCA8,TOP2A,BIRC5,H2AX,CKS2,...\n",
      " 2:  0.8446532  2.313498  190       TOP2A,BIRC5,H2AX,PRC1,CKS2,H2AZ1,...\n",
      " 3:  0.7434810  2.039169  185        TOP2A,BIRC5,PRC1,TPX2,SMC4,ANLN,...\n",
      " 4:  0.6644311  1.819706  191        H2AZ1,CCNA2,CDC20,LSM2,RRM1,RAN,...\n",
      " 5:  0.7455479  1.917034   56       CDK1,DBF4,KIF2C,AURKA,BUB1,NCAPH,...\n",
      " 6: -0.5050759 -2.090099   61    FN1,GSN,S100A1,S100A13,LAMP2,PRSS23,...\n",
      " 7:  0.5647095  1.546590  182       PLK1,AURKA,BUB1,PSAT1,SHMT2,CCNF,...\n",
      " 8:  0.6065105  1.631119  107     H2AX,CKS1B,PSAT1,MTHFD2,ATF4,HSPA9,...\n",
      " 9: -0.6818784 -2.219287   18     SPP1,NRP1,STC1,S100A4,TNFRSF21,APP,...\n",
      "10:  0.5648063  1.539238  135   ARL6IP1,TYMS,RAD51,RFC5,ALYREF,SSRP1,...\n",
      "11: -0.3619769 -1.544981   67 IFITM3,B2M,BST2,ISG15,TMEM140,LGALS3BP,...\n",
      "12:  0.5902280  1.517659   56     PLK1,PLK4,TCOF1,DCTPP1,TMEM97,CBX3,...\n",
      "13: -0.3545522 -1.438691   48      COPZ2,SELENOP,SYNPO,SNN,GAMT,PDK2,...\n",
      "14: -0.3212937 -1.356777   64     RBP1,PRDX5,SCP2,ABCA1,PEX11G,ATXN1,...\n",
      "15: -0.3309838 -1.334509   50  CD9,TNFRSF21,CD38,STAT3,CRLF2,IL13RA1,...\n",
      "16:  0.4502906  1.229719  158     STMN1,CDK1,HMMR,AURKA,CENPA,DEPDC1,...\n",
      "17: -0.2544317 -1.120056   84       RPS9,RPL39,RPS3A,RPS19,INHBA,B2M,...\n",
      "18: -0.3779348 -1.313260   23    HSPB1,ATP8B1,GSTM3,DCBLD2,APP,SULF2,...\n",
      "19:  0.4717415  1.247177   81        CDK1,EIF4E,PIN1,ACTR3,CDK4,PAK4,...\n",
      "20:  0.4538267  1.226887  113       H2AX,RFC4,EIF5,FEN1,HNRNPU,TARS1,...\n"
     ]
    }
   ],
   "source": [
    "%%R \n",
    "ggdat <- fgseaRes[order(fgseaRes$padj, decreasing=FALSE), ][1:20,]\n",
    "ggdat"
   ]
  },
  {
   "cell_type": "code",
   "execution_count": 47,
   "id": "4f44d48d-05d3-4dbc-950a-3d7331d38814",
   "metadata": {},
   "outputs": [],
   "source": [
    "%%R\n",
    "saveRDS(ggdat, file = \"cache/4_tree-like/ggdat4.rds\")\n",
    "saveRDS(pathway, file = \"cache/4_tree-like/pathway4.rds\")\n",
    "saveRDS(padj, file = \"cache/4_tree-like/padj4.rds\")\n"
   ]
  },
  {
   "cell_type": "code",
   "execution_count": 48,
   "id": "6a77984f-1199-487b-9d5c-245e1be473ef",
   "metadata": {
    "pycharm": {
     "name": "#%%\n"
    }
   },
   "outputs": [
    {
     "data": {
      "image/png": "[encoded data removed]"
     },
     "metadata": {},
     "output_type": "display_data"
    }
   ],
   "source": [
    "%%R\n",
    "ggplot(ggdat, aes(x=reorder(pathway, -log10(padj)), y = -log10(padj))) +\n",
    "    geom_bar(stat=\"identity\", fill = \"#51A0D5\") + coord_flip() +\n",
    "    xlab('Pathway') + theme_minimal()"
   ]
  },
  {
   "cell_type": "code",
   "execution_count": 47,
   "id": "4ef8e382-8b2b-4fe9-ba1e-ae17058231cb",
   "metadata": {},
   "outputs": [],
   "source": [
    "save_dir = '../rev_results/task2/4_tree-like_fgsea_cluster' + celltype_condition + '.pdf'"
   ]
  },
  {
   "cell_type": "markdown",
   "id": "709ff237-3647-4b2d-9cde-b92e0e86dfb6",
   "metadata": {},
   "source": [
    "Change cluster and working directory"
   ]
  },
  {
   "cell_type": "code",
   "execution_count": 48,
   "id": "02f91b46-3583-4f3e-bd6d-f7fbb97f4f1e",
   "metadata": {},
   "outputs": [
    {
     "data": {
      "text/plain": [
       "'\\n%%R -i save_dir\\nggsave(\\n  # \\'git/isf_pancreatic_cancer/latest_notebook/figures/fgsea/16992-2D/cluster0.pdf\\',\\n  save_dir,\\n  plot = last_plot(),\\n  device = NULL,\\n  path = NULL,\\n  scale = 1,\\n  width = NA,\\n  height = NA,\\n  units = c(\"in\", \"cm\", \"mm\", \"px\"),\\n  dpi = 300,\\n  limitsize = TRUE,\\n  bg = NULL,\\n)\\n'"
      ]
     },
     "execution_count": 48,
     "metadata": {},
     "output_type": "execute_result"
    }
   ],
   "source": [
    "\n",
    "%%R -i save_dir\n",
    "ggsave(\n",
    "  'git/isf_pancreatic_cancer/latest_notebook/figures/fgsea/4_tree-like/cluster0.pdf',\n",
    "  save_dir,\n",
    "  plot = last_plot(),\n",
    "  device = NULL,\n",
    "  path = NULL,\n",
    "  scale = 1,\n",
    "  width = NA,\n",
    "  height = NA,\n",
    "  units = c(\"in\", \"cm\", \"mm\", \"px\"),\n",
    "  dpi = 300,\n",
    "  limitsize = TRUE,\n",
    "  bg = NULL,\n",
    ")\n"
   ]
  },
  {
   "cell_type": "code",
   "execution_count": 49,
   "id": "3b052792-4a44-4f09-acf8-6230dc09dfdd",
   "metadata": {
    "pycharm": {
     "name": "#%%\n"
    }
   },
   "outputs": [
    {
     "name": "stdout",
     "output_type": "stream",
     "text": [
      "            pathway pval padj log2err         ES NES size\n",
      "1: HALLMARK_HYPOXIA   NA   NA      NA -0.3621709  NA  146\n",
      "                            leadingEdge\n",
      "1: CP,CITED2,ALDOA,PRDX5,SDC2,DUSP1,...\n"
     ]
    }
   ],
   "source": [
    "%%R\n",
    "head(ggdat, n=1)"
   ]
  },
  {
   "cell_type": "markdown",
   "id": "e4b8f0f3-cc09-4ec0-9730-a21c01dfc213",
   "metadata": {
    "pycharm": {
     "name": "#%% md\n"
    }
   },
   "source": [
    "In the plot above, pathway names are given in the y-axis. The x-axis is the $-\\log_{10}$adjusted p-values. Therefore the longer the height of the bar, the more significant the pathway is. Pathways are ordered by significance. The majority of interferon-related pathways are indeed ranked among the top 20 most significantly enriched pathways. Some of the IFN-related pathways include, REACTOME_INTERFERON_SIGNALING (ranked 1), REACTOME_INTERFERON_ALPHA_BETA_SIGNALING (ranked 2nd), REACTOME_INTERFERON_GAMMA_SIGNALING (ranked 15th). Overall, `fgsea` did a decent job in identifying the pathways known to be associated with interferon signalling."
   ]
  },
  {
   "cell_type": "markdown",
   "id": "0abc2e3b-3539-44b0-8b85-7b6b4cd062f2",
   "metadata": {
    "pycharm": {
     "name": "#%% md\n"
    }
   },
   "source": [
    "We apply some minor pre-processing here, including putting the count data back in the `.X` slot of the anndata object to proceed to the next part - that is, scoring the pathway activity levels per cell, for which we use another Bioconductor package, `AUCell`. "
   ]
  },
  {
   "cell_type": "code",
   "execution_count": 50,
   "id": "434da064-6559-4c70-9b3d-1f3e126bd3fc",
   "metadata": {
    "pycharm": {
     "name": "#%%\n"
    }
   },
   "outputs": [],
   "source": [
    "del adata.uns\n",
    "del adata.obs"
   ]
  },
  {
   "cell_type": "code",
   "execution_count": 51,
   "id": "9b21aac3-6212-474d-af37-4f7108ed0f56",
   "metadata": {
    "pycharm": {
     "name": "#%%\n"
    }
   },
   "outputs": [],
   "source": [
    "#put counts back\n",
    "adata.X = adata.layers['counts']"
   ]
  }
 ],
 "metadata": {
  "kernelspec": {
   "display_name": "Python [conda env:celldreamer]",
   "language": "python",
   "name": "celldreamer"
  },
  "language_info": {
   "codemirror_mode": {
    "name": "ipython",
    "version": 3
   },
   "file_extension": ".py",
   "mimetype": "text/x-python",
   "name": "python",
   "nbconvert_exporter": "python",
   "pygments_lexer": "ipython3",
   "version": "3.10.12"
  }
 },
 "nbformat": 4,
 "nbformat_minor": 5
}
