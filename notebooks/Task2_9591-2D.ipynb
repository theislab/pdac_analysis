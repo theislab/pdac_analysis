{
 "cells": [
  {
   "cell_type": "markdown",
   "id": "7d127286-8a61-4f08-8ec9-428ca207fc56",
   "metadata": {},
   "source": [
    "# Task 2 - GSEA Hallmark analysis for each cluster\n",
    "This notebook does a GSEA Hallmark analysis for each cluster (collapsing all cells from each cluster, as a bulk rna seq).\n",
    "\n",
    "This notebook is based on the single-cell best practices book (https://github.com/theislab/single-cell-best-practices/). For further explanations of the applied methods please refer to above source."
   ]
  },
  {
   "cell_type": "markdown",
   "id": "46dfa883-7877-48df-a00c-d4bff3dae2ab",
   "metadata": {
    "pycharm": {
     "name": "#%% md\n"
    }
   },
   "source": [
    "# Gene set enrichment and pathway analysis "
   ]
  },
  {
   "cell_type": "markdown",
   "id": "a4b03f63-19d0-4e8c-b48e-1f30e68f2f9e",
   "metadata": {
    "pycharm": {
     "name": "#%% md\n"
    }
   },
   "source": [
    "### Prepare and explore the data"
   ]
  },
  {
   "cell_type": "code",
   "execution_count": 1,
   "id": "3dc9e721-7a43-4420-97c1-3006f7bf0c1a",
   "metadata": {},
   "outputs": [],
   "source": [
    "import os\n",
    "os.environ['R_HOME'] = '/home/icb/till.richter/anaconda3/envs/da_env/lib/R'"
   ]
  },
  {
   "cell_type": "code",
   "execution_count": 2,
   "id": "40c27baf-d6d6-4180-98ce-cfe719950182",
   "metadata": {
    "pycharm": {
     "name": "#%%\n"
    }
   },
   "outputs": [],
   "source": [
    "import scanpy as sc\n",
    "import anndata as ad\n",
    "import numpy as np\n",
    "import pandas as pd\n",
    "import anndata as ad\n",
    "import gdown\n",
    "import anndata2ri\n",
    "import rpy2\n",
    "from rpy2.robjects import r\n",
    "import random\n",
    "import session_info\n",
    "\n",
    "anndata2ri.activate()"
   ]
  },
  {
   "cell_type": "code",
   "execution_count": 3,
   "id": "3b8bba88-40b7-42b8-ab90-de06628e09f9",
   "metadata": {
    "pycharm": {
     "name": "#%%\n"
    }
   },
   "outputs": [],
   "source": [
    "sc.settings.set_figure_params(dpi=200, frameon=False)\n",
    "sc.set_figure_params(dpi=200)\n",
    "sc.set_figure_params(figsize=(4, 4))"
   ]
  },
  {
   "cell_type": "code",
   "execution_count": 4,
   "id": "e736b558-f5b0-4c28-a3a2-9461b4e02f87",
   "metadata": {
    "pycharm": {
     "name": "#%%\n"
    }
   },
   "outputs": [],
   "source": [
    "%load_ext rpy2.ipython"
   ]
  },
  {
   "cell_type": "code",
   "execution_count": 5,
   "id": "b1f69ee3-01e1-4b2a-a106-288066405238",
   "metadata": {},
   "outputs": [
    {
     "name": "stdout",
     "output_type": "stream",
     "text": [
      "\u001b[1mrpy2 version:\u001b[0m\n",
      "3.4.5\n",
      "\u001b[1mPython version:\u001b[0m\n",
      "3.8.8 (default, Apr 13 2021, 19:58:26) \n",
      "[GCC 7.3.0]\n",
      "\u001b[1mLooking for R's HOME:\u001b[0m\n",
      "    Environment variable R_HOME: /home/icb/till.richter/anaconda3/envs/da_env/lib/R\n",
      "    Calling `R RHOME`: /usr/lib64/R\n",
      "    Environment variable R_LIBS_USER: ~/R/x86_64-conda-linux-gnu-library/4.1\n",
      "    Warning: The environment variable R_HOME differs from the default R in the PATH.\n",
      "\u001b[1mR's additions to LD_LIBRARY_PATH:\u001b[0m\n",
      "\n",
      "\u001b[1mR version:\u001b[0m\n",
      "    In the PATH: R version 3.6.0 (2019-04-26) -- \"Planting of a Tree\"\n",
      "    Loading R library from rpy2: OK\n",
      "\u001b[1mAdditional directories to load R packages from:\u001b[0m\n",
      "None\n",
      "\u001b[1mC extension compilation:\u001b[0m\n",
      "  include:\n",
      "  ['/home/icb/till.richter/anaconda3/envs/da_env/lib/R/include']\n",
      "  libraries:\n",
      "  ['R', 'pcre2-8', 'lzma', 'bz2', 'z', 'rt', 'dl', 'm', 'iconv', 'icuuc', 'icui18n']\n",
      "  library_dirs:\n",
      "  ['/home/icb/till.richter/anaconda3/envs/da_env/lib', '/home/icb/till.richter/anaconda3/envs/da_env/lib/R/lib', '/home/icb/till.richter/anaconda3/envs/da_env/lib']\n",
      "  extra_compile_args:\n",
      "  []\n",
      "  extra_link_args:\n",
      "  ['-Wl,--export-dynamic', '-fopenmp', '-Wl,-O2', '-Wl,--sort-common', '-Wl,--as-needed', '-Wl,-z,relro', '-Wl,-z,now', '-Wl,--disable-new-dtags', '-Wl,--gc-sections', '-Wl,-rpath,/home/icb/till.richter/anaconda3/envs/da_env/lib', '-Wl,-rpath-link,/home/icb/till.richter/anaconda3/envs/da_env/lib']\n"
     ]
    }
   ],
   "source": [
    "!python -m rpy2.situation"
   ]
  },
  {
   "cell_type": "code",
   "execution_count": 6,
   "id": "cd1ede87-f850-45f0-b3c0-3268454d51dc",
   "metadata": {
    "pycharm": {
     "name": "#%%\n"
    }
   },
   "outputs": [],
   "source": [
    "%%R\n",
    "suppressPackageStartupMessages({\n",
    "    library(SingleCellExperiment)\n",
    "    library(fgsea)\n",
    "    library(AUCell)\n",
    "    library(ggplot2)\n",
    "})"
   ]
  },
  {
   "cell_type": "code",
   "execution_count": 8,
   "id": "1c6ea8a3-eb8e-46d3-a197-59cc7f279dea",
   "metadata": {},
   "outputs": [
    {
     "data": {
      "text/html": [
       "<div>\n",
       "<style scoped>\n",
       "    .dataframe tbody tr th:only-of-type {\n",
       "        vertical-align: middle;\n",
       "    }\n",
       "\n",
       "    .dataframe tbody tr th {\n",
       "        vertical-align: top;\n",
       "    }\n",
       "\n",
       "    .dataframe thead th {\n",
       "        text-align: right;\n",
       "    }\n",
       "</style>\n",
       "<table border=\"1\" class=\"dataframe\">\n",
       "  <thead>\n",
       "    <tr style=\"text-align: right;\">\n",
       "      <th></th>\n",
       "      <th>sample_id</th>\n",
       "      <th>sample_nr</th>\n",
       "      <th>donor</th>\n",
       "      <th>n_genes_by_counts</th>\n",
       "      <th>log1p_n_genes_by_counts</th>\n",
       "      <th>total_counts</th>\n",
       "      <th>log1p_total_counts</th>\n",
       "      <th>pct_counts_in_top_50_genes</th>\n",
       "      <th>pct_counts_in_top_100_genes</th>\n",
       "      <th>pct_counts_in_top_200_genes</th>\n",
       "      <th>pct_counts_in_top_500_genes</th>\n",
       "      <th>total_counts_mt</th>\n",
       "      <th>log1p_total_counts_mt</th>\n",
       "      <th>pct_counts_mt</th>\n",
       "      <th>log_counts</th>\n",
       "      <th>n_counts</th>\n",
       "      <th>n_genes</th>\n",
       "      <th>size_factors</th>\n",
       "    </tr>\n",
       "  </thead>\n",
       "  <tbody>\n",
       "    <tr>\n",
       "      <th>AAACCCAAGATCACCT-1-1-0-0</th>\n",
       "      <td>9591-2D</td>\n",
       "      <td>0</td>\n",
       "      <td>mouse</td>\n",
       "      <td>1438</td>\n",
       "      <td>7.271704</td>\n",
       "      <td>3167.0</td>\n",
       "      <td>8.060856</td>\n",
       "      <td>31.796653</td>\n",
       "      <td>43.195453</td>\n",
       "      <td>54.152195</td>\n",
       "      <td>70.382065</td>\n",
       "      <td>158.0</td>\n",
       "      <td>5.068904</td>\n",
       "      <td>4.988949</td>\n",
       "      <td>8.060540</td>\n",
       "      <td>3167.0</td>\n",
       "      <td>1438</td>\n",
       "      <td>0.802188</td>\n",
       "    </tr>\n",
       "    <tr>\n",
       "      <th>AAACCCAAGCACACAG-1-1-0-0</th>\n",
       "      <td>9591-2D</td>\n",
       "      <td>0</td>\n",
       "      <td>mouse</td>\n",
       "      <td>2030</td>\n",
       "      <td>7.616284</td>\n",
       "      <td>5085.0</td>\n",
       "      <td>8.534247</td>\n",
       "      <td>28.456244</td>\n",
       "      <td>40.255654</td>\n",
       "      <td>50.855457</td>\n",
       "      <td>66.096362</td>\n",
       "      <td>255.0</td>\n",
       "      <td>5.545177</td>\n",
       "      <td>5.014749</td>\n",
       "      <td>8.534050</td>\n",
       "      <td>5085.0</td>\n",
       "      <td>2030</td>\n",
       "      <td>1.280009</td>\n",
       "    </tr>\n",
       "    <tr>\n",
       "      <th>AAACCCAAGGCATCTT-1-1-0-0</th>\n",
       "      <td>9591-2D</td>\n",
       "      <td>0</td>\n",
       "      <td>mouse</td>\n",
       "      <td>1581</td>\n",
       "      <td>7.366445</td>\n",
       "      <td>3452.0</td>\n",
       "      <td>8.146998</td>\n",
       "      <td>32.097335</td>\n",
       "      <td>43.134415</td>\n",
       "      <td>53.418308</td>\n",
       "      <td>68.684820</td>\n",
       "      <td>213.0</td>\n",
       "      <td>5.365976</td>\n",
       "      <td>6.170336</td>\n",
       "      <td>8.146709</td>\n",
       "      <td>3452.0</td>\n",
       "      <td>1581</td>\n",
       "      <td>0.853211</td>\n",
       "    </tr>\n",
       "    <tr>\n",
       "      <th>AAACCCAAGGGTAGCT-1-1-0-0</th>\n",
       "      <td>9591-2D</td>\n",
       "      <td>0</td>\n",
       "      <td>mouse</td>\n",
       "      <td>2930</td>\n",
       "      <td>7.983099</td>\n",
       "      <td>9941.0</td>\n",
       "      <td>9.204523</td>\n",
       "      <td>34.513630</td>\n",
       "      <td>46.604969</td>\n",
       "      <td>55.577910</td>\n",
       "      <td>67.629011</td>\n",
       "      <td>885.0</td>\n",
       "      <td>6.786717</td>\n",
       "      <td>8.902525</td>\n",
       "      <td>9.204423</td>\n",
       "      <td>9941.0</td>\n",
       "      <td>2930</td>\n",
       "      <td>2.027462</td>\n",
       "    </tr>\n",
       "    <tr>\n",
       "      <th>AAACCCACACACGGTC-1-1-0-0</th>\n",
       "      <td>9591-2D</td>\n",
       "      <td>0</td>\n",
       "      <td>mouse</td>\n",
       "      <td>650</td>\n",
       "      <td>6.478510</td>\n",
       "      <td>1089.0</td>\n",
       "      <td>6.993933</td>\n",
       "      <td>32.690542</td>\n",
       "      <td>43.801653</td>\n",
       "      <td>58.677686</td>\n",
       "      <td>86.225895</td>\n",
       "      <td>51.0</td>\n",
       "      <td>3.951244</td>\n",
       "      <td>4.683196</td>\n",
       "      <td>6.993015</td>\n",
       "      <td>1089.0</td>\n",
       "      <td>650</td>\n",
       "      <td>0.255509</td>\n",
       "    </tr>\n",
       "    <tr>\n",
       "      <th>...</th>\n",
       "      <td>...</td>\n",
       "      <td>...</td>\n",
       "      <td>...</td>\n",
       "      <td>...</td>\n",
       "      <td>...</td>\n",
       "      <td>...</td>\n",
       "      <td>...</td>\n",
       "      <td>...</td>\n",
       "      <td>...</td>\n",
       "      <td>...</td>\n",
       "      <td>...</td>\n",
       "      <td>...</td>\n",
       "      <td>...</td>\n",
       "      <td>...</td>\n",
       "      <td>...</td>\n",
       "      <td>...</td>\n",
       "      <td>...</td>\n",
       "      <td>...</td>\n",
       "    </tr>\n",
       "    <tr>\n",
       "      <th>TTTGTTGGTAGCTAAA-1-1-0-0</th>\n",
       "      <td>9591-2D</td>\n",
       "      <td>0</td>\n",
       "      <td>mouse</td>\n",
       "      <td>3308</td>\n",
       "      <td>8.104401</td>\n",
       "      <td>11144.0</td>\n",
       "      <td>9.318747</td>\n",
       "      <td>29.872577</td>\n",
       "      <td>41.358579</td>\n",
       "      <td>51.390883</td>\n",
       "      <td>64.348528</td>\n",
       "      <td>451.0</td>\n",
       "      <td>6.113682</td>\n",
       "      <td>4.047021</td>\n",
       "      <td>9.318657</td>\n",
       "      <td>11144.0</td>\n",
       "      <td>3308</td>\n",
       "      <td>2.719731</td>\n",
       "    </tr>\n",
       "    <tr>\n",
       "      <th>TTTGTTGGTTGCTCGG-1-1-0-0</th>\n",
       "      <td>9591-2D</td>\n",
       "      <td>0</td>\n",
       "      <td>mouse</td>\n",
       "      <td>546</td>\n",
       "      <td>6.304449</td>\n",
       "      <td>970.0</td>\n",
       "      <td>6.878326</td>\n",
       "      <td>38.556701</td>\n",
       "      <td>51.340206</td>\n",
       "      <td>64.329897</td>\n",
       "      <td>95.257732</td>\n",
       "      <td>122.0</td>\n",
       "      <td>4.812184</td>\n",
       "      <td>12.577319</td>\n",
       "      <td>6.877296</td>\n",
       "      <td>970.0</td>\n",
       "      <td>546</td>\n",
       "      <td>0.196757</td>\n",
       "    </tr>\n",
       "    <tr>\n",
       "      <th>TTTGTTGTCCACTTTA-1-1-0-0</th>\n",
       "      <td>9591-2D</td>\n",
       "      <td>0</td>\n",
       "      <td>mouse</td>\n",
       "      <td>433</td>\n",
       "      <td>6.073045</td>\n",
       "      <td>594.0</td>\n",
       "      <td>6.388561</td>\n",
       "      <td>30.639731</td>\n",
       "      <td>43.939394</td>\n",
       "      <td>60.774411</td>\n",
       "      <td>100.000000</td>\n",
       "      <td>23.0</td>\n",
       "      <td>3.178054</td>\n",
       "      <td>3.872054</td>\n",
       "      <td>6.386879</td>\n",
       "      <td>594.0</td>\n",
       "      <td>433</td>\n",
       "      <td>0.159965</td>\n",
       "    </tr>\n",
       "    <tr>\n",
       "      <th>TTTGTTGTCCCGTTGT-1-1-0-0</th>\n",
       "      <td>9591-2D</td>\n",
       "      <td>0</td>\n",
       "      <td>mouse</td>\n",
       "      <td>1063</td>\n",
       "      <td>6.969791</td>\n",
       "      <td>1920.0</td>\n",
       "      <td>7.560601</td>\n",
       "      <td>30.729167</td>\n",
       "      <td>41.197917</td>\n",
       "      <td>52.343750</td>\n",
       "      <td>70.677083</td>\n",
       "      <td>75.0</td>\n",
       "      <td>4.330733</td>\n",
       "      <td>3.906250</td>\n",
       "      <td>7.560081</td>\n",
       "      <td>1920.0</td>\n",
       "      <td>1063</td>\n",
       "      <td>0.460149</td>\n",
       "    </tr>\n",
       "    <tr>\n",
       "      <th>TTTGTTGTCGAGTACT-1-1-0-0</th>\n",
       "      <td>9591-2D</td>\n",
       "      <td>0</td>\n",
       "      <td>mouse</td>\n",
       "      <td>1525</td>\n",
       "      <td>7.330405</td>\n",
       "      <td>4407.0</td>\n",
       "      <td>8.391176</td>\n",
       "      <td>40.231450</td>\n",
       "      <td>52.847742</td>\n",
       "      <td>62.695711</td>\n",
       "      <td>76.741548</td>\n",
       "      <td>406.0</td>\n",
       "      <td>6.008813</td>\n",
       "      <td>9.212616</td>\n",
       "      <td>8.390949</td>\n",
       "      <td>4407.0</td>\n",
       "      <td>1525</td>\n",
       "      <td>0.851219</td>\n",
       "    </tr>\n",
       "  </tbody>\n",
       "</table>\n",
       "<p>16747 rows × 18 columns</p>\n",
       "</div>"
      ],
      "text/plain": [
       "                         sample_id sample_nr  donor  n_genes_by_counts  \\\n",
       "AAACCCAAGATCACCT-1-1-0-0   9591-2D         0  mouse               1438   \n",
       "AAACCCAAGCACACAG-1-1-0-0   9591-2D         0  mouse               2030   \n",
       "AAACCCAAGGCATCTT-1-1-0-0   9591-2D         0  mouse               1581   \n",
       "AAACCCAAGGGTAGCT-1-1-0-0   9591-2D         0  mouse               2930   \n",
       "AAACCCACACACGGTC-1-1-0-0   9591-2D         0  mouse                650   \n",
       "...                            ...       ...    ...                ...   \n",
       "TTTGTTGGTAGCTAAA-1-1-0-0   9591-2D         0  mouse               3308   \n",
       "TTTGTTGGTTGCTCGG-1-1-0-0   9591-2D         0  mouse                546   \n",
       "TTTGTTGTCCACTTTA-1-1-0-0   9591-2D         0  mouse                433   \n",
       "TTTGTTGTCCCGTTGT-1-1-0-0   9591-2D         0  mouse               1063   \n",
       "TTTGTTGTCGAGTACT-1-1-0-0   9591-2D         0  mouse               1525   \n",
       "\n",
       "                          log1p_n_genes_by_counts  total_counts  \\\n",
       "AAACCCAAGATCACCT-1-1-0-0                 7.271704        3167.0   \n",
       "AAACCCAAGCACACAG-1-1-0-0                 7.616284        5085.0   \n",
       "AAACCCAAGGCATCTT-1-1-0-0                 7.366445        3452.0   \n",
       "AAACCCAAGGGTAGCT-1-1-0-0                 7.983099        9941.0   \n",
       "AAACCCACACACGGTC-1-1-0-0                 6.478510        1089.0   \n",
       "...                                           ...           ...   \n",
       "TTTGTTGGTAGCTAAA-1-1-0-0                 8.104401       11144.0   \n",
       "TTTGTTGGTTGCTCGG-1-1-0-0                 6.304449         970.0   \n",
       "TTTGTTGTCCACTTTA-1-1-0-0                 6.073045         594.0   \n",
       "TTTGTTGTCCCGTTGT-1-1-0-0                 6.969791        1920.0   \n",
       "TTTGTTGTCGAGTACT-1-1-0-0                 7.330405        4407.0   \n",
       "\n",
       "                          log1p_total_counts  pct_counts_in_top_50_genes  \\\n",
       "AAACCCAAGATCACCT-1-1-0-0            8.060856                   31.796653   \n",
       "AAACCCAAGCACACAG-1-1-0-0            8.534247                   28.456244   \n",
       "AAACCCAAGGCATCTT-1-1-0-0            8.146998                   32.097335   \n",
       "AAACCCAAGGGTAGCT-1-1-0-0            9.204523                   34.513630   \n",
       "AAACCCACACACGGTC-1-1-0-0            6.993933                   32.690542   \n",
       "...                                      ...                         ...   \n",
       "TTTGTTGGTAGCTAAA-1-1-0-0            9.318747                   29.872577   \n",
       "TTTGTTGGTTGCTCGG-1-1-0-0            6.878326                   38.556701   \n",
       "TTTGTTGTCCACTTTA-1-1-0-0            6.388561                   30.639731   \n",
       "TTTGTTGTCCCGTTGT-1-1-0-0            7.560601                   30.729167   \n",
       "TTTGTTGTCGAGTACT-1-1-0-0            8.391176                   40.231450   \n",
       "\n",
       "                          pct_counts_in_top_100_genes  \\\n",
       "AAACCCAAGATCACCT-1-1-0-0                    43.195453   \n",
       "AAACCCAAGCACACAG-1-1-0-0                    40.255654   \n",
       "AAACCCAAGGCATCTT-1-1-0-0                    43.134415   \n",
       "AAACCCAAGGGTAGCT-1-1-0-0                    46.604969   \n",
       "AAACCCACACACGGTC-1-1-0-0                    43.801653   \n",
       "...                                               ...   \n",
       "TTTGTTGGTAGCTAAA-1-1-0-0                    41.358579   \n",
       "TTTGTTGGTTGCTCGG-1-1-0-0                    51.340206   \n",
       "TTTGTTGTCCACTTTA-1-1-0-0                    43.939394   \n",
       "TTTGTTGTCCCGTTGT-1-1-0-0                    41.197917   \n",
       "TTTGTTGTCGAGTACT-1-1-0-0                    52.847742   \n",
       "\n",
       "                          pct_counts_in_top_200_genes  \\\n",
       "AAACCCAAGATCACCT-1-1-0-0                    54.152195   \n",
       "AAACCCAAGCACACAG-1-1-0-0                    50.855457   \n",
       "AAACCCAAGGCATCTT-1-1-0-0                    53.418308   \n",
       "AAACCCAAGGGTAGCT-1-1-0-0                    55.577910   \n",
       "AAACCCACACACGGTC-1-1-0-0                    58.677686   \n",
       "...                                               ...   \n",
       "TTTGTTGGTAGCTAAA-1-1-0-0                    51.390883   \n",
       "TTTGTTGGTTGCTCGG-1-1-0-0                    64.329897   \n",
       "TTTGTTGTCCACTTTA-1-1-0-0                    60.774411   \n",
       "TTTGTTGTCCCGTTGT-1-1-0-0                    52.343750   \n",
       "TTTGTTGTCGAGTACT-1-1-0-0                    62.695711   \n",
       "\n",
       "                          pct_counts_in_top_500_genes  total_counts_mt  \\\n",
       "AAACCCAAGATCACCT-1-1-0-0                    70.382065            158.0   \n",
       "AAACCCAAGCACACAG-1-1-0-0                    66.096362            255.0   \n",
       "AAACCCAAGGCATCTT-1-1-0-0                    68.684820            213.0   \n",
       "AAACCCAAGGGTAGCT-1-1-0-0                    67.629011            885.0   \n",
       "AAACCCACACACGGTC-1-1-0-0                    86.225895             51.0   \n",
       "...                                               ...              ...   \n",
       "TTTGTTGGTAGCTAAA-1-1-0-0                    64.348528            451.0   \n",
       "TTTGTTGGTTGCTCGG-1-1-0-0                    95.257732            122.0   \n",
       "TTTGTTGTCCACTTTA-1-1-0-0                   100.000000             23.0   \n",
       "TTTGTTGTCCCGTTGT-1-1-0-0                    70.677083             75.0   \n",
       "TTTGTTGTCGAGTACT-1-1-0-0                    76.741548            406.0   \n",
       "\n",
       "                          log1p_total_counts_mt  pct_counts_mt  log_counts  \\\n",
       "AAACCCAAGATCACCT-1-1-0-0               5.068904       4.988949    8.060540   \n",
       "AAACCCAAGCACACAG-1-1-0-0               5.545177       5.014749    8.534050   \n",
       "AAACCCAAGGCATCTT-1-1-0-0               5.365976       6.170336    8.146709   \n",
       "AAACCCAAGGGTAGCT-1-1-0-0               6.786717       8.902525    9.204423   \n",
       "AAACCCACACACGGTC-1-1-0-0               3.951244       4.683196    6.993015   \n",
       "...                                         ...            ...         ...   \n",
       "TTTGTTGGTAGCTAAA-1-1-0-0               6.113682       4.047021    9.318657   \n",
       "TTTGTTGGTTGCTCGG-1-1-0-0               4.812184      12.577319    6.877296   \n",
       "TTTGTTGTCCACTTTA-1-1-0-0               3.178054       3.872054    6.386879   \n",
       "TTTGTTGTCCCGTTGT-1-1-0-0               4.330733       3.906250    7.560081   \n",
       "TTTGTTGTCGAGTACT-1-1-0-0               6.008813       9.212616    8.390949   \n",
       "\n",
       "                          n_counts  n_genes  size_factors  \n",
       "AAACCCAAGATCACCT-1-1-0-0    3167.0     1438      0.802188  \n",
       "AAACCCAAGCACACAG-1-1-0-0    5085.0     2030      1.280009  \n",
       "AAACCCAAGGCATCTT-1-1-0-0    3452.0     1581      0.853211  \n",
       "AAACCCAAGGGTAGCT-1-1-0-0    9941.0     2930      2.027462  \n",
       "AAACCCACACACGGTC-1-1-0-0    1089.0      650      0.255509  \n",
       "...                            ...      ...           ...  \n",
       "TTTGTTGGTAGCTAAA-1-1-0-0   11144.0     3308      2.719731  \n",
       "TTTGTTGGTTGCTCGG-1-1-0-0     970.0      546      0.196757  \n",
       "TTTGTTGTCCACTTTA-1-1-0-0     594.0      433      0.159965  \n",
       "TTTGTTGTCCCGTTGT-1-1-0-0    1920.0     1063      0.460149  \n",
       "TTTGTTGTCGAGTACT-1-1-0-0    4407.0     1525      0.851219  \n",
       "\n",
       "[16747 rows x 18 columns]"
      ]
     },
     "execution_count": 8,
     "metadata": {},
     "output_type": "execute_result"
    }
   ],
   "source": [
    "adata_read = sc.read_h5ad('../data/adata/processed_adata1.h5ad')\n",
    "adata_read.obs"
   ]
  },
  {
   "cell_type": "code",
   "execution_count": 9,
   "id": "62d80a38-56ed-403c-9969-d933e183daec",
   "metadata": {
    "pycharm": {
     "name": "#%%\n"
    }
   },
   "outputs": [],
   "source": [
    "adata = adata_read.copy()"
   ]
  },
  {
   "cell_type": "code",
   "execution_count": 10,
   "id": "459410ff-f947-4ba5-94c7-4bb33868b6bc",
   "metadata": {
    "pycharm": {
     "name": "#%%\n"
    }
   },
   "outputs": [],
   "source": [
    "adata.layers['counts'] = adata.X"
   ]
  },
  {
   "cell_type": "code",
   "execution_count": 18,
   "id": "412f413e-ffb4-43a8-8ad0-960c54259b36",
   "metadata": {},
   "outputs": [],
   "source": [
    "adata.obs['group'] = adata.obs['louvain_r0.5'].astype('string')"
   ]
  },
  {
   "cell_type": "code",
   "execution_count": 20,
   "id": "1dbaf3ad-c48a-4f42-a808-ce51f7e21f2d",
   "metadata": {
    "pycharm": {
     "name": "#%%\n"
    }
   },
   "outputs": [],
   "source": [
    "# find DE genes by t-test\n",
    "sc.tl.rank_genes_groups(adata, 'group', method='t-test', key_added = \"t-test\")"
   ]
  },
  {
   "cell_type": "code",
   "execution_count": 21,
   "id": "c2524c05-656d-4d51-9fb8-9e3dca8b53aa",
   "metadata": {},
   "outputs": [],
   "source": [
    "names0 = adata.uns['t-test']['names']['0']\n",
    "pvals0 = adata.uns['t-test']['pvals']['0']\n",
    "adj_pvals0 = adata.uns['t-test']['pvals_adj']['0']\n",
    "logfc0 = adata.uns['t-test']['logfoldchanges']['0']\n",
    "\n",
    "names1 = adata.uns['t-test']['names']['1']\n",
    "pvals1 = adata.uns['t-test']['pvals']['1']\n",
    "adj_pvals1 = adata.uns['t-test']['pvals_adj']['1']\n",
    "logfc1 = adata.uns['t-test']['logfoldchanges']['1']\n",
    "\n",
    "names2 = adata.uns['t-test']['names']['2']\n",
    "pvals2 = adata.uns['t-test']['pvals']['2']\n",
    "adj_pvals2 = adata.uns['t-test']['pvals_adj']['2']\n",
    "logfc2 = adata.uns['t-test']['logfoldchanges']['2']\n",
    "\n",
    "names3 = adata.uns['t-test']['names']['3']\n",
    "pvals3 = adata.uns['t-test']['pvals']['3']\n",
    "adj_pvals3 = adata.uns['t-test']['pvals_adj']['3']\n",
    "logfc3 = adata.uns['t-test']['logfoldchanges']['3']\n",
    "\n",
    "names4 = adata.uns['t-test']['names']['4']\n",
    "pvals4 = adata.uns['t-test']['pvals']['4']\n",
    "adj_pvals4 = adata.uns['t-test']['pvals_adj']['4']\n",
    "logfc4 = adata.uns['t-test']['logfoldchanges']['4']\n",
    "\n",
    "# Create some Pandas dataframes from some data.\n",
    "df0 = pd.DataFrame({'Gene Names': names0, 'PVAL': pvals0, 'Adjusted PVAL': adj_pvals0, 'logFC': logfc0})\n",
    "df1 = pd.DataFrame({'Gene Names': names1, 'PVAL': pvals1, 'Adjusted PVAL': adj_pvals1, 'logFC': logfc1})\n",
    "df2 = pd.DataFrame({'Gene Names': names2, 'PVAL': pvals2, 'Adjusted PVAL': adj_pvals2, 'logFC': logfc2})\n",
    "df3 = pd.DataFrame({'Gene Names': names3, 'PVAL': pvals3, 'Adjusted PVAL': adj_pvals3, 'logFC': logfc3})\n",
    "df4 = pd.DataFrame({'Gene Names': names4, 'PVAL': pvals4, 'Adjusted PVAL': adj_pvals4, 'logFC': logfc4})\n",
    "\n",
    "# Create a Pandas Excel writer using XlsxWriter as the engine.\n",
    "writer = pd.ExcelWriter('../results/task2/9591-2D/9591-2D_de_genes.xlsx', engine='xlsxwriter')\n",
    "\n",
    "# Write each dataframe to a different worksheet.\n",
    "df0.to_excel(writer, sheet_name='Cluster0')\n",
    "df1.to_excel(writer, sheet_name='Cluster1')\n",
    "df2.to_excel(writer, sheet_name='Cluster2')\n",
    "df3.to_excel(writer, sheet_name='Cluster3')\n",
    "df4.to_excel(writer, sheet_name='Cluster4')\n",
    "\n",
    "# Close the Pandas Excel writer and output the Excel file.\n",
    "writer.save()"
   ]
  },
  {
   "cell_type": "code",
   "execution_count": 22,
   "id": "eeb5559a-7cc0-4e44-a8f3-bfb851e5c174",
   "metadata": {},
   "outputs": [
    {
     "data": {
      "text/plain": [
       "AAACCCAAGATCACCT-1-1-0-0    1\n",
       "AAACCCAAGCACACAG-1-1-0-0    1\n",
       "AAACCCAAGGCATCTT-1-1-0-0    1\n",
       "AAACCCAAGGGTAGCT-1-1-0-0    1\n",
       "AAACCCACACACGGTC-1-1-0-0    0\n",
       "                           ..\n",
       "TTTGTTGGTAGCTAAA-1-1-0-0    1\n",
       "TTTGTTGGTTGCTCGG-1-1-0-0    2\n",
       "TTTGTTGTCCACTTTA-1-1-0-0    2\n",
       "TTTGTTGTCCCGTTGT-1-1-0-0    0\n",
       "TTTGTTGTCGAGTACT-1-1-0-0    3\n",
       "Name: group, Length: 16747, dtype: category\n",
       "Categories (5, string): [0, 1, 2, 3, 4]"
      ]
     },
     "execution_count": 22,
     "metadata": {},
     "output_type": "execute_result"
    }
   ],
   "source": [
    "adata.obs['group']"
   ]
  },
  {
   "cell_type": "code",
   "execution_count": 23,
   "id": "fa0c2acc-5852-4eff-a7ca-2b3def02c0f3",
   "metadata": {},
   "outputs": [],
   "source": [
    "celltype_condition0 = '0'\n",
    "celltype_condition1 = '1'\n",
    "celltype_condition2 = '2'\n",
    "celltype_condition3 = '3'\n",
    "celltype_condition4 = '4'"
   ]
  },
  {
   "cell_type": "code",
   "execution_count": 24,
   "id": "c395fb8b-c91b-42e4-8c23-5beb0921617c",
   "metadata": {},
   "outputs": [],
   "source": [
    "celltype_condition = celltype_condition4"
   ]
  },
  {
   "cell_type": "code",
   "execution_count": 26,
   "id": "45d4a370-649f-4057-96c5-801ab8c2eae2",
   "metadata": {},
   "outputs": [
    {
     "data": {
      "text/plain": [
       "array(['Rpl13', 'Rpl6', 'Rps4x', ..., 'Fosb', 'Krt19', 'Spp1'],\n",
       "      dtype=object)"
      ]
     },
     "execution_count": 26,
     "metadata": {},
     "output_type": "execute_result"
    }
   ],
   "source": [
    "adata.uns['t-test']['names'][celltype_condition]"
   ]
  },
  {
   "cell_type": "code",
   "execution_count": 27,
   "id": "abfb3fb6-7ed8-416e-8e92-08b773a1c556",
   "metadata": {
    "pycharm": {
     "name": "#%%\n"
    }
   },
   "outputs": [],
   "source": [
    "# extract ranked gene names and export to r\n",
    "ranked_genes_ = adata.uns['t-test']['names'][celltype_condition]"
   ]
  },
  {
   "cell_type": "code",
   "execution_count": 28,
   "id": "99170cc5-c7bb-4cd6-9f31-c21855990ed5",
   "metadata": {
    "pycharm": {
     "name": "#%%\n"
    }
   },
   "outputs": [
    {
     "name": "stdout",
     "output_type": "stream",
     "text": [
      "[1] \"Rpl13\" \"Rpl6\"  \"Rps4x\" \"Rps11\" \"Rps24\" \"Rps20\"\n"
     ]
    }
   ],
   "source": [
    "%%R -i ranked_genes_\n",
    "ranked_genes = ranked_genes_\n",
    "head(ranked_genes)"
   ]
  },
  {
   "cell_type": "code",
   "execution_count": 29,
   "id": "b653a7cf-73c9-42ff-aeb4-538f5f864203",
   "metadata": {
    "pycharm": {
     "name": "#%%\n"
    }
   },
   "outputs": [],
   "source": [
    "# compute ranks and export to r\n",
    "stats_ = adata.uns['t-test']['scores'][celltype_condition]"
   ]
  },
  {
   "cell_type": "code",
   "execution_count": 30,
   "id": "fbebb6d5-8e8b-4967-a84e-21ad5070fed1",
   "metadata": {
    "pycharm": {
     "name": "#%%\n"
    }
   },
   "outputs": [],
   "source": [
    "%%R -i stats_\n",
    "stats = stats_"
   ]
  },
  {
   "cell_type": "code",
   "execution_count": 31,
   "id": "6a2782e8-6b51-4b80-9c29-2bc9fcc644a6",
   "metadata": {
    "pycharm": {
     "name": "#%%\n"
    }
   },
   "outputs": [],
   "source": [
    "%%R\n",
    "names(stats) = ranked_genes"
   ]
  },
  {
   "cell_type": "code",
   "execution_count": 32,
   "id": "c7f8f540-007b-4832-8eeb-2fd1758f9d0c",
   "metadata": {
    "scrolled": true,
    "tags": []
   },
   "outputs": [],
   "source": [
    "%R -o stats"
   ]
  },
  {
   "cell_type": "code",
   "execution_count": 33,
   "id": "10e022a6-8bcd-406e-9558-c4b173e69f00",
   "metadata": {},
   "outputs": [],
   "source": [
    "stats_df = pd.DataFrame(stats, index=ranked_genes_, columns=['Stats'])"
   ]
  },
  {
   "cell_type": "markdown",
   "id": "b6791030-b353-4687-9716-6b76815b1f61",
   "metadata": {
    "pycharm": {
     "name": "#%% md\n"
    }
   },
   "source": [
    "### Cluster-level gene set enrichment analysis with fgsea"
   ]
  },
  {
   "cell_type": "code",
   "execution_count": 34,
   "id": "67c7a620-d8ea-4dd2-934e-9b08b667e89c",
   "metadata": {},
   "outputs": [],
   "source": [
    "# MARK THESE GENE SETS LATER IN THE EXCEL TABLE\n",
    "\n",
    "### Cluster 0\n",
    "# HALLMARK_TNFA_SIGNALING_VIA_NFKB\n",
    "# HALLMARK_TGF_BETA_SIGNALING\n",
    "\n",
    "### Cluster 1\n",
    "# HALLMARK_MYC_TARGETS_V1\n",
    "\n",
    "### Custer 2\n",
    "# HALLMARK_HYPOXIA\n",
    "# HALLMARK_GLYCOLYSIS\n",
    "# HALLMARK_MTORC1_SIGNALING\n",
    "# HALLMARK_FATTY_ACID_METABOLISM\n",
    "\n",
    "### Cluster 3\n",
    "# HALLMARK_G2M_CHECKPOINT\n",
    "# HALLMARK_MITOTIC_SPINDLE\n",
    "\n",
    "### Cluster 4\n",
    "# HALLMARK_E2F_TARGETS\n",
    "# HALLMARK_G2M_CHECKPOINT"
   ]
  },
  {
   "cell_type": "code",
   "execution_count": 35,
   "id": "73809db4-9f99-462f-b115-a61cb3a176b1",
   "metadata": {
    "pycharm": {
     "name": "#%%\n"
    }
   },
   "outputs": [],
   "source": [
    "%%R\n",
    "# pathways <- gmtPathways('../data/Hallmark/9591_2D/Cluster0/HALLMARK_TNFA_SIGNALING_VIA_NFKB.v7.5.1.gmt')\n",
    "all_pathways <- gmtPathways('../data/Hallmark/h.all.v7.5.1.symbols.gmt')"
   ]
  },
  {
   "cell_type": "code",
   "execution_count": 36,
   "id": "73af1751-fe78-4c56-96c1-e0284bb426f9",
   "metadata": {},
   "outputs": [],
   "source": [
    "%%R\n",
    "my_pathways <- all_pathways['HALLMARK_MITOTIC_SPINDLE']\n",
    "my_pathways <- all_pathways"
   ]
  },
  {
   "cell_type": "code",
   "execution_count": 37,
   "id": "c8b491f5-8d37-44dc-8f11-61101d496548",
   "metadata": {},
   "outputs": [
    {
     "name": "stderr",
     "output_type": "stream",
     "text": [
      "100%|█████████████████████████████████████████████████████████████████████████████████████████████████████████████████████████████████████████████████████████████████████████████| 1/1 [00:00<00:00,  3.29it/s]\n"
     ]
    },
    {
     "data": {
      "text/html": [
       "<div>\n",
       "<style scoped>\n",
       "    .dataframe tbody tr th:only-of-type {\n",
       "        vertical-align: middle;\n",
       "    }\n",
       "\n",
       "    .dataframe tbody tr th {\n",
       "        vertical-align: top;\n",
       "    }\n",
       "\n",
       "    .dataframe thead th {\n",
       "        text-align: right;\n",
       "    }\n",
       "</style>\n",
       "<table border=\"1\" class=\"dataframe\">\n",
       "  <thead>\n",
       "    <tr style=\"text-align: right;\">\n",
       "      <th></th>\n",
       "      <th>external_gene_name</th>\n",
       "      <th>mouse_ensembl_gene_id</th>\n",
       "      <th>human_ensembl_gene_id</th>\n",
       "      <th>hgnc_symbol</th>\n",
       "    </tr>\n",
       "  </thead>\n",
       "  <tbody>\n",
       "    <tr>\n",
       "      <th>0</th>\n",
       "      <td>Tert</td>\n",
       "      <td>ENSMUSG00000021611</td>\n",
       "      <td>ENSG00000164362</td>\n",
       "      <td>TERT</td>\n",
       "    </tr>\n",
       "    <tr>\n",
       "      <th>1</th>\n",
       "      <td>Trp53</td>\n",
       "      <td>ENSMUSG00000059552</td>\n",
       "      <td>ENSG00000141510</td>\n",
       "      <td>TP53</td>\n",
       "    </tr>\n",
       "  </tbody>\n",
       "</table>\n",
       "</div>"
      ],
      "text/plain": [
       "  external_gene_name mouse_ensembl_gene_id human_ensembl_gene_id hgnc_symbol\n",
       "0               Tert    ENSMUSG00000021611       ENSG00000164362        TERT\n",
       "1              Trp53    ENSMUSG00000059552       ENSG00000141510        TP53"
      ]
     },
     "execution_count": 37,
     "metadata": {},
     "output_type": "execute_result"
    }
   ],
   "source": [
    "from pyorthomap import FindOrthologs \n",
    "# then create the find orthogues object using correct datasets and attributes\n",
    "# use help(FindOrthologs)\n",
    "hs2mm = FindOrthologs(\n",
    "          host = 'http://www.ensembl.org',\n",
    "          mart = 'ENSEMBL_MART_ENSEMBL',\n",
    "          from_dataset = 'hsapiens_gene_ensembl',\n",
    "          to_dataset = 'mmusculus_gene_ensembl',\n",
    "          from_filters = 'hgnc_symbol',\n",
    "          from_values = ['TP53', 'TERT'],\n",
    "          to_attributes = ['external_gene_name'],\n",
    "          to_homolog_attribute = 'mmusculus_homolog_ensembl_gene',\n",
    "          from_gene_id_name = 'human_ensembl_gene_id',\n",
    "          to_gene_id_name = 'mouse_ensembl_gene_id'\n",
    "    )\n",
    "    \n",
    "hs2mm.map()"
   ]
  },
  {
   "cell_type": "code",
   "execution_count": 38,
   "id": "c0725569-1e36-445b-ac08-22fe2c3fcde2",
   "metadata": {},
   "outputs": [
    {
     "name": "stderr",
     "output_type": "stream",
     "text": [
      "100%|███████████████████████████████████████████████████████████████████████████████████████████████████████████████████████████████████████████████████████████████████████████| 36/36 [00:04<00:00,  8.46it/s]\n"
     ]
    }
   ],
   "source": [
    "from pyorthomap import findOrthologsMmHs, findOrthologsHsMm\n",
    "orthologies_mmhs = findOrthologsMmHs(from_filters = 'external_gene_name',\n",
    "                  from_values = ranked_genes_).map()\n",
    "                  # from_values = [list(stats_df.index)]).map() # [stats.gene.names]).map()"
   ]
  },
  {
   "cell_type": "code",
   "execution_count": 39,
   "id": "ee7b6dec-42b0-4b1d-8844-a34873bdfcab",
   "metadata": {},
   "outputs": [],
   "source": [
    "%%R -i orthologies_mmhs\n",
    "\n",
    "# reorder the conversion table by names(stats)\n",
    "# mm2hs <- mm2hs[match(names(stats), mm2hs$external_gene_name),]\n",
    "orthologies_mmhs <- orthologies_mmhs[match(names(stats), orthologies_mmhs$external_gene_name),]\n",
    "keep <- !is.na(orthologies_mmhs$hgnc_symbol)\n",
    "stats <- stats[keep]\n",
    "names(stats) <- orthologies_mmhs$hgnc_symbol[keep]\n",
    "# names(stats)"
   ]
  },
  {
   "cell_type": "code",
   "execution_count": 40,
   "id": "130874cb-9ace-4bdd-bcab-1b7cc477a25e",
   "metadata": {},
   "outputs": [],
   "source": [
    "%%R -o stats_names\n",
    "stats_names <- names(stats)"
   ]
  },
  {
   "cell_type": "code",
   "execution_count": 41,
   "id": "7ac4988e-de19-4be0-9322-1d8db7460dbb",
   "metadata": {},
   "outputs": [
    {
     "data": {
      "text/html": [
       "\n",
       "        <span>StrVector with 10095 elements.</span>\n",
       "        <table>\n",
       "        <tbody>\n",
       "          <tr>\n",
       "          \n",
       "            <td>\n",
       "            'RPL13'\n",
       "            </td>\n",
       "          \n",
       "            <td>\n",
       "            'RPL6'\n",
       "            </td>\n",
       "          \n",
       "            <td>\n",
       "            'RPS11'\n",
       "            </td>\n",
       "          \n",
       "            <td>\n",
       "            ...\n",
       "            </td>\n",
       "          \n",
       "            <td>\n",
       "            'FOSB'\n",
       "            </td>\n",
       "          \n",
       "            <td>\n",
       "            'KRT19'\n",
       "            </td>\n",
       "          \n",
       "            <td>\n",
       "            'SPP1'\n",
       "            </td>\n",
       "          \n",
       "          </tr>\n",
       "        </tbody>\n",
       "        </table>\n",
       "        "
      ],
      "text/plain": [
       "<rpy2.robjects.vectors.StrVector object at 0x7f42672f92c0> [RTYPES.STRSXP]\n",
       "R classes: ('character',)\n",
       "['RPL13', 'RPL6', 'RPS11', 'RPSA', ..., 'UBC', 'FOSB', 'KRT19', 'SPP1']"
      ]
     },
     "execution_count": 41,
     "metadata": {},
     "output_type": "execute_result"
    }
   ],
   "source": [
    "stats_names"
   ]
  },
  {
   "cell_type": "code",
   "execution_count": 42,
   "id": "83f22189-43dc-467c-86f5-1e288ec9a454",
   "metadata": {},
   "outputs": [],
   "source": [
    "%%R\n",
    "names(stats) <- stats_names"
   ]
  },
  {
   "cell_type": "code",
   "execution_count": 43,
   "id": "e7a28d35-2d55-4aad-ad4f-9cdde36b162c",
   "metadata": {
    "pycharm": {
     "name": "#%%\n"
    }
   },
   "outputs": [],
   "source": [
    "%%R \n",
    "fgseaRes <- fgsea(pathways = my_pathways, \n",
    "                  stats    = stats,\n",
    "                  eps      = 0.0,\n",
    "                  minSize  = 15,\n",
    "                  maxSize  = 500)"
   ]
  },
  {
   "cell_type": "code",
   "execution_count": 44,
   "id": "3e4c8a46-4779-4669-b025-7017731ae0f1",
   "metadata": {},
   "outputs": [],
   "source": [
    "%%R\n",
    "pathway <- fgseaRes[[1]]\n",
    "pval <- fgseaRes[[2]]\n",
    "padj <- fgseaRes[[3]]\n",
    "log2err <- fgseaRes[[4]]\n",
    "ES <- fgseaRes[[5]]\n",
    "NES <- fgseaRes[[6]]\n",
    "size <- fgseaRes[[7]]"
   ]
  },
  {
   "cell_type": "code",
   "execution_count": 45,
   "id": "dbf029e8-0ed7-496a-bddd-3b9f9ae2b3a2",
   "metadata": {},
   "outputs": [],
   "source": [
    "%R -o pathway\n",
    "%R -o pval\n",
    "%R -o padj\n",
    "%R -o log2err\n",
    "%R -o ES\n",
    "%R -o NES\n",
    "%R -o size"
   ]
  },
  {
   "cell_type": "code",
   "execution_count": 46,
   "id": "82e12246-afa4-4eee-ba96-a0179aaa6309",
   "metadata": {},
   "outputs": [],
   "source": [
    "df = pd.DataFrame({'Pathway': np.array(pathway), 'PVAL': np.array(pval), 'Adjusted PVAL': np.array(padj), 'log2 Error': np.array(log2err), 'ES': np.array(ES), 'NES': np.array(NES), 'Size': np.array(size)})\n",
    "df.to_excel('../results/task2/9591-2D/9591-2D_fgsea_cluster' + celltype_condition + '.xlsx')"
   ]
  },
  {
   "cell_type": "code",
   "execution_count": 47,
   "id": "4967062a-79b1-414a-8bc1-7add16fe25d2",
   "metadata": {
    "pycharm": {
     "name": "#%%\n"
    }
   },
   "outputs": [],
   "source": [
    "%%R\n",
    "ggdat <- fgseaRes[order(fgseaRes$padj, decreasing=FALSE), ][1:20,]"
   ]
  },
  {
   "cell_type": "code",
   "execution_count": 48,
   "id": "7ab5cbdc-738e-4aa2-8bf5-65cd5f9b6a97",
   "metadata": {},
   "outputs": [],
   "source": [
    "%%R\n",
    "saveRDS(ggdat, file = \"cache/9591-2D/ggdat4.rds\")\n",
    "saveRDS(pathway, file = \"cache/9591-2D/pathway4.rds\")\n",
    "saveRDS(padj, file = \"cache/9591-2D/padj4.rds\")\n"
   ]
  },
  {
   "cell_type": "code",
   "execution_count": 49,
   "id": "d352da20-3af5-405d-b2fc-3ac094039d1b",
   "metadata": {},
   "outputs": [
    {
     "data": {
      "image/png": "[encoded data removed]"
     },
     "metadata": {},
     "output_type": "display_data"
    }
   ],
   "source": [
    "%%R\n",
    "ggplot(ggdat, aes(x=reorder(pathway, -log10(padj)), y = -log10(padj))) +\n",
    "    geom_bar(stat=\"identity\", fill = \"#51A0D5\") + coord_flip() +\n",
    "    xlab('Pathway') + theme_minimal()"
   ]
  },
  {
   "cell_type": "code",
   "execution_count": null,
   "id": "e1e078fc-d989-42af-8ec0-52cbd0d9a418",
   "metadata": {},
   "outputs": [],
   "source": [
    "%%R\n",
    "ggplot2(ggdat, aes(x=reorder(pathway, -log10(padj)), y = -log10(padj))) +\n",
    "    geom_bar(stat=\"identity\", fill = \"#51A0D5\") + coord_flip() +\n",
    "    xlab('Pathway') + theme_minimal()"
   ]
  },
  {
   "cell_type": "code",
   "execution_count": 47,
   "id": "7fe73fc6-8ef0-44da-be0d-e3207d5c4c97",
   "metadata": {},
   "outputs": [],
   "source": [
    "save_dir = '../results/task2/9591-2D/9591-2D_fgsea_cluster' + celltype_condition + '.pdf'"
   ]
  },
  {
   "cell_type": "code",
   "execution_count": 48,
   "id": "22825565-de79-40ab-8c5a-5927bf00e052",
   "metadata": {},
   "outputs": [
    {
     "data": {
      "text/plain": [
       "'\\n%%R -i save_dir\\nggsave(\\n  # \\'git/isf_pancreatic_cancer/latest_notebook/figures/fgsea/9591-2D/cluster0.pdf\\',\\n  save_dir,\\n  plot = last_plot(),\\n  device = NULL,\\n  path = NULL,\\n  scale = 1,\\n  width = NA,\\n  height = NA,\\n  units = c(\"in\", \"cm\", \"mm\", \"px\"),\\n  dpi = 300,\\n  limitsize = TRUE,\\n  bg = NULL,\\n)\\n'"
      ]
     },
     "execution_count": 48,
     "metadata": {},
     "output_type": "execute_result"
    }
   ],
   "source": [
    "\"\"\"\n",
    "%%R -i save_dir\n",
    "ggsave(\n",
    "  # 'git/isf_pancreatic_cancer/latest_notebook/figures/fgsea/9591-2D/cluster0.pdf',\n",
    "  save_dir,\n",
    "  plot = last_plot(),\n",
    "  device = NULL,\n",
    "  path = NULL,\n",
    "  scale = 1,\n",
    "  width = NA,\n",
    "  height = NA,\n",
    "  units = c(\"in\", \"cm\", \"mm\", \"px\"),\n",
    "  dpi = 300,\n",
    "  limitsize = TRUE,\n",
    "  bg = NULL,\n",
    ")\n",
    "\"\"\""
   ]
  },
  {
   "cell_type": "code",
   "execution_count": 49,
   "id": "9174bb17-42c8-4a5a-ab56-748431c5c365",
   "metadata": {
    "pycharm": {
     "name": "#%%\n"
    }
   },
   "outputs": [
    {
     "name": "stdout",
     "output_type": "stream",
     "text": [
      "                   pathway         pval         padj  log2err         ES\n",
      "1: HALLMARK_MYC_TARGETS_V1 6.903036e-25 3.313457e-23 1.295123 -0.5807401\n",
      "         NES size                            leadingEdge\n",
      "1: -2.218419  191 SLC25A3,LDHA,RPS3,SERBP1,RPL18,RAN,...\n"
     ]
    }
   ],
   "source": [
    "%%R\n",
    "head(ggdat, n=1)"
   ]
  },
  {
   "cell_type": "code",
   "execution_count": 50,
   "id": "85f5a9ff-2d96-45ca-a5b5-7ff0bd25d35a",
   "metadata": {
    "pycharm": {
     "name": "#%%\n"
    }
   },
   "outputs": [],
   "source": [
    "del adata.uns\n",
    "del adata.obs"
   ]
  },
  {
   "cell_type": "code",
   "execution_count": 51,
   "id": "24ac2194-a115-4ed6-8c12-dfc0c6d825b1",
   "metadata": {
    "pycharm": {
     "name": "#%%\n"
    }
   },
   "outputs": [],
   "source": [
    "# put counts back\n",
    "adata.X = adata.layers['counts']"
   ]
  }
 ],
 "metadata": {
  "kernelspec": {
   "display_name": "DA-SCIB",
   "language": "python",
   "name": "scib-pipeline-r4.0"
  },
  "language_info": {
   "codemirror_mode": {
    "name": "ipython",
    "version": 3
   },
   "file_extension": ".py",
   "mimetype": "text/x-python",
   "name": "python",
   "nbconvert_exporter": "python",
   "pygments_lexer": "ipython3",
   "version": "3.7.12"
  }
 },
 "nbformat": 4,
 "nbformat_minor": 5
}
